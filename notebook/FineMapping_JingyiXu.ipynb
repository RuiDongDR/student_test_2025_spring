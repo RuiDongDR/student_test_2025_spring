{
 "cells": [
  {
   "cell_type": "markdown",
   "id": "24dbfce9",
   "metadata": {},
   "source": [
    "**Name: Jingyi Xu**"
   ]
  },
  {
   "cell_type": "markdown",
   "id": "afa08134",
   "metadata": {},
   "source": [
    "# Summary of the SuSiE method\n",
    "\n",
    "The **SuSiE** (_Sum of Single Effects_) method is a novel approach to variable selection in linear regression, particularly designed to quantify uncertainty in the selection of variables when some variables are highly correlated. The primary goal is to report as many **credible sets** (_a level ρ credible set is defined to be a subset of variables that has probability ρ or greater of containing at least one effect variable_) as the data support, each with as few variables as possible. Advanced from the **SER** (_single effects regression_) model, it operates by modeling the overall effect vector of regression coefficients as a sum of single-effect vectors, where each vector contains only one non-zero element. This structure allows for a simple and iterative fitting procedure known as iterative Bayesian stepwise selection (IBSS), which is a Bayesian version of traditional stepwise selection methods. Unlike conventional methods that select a single best variable at each step, SuSiE computes a distribution over potential variables, capturing the uncertainty associated with variable selection. This approach not only maintains computational simplicity and speed but also provides a credible set of variables for each selection, enhancing the interpretability of results. SuSiE is particularly effective in scenarios where variables are highly correlated and the detectable effects are sparse, making it well-suited for applications in genetic fine mapping."
   ]
  },
  {
   "cell_type": "markdown",
   "id": "75a7af4b",
   "metadata": {},
   "source": [
    "# Overview\n",
    "\n",
    "This fine-mapping tutorial was developed using simulated data shipped with [`susieR`](https://github.com/stephenslab/susieR) package.\n",
    "The simulated data contains simulated phenotype matrix $Y$ in $N \\approx 600$ individuals. \n",
    "The goal is to identify from the genotype matrix $X_{N\\times P}$ ($P=1000$) the genetic variables that directly cause changes in the phenotypic values.\n",
    "\n",
    "**There are several questions throughout the notebook, and please answer each of them by adding cells (in Markdown or R) under the question and keep the code you use there as well.**"
   ]
  },
  {
   "cell_type": "markdown",
   "id": "13ba1be7",
   "metadata": {},
   "source": [
    "The simulated data-set is [available\n",
    "here](https://github.com/stephenslab/susieR/blob/master/data/N3finemapping.RData),\n",
    "as part of the `susieR` package. In this tutorial we will first explore the data with conventional univariate association analysis,\n",
    "then perform preliminary fine-mapping analysis under simplified \n",
    "assumptions to illustrate the idea of statistical fine-mapping, and finally use the R package `susieR` to perform formal Bayesian fine-mapping analysis.\n",
    "We will also discuss fine-mapping using association summary statistics."
   ]
  },
  {
   "cell_type": "markdown",
   "id": "23958c0d",
   "metadata": {
    "tags": []
   },
   "source": [
    "# Explore the association data-set\n",
    "\n",
    "First let's install the package `susieR` according to [its Github repo](https://github.com/stephenslab/susieR) and `corrplot` to draw some plots later. This may take a while."
   ]
  },
  {
   "cell_type": "code",
   "execution_count": 1,
   "id": "256ce56a-bc81-4ea8-9b48-e0d56fcc17d3",
   "metadata": {
    "vscode": {
     "languageId": "r"
    }
   },
   "outputs": [
    {
     "name": "stderr",
     "output_type": "stream",
     "text": [
      "also installing the dependencies 'irlba', 'RcppArmadillo', 'mixsqp', 'reshape'\n",
      "\n",
      "\n"
     ]
    },
    {
     "name": "stdout",
     "output_type": "stream",
     "text": [
      "\n",
      "The downloaded binary packages are in\n",
      "\t/var/folders/f9/1k8_8ryd75b1wll9n2_t2jqc0000gn/T//RtmpFkynhH/downloaded_packages\n",
      "\n",
      "The downloaded binary packages are in\n",
      "\t/var/folders/f9/1k8_8ryd75b1wll9n2_t2jqc0000gn/T//RtmpFkynhH/downloaded_packages\n"
     ]
    }
   ],
   "source": [
    "install.packages(\"susieR\")\n",
    "install.packages(\"corrplot\")"
   ]
  },
  {
   "cell_type": "markdown",
   "id": "a5502763-da10-4323-bb9e-a58cf70e6c9e",
   "metadata": {},
   "source": [
    "Please execute the following code cell to load the simulated data."
   ]
  },
  {
   "cell_type": "code",
   "execution_count": 1,
   "id": "784e4004",
   "metadata": {
    "tags": [],
    "vscode": {
     "languageId": "r"
    }
   },
   "outputs": [
    {
     "name": "stderr",
     "output_type": "stream",
     "text": [
      "corrplot 0.94 loaded\n",
      "\n"
     ]
    }
   ],
   "source": [
    "rm(list=ls())\n",
    "library(susieR)\n",
    "library(corrplot)\n",
    "data(N3finemapping)\n",
    "attach(N3finemapping)"
   ]
  },
  {
   "cell_type": "code",
   "execution_count": 2,
   "id": "8abce956",
   "metadata": {
    "tags": [],
    "vscode": {
     "languageId": "r"
    }
   },
   "outputs": [
    {
     "data": {
      "text/html": [
       "'N3finemapping'"
      ],
      "text/latex": [
       "'N3finemapping'"
      ],
      "text/markdown": [
       "'N3finemapping'"
      ],
      "text/plain": [
       "[1] \"N3finemapping\""
      ]
     },
     "metadata": {},
     "output_type": "display_data"
    }
   ],
   "source": [
    "ls()"
   ]
  },
  {
   "cell_type": "markdown",
   "id": "2bf71300",
   "metadata": {},
   "source": [
    "The loaded dataset, `N3finemapping`, contains regression data $X$ and $Y$, \n",
    "along with some other relevant attributes in the context of genetic studies. It also\n",
    "contains the \"true\" regression coefficients the data is simulated from."
   ]
  },
  {
   "cell_type": "code",
   "execution_count": 3,
   "id": "a3071f4a",
   "metadata": {
    "tags": [],
    "vscode": {
     "languageId": "r"
    }
   },
   "outputs": [
    {
     "data": {
      "text/html": [
       "<style>\n",
       ".list-inline {list-style: none; margin:0; padding: 0}\n",
       ".list-inline>li {display: inline-block}\n",
       ".list-inline>li:not(:last-child)::after {content: \"\\00b7\"; padding: 0 .5ex}\n",
       "</style>\n",
       "<ol class=list-inline><li>'X'</li><li>'chrom'</li><li>'pos'</li><li>'true_coef'</li><li>'residual_variance'</li><li>'Y'</li><li>'allele_freq'</li><li>'V'</li></ol>\n"
      ],
      "text/latex": [
       "\\begin{enumerate*}\n",
       "\\item 'X'\n",
       "\\item 'chrom'\n",
       "\\item 'pos'\n",
       "\\item 'true\\_coef'\n",
       "\\item 'residual\\_variance'\n",
       "\\item 'Y'\n",
       "\\item 'allele\\_freq'\n",
       "\\item 'V'\n",
       "\\end{enumerate*}\n"
      ],
      "text/markdown": [
       "1. 'X'\n",
       "2. 'chrom'\n",
       "3. 'pos'\n",
       "4. 'true_coef'\n",
       "5. 'residual_variance'\n",
       "6. 'Y'\n",
       "7. 'allele_freq'\n",
       "8. 'V'\n",
       "\n",
       "\n"
      ],
      "text/plain": [
       "[1] \"X\"                 \"chrom\"             \"pos\"              \n",
       "[4] \"true_coef\"         \"residual_variance\" \"Y\"                \n",
       "[7] \"allele_freq\"       \"V\"                "
      ]
     },
     "metadata": {},
     "output_type": "display_data"
    }
   ],
   "source": [
    "names(N3finemapping)"
   ]
  },
  {
   "cell_type": "code",
   "execution_count": 4,
   "id": "2840032b-6ca3-40fc-a4d7-5f10933075dc",
   "metadata": {
    "tags": [],
    "vscode": {
     "languageId": "r"
    }
   },
   "outputs": [
    {
     "data": {
      "text/html": [
       "<style>\n",
       ".list-inline {list-style: none; margin:0; padding: 0}\n",
       ".list-inline>li {display: inline-block}\n",
       ".list-inline>li:not(:last-child)::after {content: \"\\00b7\"; padding: 0 .5ex}\n",
       "</style>\n",
       "<ol class=list-inline><li>574</li><li>1001</li></ol>\n"
      ],
      "text/latex": [
       "\\begin{enumerate*}\n",
       "\\item 574\n",
       "\\item 1001\n",
       "\\end{enumerate*}\n"
      ],
      "text/markdown": [
       "1. 574\n",
       "2. 1001\n",
       "\n",
       "\n"
      ],
      "text/plain": [
       "[1]  574 1001"
      ]
     },
     "metadata": {},
     "output_type": "display_data"
    },
    {
     "data": {
      "text/html": [
       "<table class=\"dataframe\">\n",
       "<caption>A matrix: 6 x 1001 of type dbl</caption>\n",
       "<tbody>\n",
       "\t<tr><td>-0.02090592</td><td> 0.4738676</td><td>0.1620209</td><td>-0.05226481</td><td>-0.1637631</td><td>-0.026472457</td><td>0.1689895</td><td>-0.2421603</td><td>0.1585366</td><td>-0.1567944</td><td>...</td><td>-0.4006969</td><td>-1.09254036</td><td>-0.4119346</td><td>-0.2857143</td><td>-0.3885017</td><td>-0.3919861</td><td>-0.3969795</td><td>-0.02090592</td><td>-0.2844549</td><td>-0.3883308</td></tr>\n",
       "\t<tr><td>-0.02090592</td><td>-0.5261324</td><td>1.1620209</td><td>-0.05226481</td><td>-0.1637631</td><td> 0.006059281</td><td>1.1689895</td><td>-0.2421603</td><td>1.1585366</td><td>-0.1567944</td><td>...</td><td>-0.4006969</td><td>-1.09254036</td><td>-0.4119346</td><td>-0.2857143</td><td>-0.3885017</td><td>-0.3919861</td><td>-0.3969795</td><td>-0.02090592</td><td>-0.2844549</td><td>-0.3883308</td></tr>\n",
       "\t<tr><td>-0.02090592</td><td>-0.5261324</td><td>1.1620209</td><td>-0.05226481</td><td>-0.1637631</td><td>-0.026472457</td><td>1.1689895</td><td>-0.2421603</td><td>1.1585366</td><td>-0.1567944</td><td>...</td><td> 0.5993031</td><td>-0.09254036</td><td> 0.5880654</td><td>-0.2857143</td><td>-0.3885017</td><td>-0.3919861</td><td> 0.6030205</td><td>-0.02090592</td><td>-0.2844549</td><td>-0.3883308</td></tr>\n",
       "\t<tr><td>-0.02090592</td><td> 0.4738676</td><td>0.1620209</td><td>-0.05226481</td><td>-0.1637631</td><td>-0.026472457</td><td>0.1689895</td><td>-0.2421603</td><td>0.1585366</td><td>-0.1567944</td><td>...</td><td>-0.4006969</td><td>-1.09254036</td><td>-0.4119346</td><td>-0.2857143</td><td>-0.3885017</td><td>-0.3919861</td><td>-0.3969795</td><td>-0.02090592</td><td>-0.2844549</td><td>-0.3883308</td></tr>\n",
       "\t<tr><td>-0.02090592</td><td>-0.5261324</td><td>1.1620209</td><td>-0.05226481</td><td>-0.1637631</td><td>-0.026472457</td><td>1.1689895</td><td>-0.2421603</td><td>1.1585366</td><td>-0.1567944</td><td>...</td><td>-0.4006969</td><td>-1.09254036</td><td>-0.4119346</td><td>-0.2857143</td><td>-0.3885017</td><td>-0.3919861</td><td>-0.3969795</td><td>-0.02090592</td><td>-0.2844549</td><td>-0.3883308</td></tr>\n",
       "\t<tr><td>-0.02090592</td><td>-0.5261324</td><td>0.1620209</td><td>-0.05226481</td><td>-0.1637631</td><td>-0.026472457</td><td>0.1689895</td><td> 0.7578397</td><td>0.1585366</td><td>-0.1567944</td><td>...</td><td>-0.4006969</td><td>-1.09254036</td><td>-0.4119346</td><td>-0.2857143</td><td>-0.3885017</td><td>-0.3919861</td><td>-0.3969795</td><td>-0.02090592</td><td>-0.2844549</td><td>-0.3883308</td></tr>\n",
       "</tbody>\n",
       "</table>\n"
      ],
      "text/latex": [
       "A matrix: 6 x 1001 of type dbl\n",
       "\\begin{tabular}{lllllllllllllllllllll}\n",
       "\t -0.02090592 &  0.4738676 & 0.1620209 & -0.05226481 & -0.1637631 & -0.026472457 & 0.1689895 & -0.2421603 & 0.1585366 & -0.1567944 & ... & -0.4006969 & -1.09254036 & -0.4119346 & -0.2857143 & -0.3885017 & -0.3919861 & -0.3969795 & -0.02090592 & -0.2844549 & -0.3883308\\\\\n",
       "\t -0.02090592 & -0.5261324 & 1.1620209 & -0.05226481 & -0.1637631 &  0.006059281 & 1.1689895 & -0.2421603 & 1.1585366 & -0.1567944 & ... & -0.4006969 & -1.09254036 & -0.4119346 & -0.2857143 & -0.3885017 & -0.3919861 & -0.3969795 & -0.02090592 & -0.2844549 & -0.3883308\\\\\n",
       "\t -0.02090592 & -0.5261324 & 1.1620209 & -0.05226481 & -0.1637631 & -0.026472457 & 1.1689895 & -0.2421603 & 1.1585366 & -0.1567944 & ... &  0.5993031 & -0.09254036 &  0.5880654 & -0.2857143 & -0.3885017 & -0.3919861 &  0.6030205 & -0.02090592 & -0.2844549 & -0.3883308\\\\\n",
       "\t -0.02090592 &  0.4738676 & 0.1620209 & -0.05226481 & -0.1637631 & -0.026472457 & 0.1689895 & -0.2421603 & 0.1585366 & -0.1567944 & ... & -0.4006969 & -1.09254036 & -0.4119346 & -0.2857143 & -0.3885017 & -0.3919861 & -0.3969795 & -0.02090592 & -0.2844549 & -0.3883308\\\\\n",
       "\t -0.02090592 & -0.5261324 & 1.1620209 & -0.05226481 & -0.1637631 & -0.026472457 & 1.1689895 & -0.2421603 & 1.1585366 & -0.1567944 & ... & -0.4006969 & -1.09254036 & -0.4119346 & -0.2857143 & -0.3885017 & -0.3919861 & -0.3969795 & -0.02090592 & -0.2844549 & -0.3883308\\\\\n",
       "\t -0.02090592 & -0.5261324 & 0.1620209 & -0.05226481 & -0.1637631 & -0.026472457 & 0.1689895 &  0.7578397 & 0.1585366 & -0.1567944 & ... & -0.4006969 & -1.09254036 & -0.4119346 & -0.2857143 & -0.3885017 & -0.3919861 & -0.3969795 & -0.02090592 & -0.2844549 & -0.3883308\\\\\n",
       "\\end{tabular}\n"
      ],
      "text/markdown": [
       "\n",
       "A matrix: 6 x 1001 of type dbl\n",
       "\n",
       "| -0.02090592 |  0.4738676 | 0.1620209 | -0.05226481 | -0.1637631 | -0.026472457 | 0.1689895 | -0.2421603 | 0.1585366 | -0.1567944 | ... | -0.4006969 | -1.09254036 | -0.4119346 | -0.2857143 | -0.3885017 | -0.3919861 | -0.3969795 | -0.02090592 | -0.2844549 | -0.3883308 |\n",
       "| -0.02090592 | -0.5261324 | 1.1620209 | -0.05226481 | -0.1637631 |  0.006059281 | 1.1689895 | -0.2421603 | 1.1585366 | -0.1567944 | ... | -0.4006969 | -1.09254036 | -0.4119346 | -0.2857143 | -0.3885017 | -0.3919861 | -0.3969795 | -0.02090592 | -0.2844549 | -0.3883308 |\n",
       "| -0.02090592 | -0.5261324 | 1.1620209 | -0.05226481 | -0.1637631 | -0.026472457 | 1.1689895 | -0.2421603 | 1.1585366 | -0.1567944 | ... |  0.5993031 | -0.09254036 |  0.5880654 | -0.2857143 | -0.3885017 | -0.3919861 |  0.6030205 | -0.02090592 | -0.2844549 | -0.3883308 |\n",
       "| -0.02090592 |  0.4738676 | 0.1620209 | -0.05226481 | -0.1637631 | -0.026472457 | 0.1689895 | -0.2421603 | 0.1585366 | -0.1567944 | ... | -0.4006969 | -1.09254036 | -0.4119346 | -0.2857143 | -0.3885017 | -0.3919861 | -0.3969795 | -0.02090592 | -0.2844549 | -0.3883308 |\n",
       "| -0.02090592 | -0.5261324 | 1.1620209 | -0.05226481 | -0.1637631 | -0.026472457 | 1.1689895 | -0.2421603 | 1.1585366 | -0.1567944 | ... | -0.4006969 | -1.09254036 | -0.4119346 | -0.2857143 | -0.3885017 | -0.3919861 | -0.3969795 | -0.02090592 | -0.2844549 | -0.3883308 |\n",
       "| -0.02090592 | -0.5261324 | 0.1620209 | -0.05226481 | -0.1637631 | -0.026472457 | 0.1689895 |  0.7578397 | 0.1585366 | -0.1567944 | ... | -0.4006969 | -1.09254036 | -0.4119346 | -0.2857143 | -0.3885017 | -0.3919861 | -0.3969795 | -0.02090592 | -0.2844549 | -0.3883308 |\n",
       "\n"
      ],
      "text/plain": [
       "     [,1]        [,2]       [,3]      [,4]        [,5]       [,6]        \n",
       "[1,] -0.02090592  0.4738676 0.1620209 -0.05226481 -0.1637631 -0.026472457\n",
       "[2,] -0.02090592 -0.5261324 1.1620209 -0.05226481 -0.1637631  0.006059281\n",
       "[3,] -0.02090592 -0.5261324 1.1620209 -0.05226481 -0.1637631 -0.026472457\n",
       "[4,] -0.02090592  0.4738676 0.1620209 -0.05226481 -0.1637631 -0.026472457\n",
       "[5,] -0.02090592 -0.5261324 1.1620209 -0.05226481 -0.1637631 -0.026472457\n",
       "[6,] -0.02090592 -0.5261324 0.1620209 -0.05226481 -0.1637631 -0.026472457\n",
       "     [,7]      [,8]       [,9]      [,10]      [,11] [,12]      [,13]      \n",
       "[1,] 0.1689895 -0.2421603 0.1585366 -0.1567944 ...   -0.4006969 -1.09254036\n",
       "[2,] 1.1689895 -0.2421603 1.1585366 -0.1567944 ...   -0.4006969 -1.09254036\n",
       "[3,] 1.1689895 -0.2421603 1.1585366 -0.1567944 ...    0.5993031 -0.09254036\n",
       "[4,] 0.1689895 -0.2421603 0.1585366 -0.1567944 ...   -0.4006969 -1.09254036\n",
       "[5,] 1.1689895 -0.2421603 1.1585366 -0.1567944 ...   -0.4006969 -1.09254036\n",
       "[6,] 0.1689895  0.7578397 0.1585366 -0.1567944 ...   -0.4006969 -1.09254036\n",
       "     [,14]      [,15]      [,16]      [,17]      [,18]      [,19]      \n",
       "[1,] -0.4119346 -0.2857143 -0.3885017 -0.3919861 -0.3969795 -0.02090592\n",
       "[2,] -0.4119346 -0.2857143 -0.3885017 -0.3919861 -0.3969795 -0.02090592\n",
       "[3,]  0.5880654 -0.2857143 -0.3885017 -0.3919861  0.6030205 -0.02090592\n",
       "[4,] -0.4119346 -0.2857143 -0.3885017 -0.3919861 -0.3969795 -0.02090592\n",
       "[5,] -0.4119346 -0.2857143 -0.3885017 -0.3919861 -0.3969795 -0.02090592\n",
       "[6,] -0.4119346 -0.2857143 -0.3885017 -0.3919861 -0.3969795 -0.02090592\n",
       "     [,20]      [,21]     \n",
       "[1,] -0.2844549 -0.3883308\n",
       "[2,] -0.2844549 -0.3883308\n",
       "[3,] -0.2844549 -0.3883308\n",
       "[4,] -0.2844549 -0.3883308\n",
       "[5,] -0.2844549 -0.3883308\n",
       "[6,] -0.2844549 -0.3883308"
      ]
     },
     "metadata": {},
     "output_type": "display_data"
    }
   ],
   "source": [
    "dim(X)\n",
    "head(X)"
   ]
  },
  {
   "cell_type": "markdown",
   "id": "1a52b431-d75f-4e77-b14b-5a792902ba7d",
   "metadata": {},
   "source": [
    "-----------------------------------------"
   ]
  },
  {
   "cell_type": "markdown",
   "id": "8be41725-b9bc-438c-b523-a63a07b9c97e",
   "metadata": {},
   "source": [
    "**Example question: in the genotype matrix `X`, how many individuals and the genetic variants are included? What is the genotype value for the 100th variant of the 21st individual?**"
   ]
  },
  {
   "cell_type": "markdown",
   "id": "b8142825-25c1-4891-b26f-ee96dc15bebf",
   "metadata": {},
   "source": [
    "**Example answer:** The genotype matrix has 574 individuals and 1001 genetic variants. The genotype value for the 100th variant of the 21st individual is 0.4408."
   ]
  },
  {
   "cell_type": "code",
   "execution_count": 5,
   "id": "47592dba-91a1-4bb9-8409-557b704f1a03",
   "metadata": {
    "tags": [],
    "vscode": {
     "languageId": "r"
    }
   },
   "outputs": [
    {
     "data": {
      "text/html": [
       "<style>\n",
       ".list-inline {list-style: none; margin:0; padding: 0}\n",
       ".list-inline>li {display: inline-block}\n",
       ".list-inline>li:not(:last-child)::after {content: \"\\00b7\"; padding: 0 .5ex}\n",
       "</style>\n",
       "<ol class=list-inline><li>574</li><li>1001</li></ol>\n"
      ],
      "text/latex": [
       "\\begin{enumerate*}\n",
       "\\item 574\n",
       "\\item 1001\n",
       "\\end{enumerate*}\n"
      ],
      "text/markdown": [
       "1. 574\n",
       "2. 1001\n",
       "\n",
       "\n"
      ],
      "text/plain": [
       "[1]  574 1001"
      ]
     },
     "metadata": {},
     "output_type": "display_data"
    }
   ],
   "source": [
    "dim(X)"
   ]
  },
  {
   "cell_type": "code",
   "execution_count": 6,
   "id": "1a6af52a",
   "metadata": {
    "tags": [],
    "vscode": {
     "languageId": "r"
    }
   },
   "outputs": [
    {
     "data": {
      "text/html": [
       "0.440766550522648"
      ],
      "text/latex": [
       "0.440766550522648"
      ],
      "text/markdown": [
       "0.440766550522648"
      ],
      "text/plain": [
       "[1] 0.4407666"
      ]
     },
     "metadata": {},
     "output_type": "display_data"
    }
   ],
   "source": [
    "X[21, 100]"
   ]
  },
  {
   "cell_type": "markdown",
   "id": "68e49ecd-e78c-470c-bb8b-999e1d0df3ff",
   "metadata": {},
   "source": [
    "-----------------------------------------"
   ]
  },
  {
   "cell_type": "markdown",
   "id": "7b4f5d11",
   "metadata": {},
   "source": [
    "The phenotype matrix contains values for the 574 individuals for 2 traits,"
   ]
  },
  {
   "cell_type": "code",
   "execution_count": 7,
   "id": "8aa24a7f",
   "metadata": {
    "tags": [],
    "vscode": {
     "languageId": "r"
    }
   },
   "outputs": [
    {
     "data": {
      "text/html": [
       "<style>\n",
       ".list-inline {list-style: none; margin:0; padding: 0}\n",
       ".list-inline>li {display: inline-block}\n",
       ".list-inline>li:not(:last-child)::after {content: \"\\00b7\"; padding: 0 .5ex}\n",
       "</style>\n",
       "<ol class=list-inline><li>574</li><li>2</li></ol>\n"
      ],
      "text/latex": [
       "\\begin{enumerate*}\n",
       "\\item 574\n",
       "\\item 2\n",
       "\\end{enumerate*}\n"
      ],
      "text/markdown": [
       "1. 574\n",
       "2. 2\n",
       "\n",
       "\n"
      ],
      "text/plain": [
       "[1] 574   2"
      ]
     },
     "metadata": {},
     "output_type": "display_data"
    }
   ],
   "source": [
    "dim(Y)"
   ]
  },
  {
   "cell_type": "markdown",
   "id": "66d75fe6",
   "metadata": {},
   "source": [
    "We focus on the first trait, let"
   ]
  },
  {
   "cell_type": "code",
   "execution_count": 8,
   "id": "22139a61",
   "metadata": {
    "tags": [],
    "vscode": {
     "languageId": "r"
    }
   },
   "outputs": [],
   "source": [
    "y = Y[,1]\n",
    "b = true_coef[,1]"
   ]
  },
  {
   "cell_type": "markdown",
   "id": "f62408ff",
   "metadata": {},
   "source": [
    "There are 3 \"causal\" variants for this trait,"
   ]
  },
  {
   "cell_type": "code",
   "execution_count": 9,
   "id": "41ba6e94",
   "metadata": {
    "tags": [],
    "vscode": {
     "languageId": "r"
    }
   },
   "outputs": [
    {
     "data": {
      "text/html": [
       "<style>\n",
       ".list-inline {list-style: none; margin:0; padding: 0}\n",
       ".list-inline>li {display: inline-block}\n",
       ".list-inline>li:not(:last-child)::after {content: \"\\00b7\"; padding: 0 .5ex}\n",
       "</style>\n",
       "<ol class=list-inline><li>403</li><li>653</li><li>773</li></ol>\n"
      ],
      "text/latex": [
       "\\begin{enumerate*}\n",
       "\\item 403\n",
       "\\item 653\n",
       "\\item 773\n",
       "\\end{enumerate*}\n"
      ],
      "text/markdown": [
       "1. 403\n",
       "2. 653\n",
       "3. 773\n",
       "\n",
       "\n"
      ],
      "text/plain": [
       "[1] 403 653 773"
      ]
     },
     "metadata": {},
     "output_type": "display_data"
    }
   ],
   "source": [
    "which(b != 0)"
   ]
  },
  {
   "cell_type": "markdown",
   "id": "4d2f2670-d370-4063-932d-4baac07ab5d9",
   "metadata": {},
   "source": [
    "Note: in this tutorial we will avoid the phrase \"causal\", and use \"effect variable\" to refer to the variants having true non-zero effects on the phenotype."
   ]
  },
  {
   "cell_type": "markdown",
   "id": "148f29d3-ff2b-48cb-92a3-834c076ae1d2",
   "metadata": {},
   "source": [
    "-----------------------------------------"
   ]
  },
  {
   "cell_type": "markdown",
   "id": "8fe05b96",
   "metadata": {},
   "source": [
    "**Question 1: Please use R function `plot` to visualize the true effects vector. What are the effect sizes for these 3 \"causal\" variants?**"
   ]
  },
  {
   "cell_type": "markdown",
   "id": "b9d9cc79-0e9f-44ab-8969-346f55f74d6d",
   "metadata": {
    "tags": []
   },
   "source": [
    "**Answer:**"
   ]
  },
  {
   "cell_type": "markdown",
   "id": "f412a7c5",
   "metadata": {},
   "source": [
    "The effect sizes for the 3 effect variables are: 1.1891722992041, -0.831788980799581, 1.39928773430517"
   ]
  },
  {
   "cell_type": "code",
   "execution_count": 10,
   "id": "51b258e0",
   "metadata": {
    "vscode": {
     "languageId": "r"
    }
   },
   "outputs": [
    {
     "data": {
      "text/html": [
       "<style>\n",
       ".list-inline {list-style: none; margin:0; padding: 0}\n",
       ".list-inline>li {display: inline-block}\n",
       ".list-inline>li:not(:last-child)::after {content: \"\\00b7\"; padding: 0 .5ex}\n",
       "</style>\n",
       "<ol class=list-inline><li>1.1891722992041</li><li>-0.831788980799581</li><li>1.39928773430517</li></ol>\n"
      ],
      "text/latex": [
       "\\begin{enumerate*}\n",
       "\\item 1.1891722992041\n",
       "\\item -0.831788980799581\n",
       "\\item 1.39928773430517\n",
       "\\end{enumerate*}\n"
      ],
      "text/markdown": [
       "1. 1.1891722992041\n",
       "2. -0.831788980799581\n",
       "3. 1.39928773430517\n",
       "\n",
       "\n"
      ],
      "text/plain": [
       "[1]  1.189172 -0.831789  1.399288"
      ]
     },
     "metadata": {},
     "output_type": "display_data"
    },
    {
     "data": {
      "image/png": "[encoded data removed]",
      "text/plain": [
       "Plot with title \"True Effects Vector\""
      ]
     },
     "metadata": {
      "image/png": {
       "height": 420,
       "width": 420
      }
     },
     "output_type": "display_data"
    }
   ],
   "source": [
    "causal_set = which(b != 0)\n",
    "b[causal_set]\n",
    "plot(x=causal_set, y = b[causal_set], main = \"True Effects Vector\", xlab = \"Genetic Variants\", ylab = \"Effect Size\", col = \"red\", xlim = c(0,1001), ylim = c(-1,1.5))\n",
    "text(x = causal_set, y = b[causal_set], \n",
    "     labels = paste(\"(\", causal_set, \",\", round(b[causal_set], 2), \")\", sep = \"\"), \n",
    "     pos = ifelse(b[causal_set] >= 0, 3, 1), cex = 0.8, col = \"black\")"
   ]
  },
  {
   "cell_type": "markdown",
   "id": "e99f033d-566e-445f-a5df-3ca10424e22d",
   "metadata": {},
   "source": [
    "-----------------------------------------"
   ]
  },
  {
   "cell_type": "markdown",
   "id": "068fcf8c",
   "metadata": {},
   "source": [
    "# Association testing via simple linear regression\n",
    "\n",
    "`univariate_regression` function in `susieR` can be used to perform association testing \n",
    "by fitting univariate simple regression for each variable separately.\n",
    "The results are $\\hat{\\beta}$ for effect size estimates, and their standard errors $SE(\\hat{\\beta})$."
   ]
  },
  {
   "cell_type": "code",
   "execution_count": 11,
   "id": "a594a13f",
   "metadata": {
    "tags": [],
    "vscode": {
     "languageId": "r"
    }
   },
   "outputs": [],
   "source": [
    "sumstats <- univariate_regression(X, y)"
   ]
  },
  {
   "cell_type": "markdown",
   "id": "e7de1dab-dc0c-44db-9cd9-60aead675aa8",
   "metadata": {},
   "source": [
    "-----------------------------------------"
   ]
  },
  {
   "cell_type": "markdown",
   "id": "4fbd22c3",
   "metadata": {},
   "source": [
    "**Question 2: Please use R function plot to compare the true effects variable `b` with the estimated effect sizes `sumstats$betahat`. Are they consistent, and why?**"
   ]
  },
  {
   "cell_type": "markdown",
   "id": "2138f4ac-a6de-4d14-9911-8eff53381f21",
   "metadata": {
    "tags": []
   },
   "source": [
    "**Answer:**"
   ]
  },
  {
   "cell_type": "markdown",
   "id": "588c750e",
   "metadata": {},
   "source": [
    "They are not consistent. Univariate regression only uses one variable to estimate y at a time. Because it fails to take the correlation between variables into consideration, the estimated effect sizes deviates from the true coefficients."
   ]
  },
  {
   "cell_type": "code",
   "execution_count": 12,
   "id": "ab32783e",
   "metadata": {
    "vscode": {
     "languageId": "r"
    }
   },
   "outputs": [
    {
     "data": {
      "text/html": [
       "<style>\n",
       ".list-inline {list-style: none; margin:0; padding: 0}\n",
       ".list-inline>li {display: inline-block}\n",
       ".list-inline>li:not(:last-child)::after {content: \"\\00b7\"; padding: 0 .5ex}\n",
       "</style>\n",
       "<ol class=list-inline><li>1.28588954036061</li><li>-1.12605289731095</li><li>1.42120842055517</li></ol>\n"
      ],
      "text/latex": [
       "\\begin{enumerate*}\n",
       "\\item 1.28588954036061\n",
       "\\item -1.12605289731095\n",
       "\\item 1.42120842055517\n",
       "\\end{enumerate*}\n"
      ],
      "text/markdown": [
       "1. 1.28588954036061\n",
       "2. -1.12605289731095\n",
       "3. 1.42120842055517\n",
       "\n",
       "\n"
      ],
      "text/plain": [
       "[1]  1.285890 -1.126053  1.421208"
      ]
     },
     "metadata": {},
     "output_type": "display_data"
    },
    {
     "data": {
      "image/png": "[encoded data removed]",
      "text/plain": [
       "Plot with title \"True Effects Vector\""
      ]
     },
     "metadata": {
      "image/png": {
       "height": 420,
       "width": 420
      }
     },
     "output_type": "display_data"
    }
   ],
   "source": [
    "sumstats$beta[causal_set]\n",
    "plot(x=causal_set, y = b[causal_set], main = \"True Effects Vector\", xlab = \"Genetic Variants\", ylab = \"Effect Size\", col = \"red\", xlim = c(0,1001), ylim = c(-1.5,1.5))\n",
    "par(new=TRUE)\n",
    "plot(x = causal_set, y = sumstats$beta[causal_set], axes = FALSE,xlab = \"\", ylab = \"\", col = \"blue\", xlim = c(0,1001))\n",
    "legend(\"bottomright\", legend = c(\"True Effects\", \"Estimated Effects\"), col = c(\"red\", \"blue\"), lty = 1, cex = 0.8)"
   ]
  },
  {
   "cell_type": "markdown",
   "id": "6f110acf-fe57-4a5c-b419-49d04f00275b",
   "metadata": {},
   "source": [
    "-----------------------------------------"
   ]
  },
  {
   "cell_type": "markdown",
   "id": "f1ac3656",
   "metadata": {},
   "source": [
    "z-scores can be derived from these quantities; $-log_{10}$ p-values can then becomputed from z-scores, "
   ]
  },
  {
   "cell_type": "code",
   "execution_count": 13,
   "id": "22d653f0",
   "metadata": {
    "tags": [],
    "vscode": {
     "languageId": "r"
    }
   },
   "outputs": [],
   "source": [
    "z_scores <- sumstats$betahat / sumstats$sebetahat\n",
    "log10p <- -log10(pchisq(z_scores^2,1,lower.tail=F))"
   ]
  },
  {
   "cell_type": "markdown",
   "id": "bb313298-7a76-4906-95d8-9c1b907a8223",
   "metadata": {},
   "source": [
    "-----------------------------------------"
   ]
  },
  {
   "cell_type": "markdown",
   "id": "bd6292de",
   "metadata": {},
   "source": [
    "**Question 3: How many variables have p-values smaller than $5 \\times 10^{-8}$? How would you interpret those variants based on the univariate association analysis?**\n"
   ]
  },
  {
   "cell_type": "markdown",
   "id": "6f8a4d46-6d8c-41e7-a7b3-750cc5c9b92d",
   "metadata": {
    "tags": []
   },
   "source": [
    "**Answer:**"
   ]
  },
  {
   "cell_type": "markdown",
   "id": "5937cb79",
   "metadata": {},
   "source": [
    "8 variables have p-values smaller than $5 \\times 10^{-8}$.\n",
    "\n",
    "Based on the univariate association analysis, the variants with p-values smaller than  $5 \\times 10^{-8}$ show a statistically significant association with the phenotype. This suggests that these genotypes may have an influential role in the phenotype of interest. While these variants appear to have a strong association with the trait, it’s important to note that this univariate approach only evaluates each variant independently. Thus, potential interactions or combined effects of multiple variants may be overlooked."
   ]
  },
  {
   "cell_type": "code",
   "execution_count": 14,
   "id": "50d85b42",
   "metadata": {
    "vscode": {
     "languageId": "r"
    }
   },
   "outputs": [
    {
     "data": {
      "text/html": [
       "8"
      ],
      "text/latex": [
       "8"
      ],
      "text/markdown": [
       "8"
      ],
      "text/plain": [
       "[1] 8"
      ]
     },
     "metadata": {},
     "output_type": "display_data"
    },
    {
     "data": {
      "text/html": [
       "<style>\n",
       ".list-inline {list-style: none; margin:0; padding: 0}\n",
       ".list-inline>li {display: inline-block}\n",
       ".list-inline>li:not(:last-child)::after {content: \"\\00b7\"; padding: 0 .5ex}\n",
       "</style>\n",
       "<ol class=list-inline><li>653</li><li>666</li><li>667</li><li>773</li><li>776</li><li>777</li><li>794</li><li>800</li></ol>\n"
      ],
      "text/latex": [
       "\\begin{enumerate*}\n",
       "\\item 653\n",
       "\\item 666\n",
       "\\item 667\n",
       "\\item 773\n",
       "\\item 776\n",
       "\\item 777\n",
       "\\item 794\n",
       "\\item 800\n",
       "\\end{enumerate*}\n"
      ],
      "text/markdown": [
       "1. 653\n",
       "2. 666\n",
       "3. 667\n",
       "4. 773\n",
       "5. 776\n",
       "6. 777\n",
       "7. 794\n",
       "8. 800\n",
       "\n",
       "\n"
      ],
      "text/plain": [
       "[1] 653 666 667 773 776 777 794 800"
      ]
     },
     "metadata": {},
     "output_type": "display_data"
    }
   ],
   "source": [
    "p_thres <- -log10(5 * 10**(-8))\n",
    "sum(log10p > p_thres)\n",
    "which(log10p > p_thres)"
   ]
  },
  {
   "cell_type": "markdown",
   "id": "ff2bc11a-878d-4740-a770-af08f78f4113",
   "metadata": {},
   "source": [
    "**Question 4: What's the correlation between these variables (with p-values smaller than $5 \\times 10^{-8}$) in the original genotype data `X`? Draw a correlogram and print out the pair with highest positive correlation. What does it mean for those two variants?**"
   ]
  },
  {
   "cell_type": "markdown",
   "id": "e29efa2c-7592-40bf-ab59-f8ce52a8fd02",
   "metadata": {},
   "source": [
    "**Answer:**"
   ]
  },
  {
   "cell_type": "markdown",
   "id": "b73640f0",
   "metadata": {},
   "source": [
    "The correlation between these variables were summarized in the correlation plot below. Except for #653 genotype, all other pairs of genotype shows a positive correlation between each other. As printed below, the highest positive correlation was observed between variants #777 and #773, with a correlation coefficient of 0.98. This suggests that these variants may share similar biological roles or are influenced by similar mechanisms. Further investigation is needed to explore the underlying reasons for this correlation, including their potential roles in genetic linkage or shared pathways in relation to the trait of interest"
   ]
  },
  {
   "cell_type": "code",
   "execution_count": 15,
   "id": "d65491cf",
   "metadata": {
    "vscode": {
     "languageId": "r"
    }
   },
   "outputs": [
    {
     "data": {
      "text/html": [
       "0.981572576486802"
      ],
      "text/latex": [
       "0.981572576486802"
      ],
      "text/markdown": [
       "0.981572576486802"
      ],
      "text/plain": [
       "[1] 0.9815726"
      ]
     },
     "metadata": {},
     "output_type": "display_data"
    },
    {
     "data": {
      "text/html": [
       "<table class=\"dataframe\">\n",
       "<caption>A matrix: 2 x 2 of type int</caption>\n",
       "<thead>\n",
       "\t<tr><th></th><th scope=col>row</th><th scope=col>col</th></tr>\n",
       "</thead>\n",
       "<tbody>\n",
       "\t<tr><th scope=row>777</th><td>6</td><td>4</td></tr>\n",
       "\t<tr><th scope=row>773</th><td>4</td><td>6</td></tr>\n",
       "</tbody>\n",
       "</table>\n"
      ],
      "text/latex": [
       "A matrix: 2 x 2 of type int\n",
       "\\begin{tabular}{r|ll}\n",
       "  & row & col\\\\\n",
       "\\hline\n",
       "\t777 & 6 & 4\\\\\n",
       "\t773 & 4 & 6\\\\\n",
       "\\end{tabular}\n"
      ],
      "text/markdown": [
       "\n",
       "A matrix: 2 x 2 of type int\n",
       "\n",
       "| <!--/--> | row | col |\n",
       "|---|---|---|\n",
       "| 777 | 6 | 4 |\n",
       "| 773 | 4 | 6 |\n",
       "\n"
      ],
      "text/plain": [
       "    row col\n",
       "777 6   4  \n",
       "773 4   6  "
      ]
     },
     "metadata": {},
     "output_type": "display_data"
    },
    {
     "data": {
      "image/png": "[encoded data removed]",
      "text/plain": [
       "Plot with title \"\""
      ]
     },
     "metadata": {
      "image/png": {
       "height": 420,
       "width": 420
      }
     },
     "output_type": "display_data"
    }
   ],
   "source": [
    "uni_sig <- which(log10p > p_thres)\n",
    "X_sig <- X[,uni_sig]\n",
    "cor_matrix <- cor(X_sig)\n",
    "colnames(cor_matrix) <- uni_sig\n",
    "rownames(cor_matrix) <- uni_sig\n",
    "corrplot(cor_matrix, method = \"color\", type = \"upper\", order = \"hclust\", tl.cex = 0.5, addCoef.col = \"black\", number.cex = 0.5)\n",
    "\n",
    "max_corr <- max(cor_matrix[upper.tri(cor_matrix)],na.rm = TRUE)\n",
    "max_corr_index <- which(cor_matrix == max_corr, arr.ind = TRUE)\n",
    "max_corr\n",
    "max_corr_index"
   ]
  },
  {
   "cell_type": "markdown",
   "id": "130ce7ac-04b2-4147-9a9d-9c6cc6d08629",
   "metadata": {},
   "source": [
    "-----------------------------------------"
   ]
  },
  {
   "cell_type": "markdown",
   "id": "f06fef39",
   "metadata": {},
   "source": [
    "`susieR` package provides a plot function to generate Manhattan plot for the association test results. Notice that the true effect variables are labelled in red (true effects provided to `susie_plot` via setting `b=` parameter),"
   ]
  },
  {
   "cell_type": "code",
   "execution_count": 16,
   "id": "592b5785",
   "metadata": {
    "tags": [],
    "vscode": {
     "languageId": "r"
    }
   },
   "outputs": [
    {
     "data": {
      "image/png": "[encoded data removed]",
      "text/plain": [
       "plot without title"
      ]
     },
     "metadata": {
      "image/png": {
       "height": 420,
       "width": 420
      }
     },
     "output_type": "display_data"
    }
   ],
   "source": [
    "susie_plot(z_scores,y=\"z\",b=b)"
   ]
  },
  {
   "cell_type": "markdown",
   "id": "95d82a8f",
   "metadata": {},
   "source": [
    "As shown on this plot, the \"lead\" SNP (the one with smallest p-value) is indeed one of the true effect variables. However, the 2nd most significant SNP is not one of the other two effect variables, and there are many other SNPs having p-values smaller than $5 \\times 10^{-8}$, a widely accepted significant level threshold for genetic association studies."
   ]
  },
  {
   "cell_type": "markdown",
   "id": "b7ebde88-1534-4f41-9ce2-ade0f329835d",
   "metadata": {},
   "source": [
    "-----------------------------------------"
   ]
  },
  {
   "cell_type": "markdown",
   "id": "d49d3db0-4b78-4ffb-a7ae-d08a88d43c4e",
   "metadata": {},
   "source": [
    "**Question 5: What index is the second most significant SNP? Is it one of the other two true effect variables? What would you say about the relationship between the top and 2nd most significant SNPs?**\n"
   ]
  },
  {
   "cell_type": "markdown",
   "id": "f47aac12-04a8-42f7-a89d-1f3dd777162a",
   "metadata": {},
   "source": [
    "**Answer:**"
   ]
  },
  {
   "cell_type": "markdown",
   "id": "b002ed5a-5cc7-47b4-9348-95ab706e07d0",
   "metadata": {},
   "source": [
    "-----------------------------------------"
   ]
  },
  {
   "cell_type": "markdown",
   "id": "fcc44b7e",
   "metadata": {},
   "source": [
    "# \"One causal variant\" assumption for fine-mapping"
   ]
  },
  {
   "cell_type": "markdown",
   "id": "d132701d",
   "metadata": {},
   "source": [
    "Under the assumption that there is only one true effect in the region of interest, fine-mapping does not have to use linkage disequilibrium (LD) information between variables. It can be performed by simply calculating the likelihood of the association model for each variable separately, then computing the probability for a variable being the true effect as the ratio of its likelihood over the sum of likelihoods over all variables. We use linear regression `lm` in R to compute the log-likelihood,"
   ]
  },
  {
   "cell_type": "code",
   "execution_count": null,
   "id": "f66a3df2",
   "metadata": {
    "tags": [],
    "vscode": {
     "languageId": "r"
    }
   },
   "outputs": [],
   "source": [
    "lliks = sapply(1:ncol(X), function(i) logLik(lm(y~X[,i])))"
   ]
  },
  {
   "cell_type": "markdown",
   "id": "4a00e8f0",
   "metadata": {},
   "source": [
    "Then compute the probability for each variable being the true effect variable: "
   ]
  },
  {
   "cell_type": "code",
   "execution_count": null,
   "id": "005c78b4",
   "metadata": {
    "tags": [],
    "vscode": {
     "languageId": "r"
    }
   },
   "outputs": [],
   "source": [
    "lliks = lliks - max(lliks) # To avoid taking exp on large numbers in the next line, thus improving numerical stability \n",
    "probs = exp(lliks)/sum(exp(lliks))"
   ]
  },
  {
   "cell_type": "markdown",
   "id": "13e55277",
   "metadata": {},
   "source": [
    "We use `susie_plot` function to plot these probabilities computed, and color label the true effect variables:"
   ]
  },
  {
   "cell_type": "code",
   "execution_count": null,
   "id": "80022c3b",
   "metadata": {
    "tags": [],
    "vscode": {
     "languageId": "r"
    }
   },
   "outputs": [],
   "source": [
    "susie_plot(probs, y=\"PIP\", b=b, ylab = \"Prob. true effect (assuming one effect variable)\")"
   ]
  },
  {
   "cell_type": "markdown",
   "id": "4d348e9e",
   "metadata": {},
   "source": [
    "As expected, under the \"one causal variant\" assumption, only the lead SNP is identified with over 80% probability of having a non-zero effect. The other two true effect variables in red are not identified."
   ]
  },
  {
   "cell_type": "markdown",
   "id": "13051911",
   "metadata": {},
   "source": [
    "## 95% credible set for single effect\n",
    "\n",
    "95% credible set (CS) is defined as a set of variables with 95% probability of containing a true effect. By visually examine the plot above, we can see that the lead SNP has over 80% probability being the true effect, and another SNP near it has almost 20% probability of being the true effect. The 95% credible set should thus contain both of them in order for the coverage to exceed 95%. Indeed, we can formally verify this using an internal function `in_CS` to assess if a variable is in a single effect CS. We report the indices of these variables,"
   ]
  },
  {
   "cell_type": "code",
   "execution_count": null,
   "id": "b04034a6-6546-4f1d-abf1-a13563434356",
   "metadata": {
    "tags": [],
    "vscode": {
     "languageId": "r"
    }
   },
   "outputs": [],
   "source": [
    "which(susieR:::in_CS(t(probs), coverage = 0.95) != 0)"
   ]
  },
  {
   "cell_type": "markdown",
   "id": "d278d4f4-1851-4283-b1ad-036b94d30893",
   "metadata": {},
   "source": [
    "These variables indeed correspond to the two non-zero probability variables on the plot above."
   ]
  },
  {
   "cell_type": "markdown",
   "id": "8739da59",
   "metadata": {},
   "source": [
    "# Fine-mapping with individual level data using Sum of Single Effects model\n",
    "\n",
    "When multiple true effects are expected, formal statistical fine-mapping via Bayesian Variable Selection\n",
    "should be performed. We fit a Sum of Single Effects (SuSiE) model implemented in `susieR` package, \n",
    "assuming at most 10 causal variables (although SuSiE is robust to the choice of `L`)."
   ]
  },
  {
   "cell_type": "code",
   "execution_count": null,
   "id": "a2833868",
   "metadata": {
    "tags": [],
    "vscode": {
     "languageId": "r"
    }
   },
   "outputs": [],
   "source": [
    "fitted <- susie(X, y, L = 10)"
   ]
  },
  {
   "cell_type": "markdown",
   "id": "6b81130b",
   "metadata": {},
   "source": [
    "## 95% credible sets for each single effect\n",
    "\n",
    "By default, `susie` function computes 95% CS each containing one effect variable,"
   ]
  },
  {
   "cell_type": "code",
   "execution_count": null,
   "id": "b6a29161",
   "metadata": {
    "tags": [],
    "vscode": {
     "languageId": "r"
    }
   },
   "outputs": [],
   "source": [
    "print(fitted$sets)"
   ]
  },
  {
   "cell_type": "markdown",
   "id": "0c102eac",
   "metadata": {},
   "source": [
    "The 3 true signals have been captured by the 3 CS reported here. The\n",
    "3rd CS contains many variables, including the true causal variable\n",
    "`403`. The minimum absolute correlation is 0.86."
   ]
  },
  {
   "cell_type": "markdown",
   "id": "4e65b052-4170-464c-8679-555da599780a",
   "metadata": {},
   "source": [
    "-----------------------------------"
   ]
  },
  {
   "cell_type": "markdown",
   "id": "136388f7-a2ba-437d-ba08-5bfb50274e4c",
   "metadata": {},
   "source": [
    "**Question 6: Print the credible sets if we use 99% as the coverage. Hint: you may want to check the source code for `susie` function from [here](https://github.com/stephenslab/susieR)**."
   ]
  },
  {
   "cell_type": "markdown",
   "id": "66a1c80f-a8eb-4184-9dfc-da2f92c2dd49",
   "metadata": {},
   "source": [
    "**Answer:**"
   ]
  },
  {
   "cell_type": "markdown",
   "id": "b421822b-ca6d-4114-92d9-57a2798732f0",
   "metadata": {},
   "source": [
    "**Question 7: does higher coverage mean you have larger CS, or smaller CS? Why is that? Please look at the 3rd CS as an example in the two fitted results, and explain why the minimum absolute correlation is lower when the coverage is higher?**"
   ]
  },
  {
   "cell_type": "markdown",
   "id": "a44e1432-5e7a-4036-aecc-7f4ee42640c2",
   "metadata": {},
   "source": [
    "**Answer:**"
   ]
  },
  {
   "cell_type": "markdown",
   "id": "6c04a158-3cf1-4bb0-a40f-777ff355d38a",
   "metadata": {},
   "source": [
    "-----------------------------------"
   ]
  },
  {
   "cell_type": "markdown",
   "id": "0e1511a9",
   "metadata": {},
   "source": [
    "## Posterior inclusion probabilities\n",
    "\n",
    "Here we summarize the fine-mapping results by posterior inclusion\n",
    "probability (PIP):"
   ]
  },
  {
   "cell_type": "code",
   "execution_count": null,
   "id": "741c98b4",
   "metadata": {
    "tags": [],
    "vscode": {
     "languageId": "r"
    }
   },
   "outputs": [],
   "source": [
    "susie_plot(fitted, y=\"PIP\", b=b, add_legend=T)"
   ]
  },
  {
   "cell_type": "markdown",
   "id": "bebcdd11",
   "metadata": {},
   "source": [
    "The true effect variables are colored red, and the three 95% CS identified are\n",
    "circled in different colors. "
   ]
  },
  {
   "cell_type": "markdown",
   "id": "3d76560f-726f-4dde-93d9-ac79b06180a5",
   "metadata": {},
   "source": [
    "-------------------------------------------"
   ]
  },
  {
   "cell_type": "markdown",
   "id": "acd92fde-73e1-412e-a2cf-e392c0508468",
   "metadata": {},
   "source": [
    "**Question 8: Recall the true effect variables we know before running any susie, and for the variable 403, what is the PIP? What's the average PIP of the 3rd CS? Is the PIP for variable 403 higher or lower than the average, and why is that?**"
   ]
  },
  {
   "cell_type": "markdown",
   "id": "7e1ec1a4",
   "metadata": {},
   "source": [
    "Hint: You can use the code below to compare $-log_{10}$ p-value and PIP for the CS containing variable 403:"
   ]
  },
  {
   "cell_type": "markdown",
   "id": "126be6ca-30de-4e9d-9367-237fcc271dc3",
   "metadata": {
    "tags": []
   },
   "source": [
    "```R\n",
    "    i  <- fitted$sets$cs$L3\n",
    "    z3 <- cbind(i,log10p[i],fitted$pip[i])\n",
    "    colnames(z3) <- c('position', '-log10 pvalue', 'PIP')\n",
    "    z3[order(z3[,2], decreasing = TRUE),]\n",
    "```"
   ]
  },
  {
   "cell_type": "markdown",
   "id": "918836fa-d45c-4af9-965b-914513b8d998",
   "metadata": {},
   "source": [
    "**Answer:**"
   ]
  },
  {
   "cell_type": "markdown",
   "id": "098b29b2-506d-4ad2-9113-03d3d2a60e06",
   "metadata": {},
   "source": [
    "***"
   ]
  },
  {
   "cell_type": "markdown",
   "id": "c70db76d",
   "metadata": {},
   "source": [
    "**Question 9: Please rerun the `susie` analysis setting `L=1` to detect a maximum of only one effect across the region. How does the result compare to the previous section of \"one causal effect\" fine-mapping using likelihoods from univariate analysis?**"
   ]
  },
  {
   "cell_type": "markdown",
   "id": "a286e21d-6259-44b9-a5d4-78acd477f777",
   "metadata": {},
   "source": [
    "**Answer:**"
   ]
  },
  {
   "cell_type": "markdown",
   "id": "00c3b66a-eb17-4d2b-b628-74705f233e9e",
   "metadata": {},
   "source": [
    "-------------------------------------------"
   ]
  },
  {
   "cell_type": "markdown",
   "id": "98d9b654",
   "metadata": {},
   "source": [
    "## Choice of prior effect size\n",
    "\n",
    "In SuSiE, the prior effect size is parameterized by the percentage of variance explained by a variable, $h_j^2$. \n",
    "By default, SuSiE estimates $h_j^2$ and uses it as the prior (an empirical Bayes approach). \n",
    "Here we demonstrate fixing the prior effect size to 0.2, i.e., we believe a non-zero effect variable can explain 20% variation in quantitative trait values:"
   ]
  },
  {
   "cell_type": "code",
   "execution_count": null,
   "id": "c1531799",
   "metadata": {
    "tags": [],
    "vscode": {
     "languageId": "r"
    }
   },
   "outputs": [],
   "source": [
    "fitted2 = susie(X, y, L = 10, estimate_prior_variance = FALSE, scaled_prior_variance = 0.2)\n",
    "susie_plot(fitted2, y='PIP', b=b, add_legend=T)"
   ]
  },
  {
   "cell_type": "markdown",
   "id": "1f0b5d99",
   "metadata": {},
   "source": [
    "The result is very similar to when prior effects are estimated. "
   ]
  },
  {
   "cell_type": "markdown",
   "id": "738f1e11-6b0d-40f3-8636-c807c0f89968",
   "metadata": {},
   "source": [
    "-------------------------------------------"
   ]
  },
  {
   "cell_type": "markdown",
   "id": "6682f027",
   "metadata": {},
   "source": [
    "**Question 10: Please change `scaled_prior_variance` to different numbers between 0 and 1, and examine the results. What happens if you set it to 0.001, and why?**"
   ]
  },
  {
   "cell_type": "markdown",
   "id": "7ecc21aa-178b-432d-bc89-e906730abb68",
   "metadata": {},
   "source": [
    "**Answer:**"
   ]
  },
  {
   "cell_type": "markdown",
   "id": "63297879-2c22-4525-8ef4-f371d0b79c68",
   "metadata": {},
   "source": [
    "-------------------------------------------"
   ]
  },
  {
   "cell_type": "markdown",
   "id": "4e58074d",
   "metadata": {},
   "source": [
    "# Fine-mapping with summary statistics via `susie_rss`"
   ]
  },
  {
   "cell_type": "markdown",
   "id": "b2523607",
   "metadata": {},
   "source": [
    "Summary statistics of genetic association studies typically contain effect size ($\\hat{\\beta}$ coefficient from regression), p-value and minor allele frequencies. \n",
    "These information can be used to perform fine-mapping with given an additional input of correlation matrix between variables.\n",
    "The correlation matrix in genetics is typically referred to as LD matrix (LD for linkage disequilibrium). \n",
    "One may use external reference panels to estimate it when this matrix cannot be obtained from samples directly. There is a potential problem using LD from reference panel, and we demonstrated it in the next section.\n",
    "Caution that LD matrix here has to be correlation matrix $r$, not $r^2$ or $|r|$."
   ]
  },
  {
   "cell_type": "markdown",
   "id": "2e3365c2",
   "metadata": {},
   "source": [
    "We have previously computed z-scores for this data-set. The correlation matrix can be computed directly from $X$ matrix, "
   ]
  },
  {
   "cell_type": "code",
   "execution_count": null,
   "id": "8c75160d",
   "metadata": {
    "tags": [],
    "vscode": {
     "languageId": "r"
    }
   },
   "outputs": [],
   "source": [
    "R <- cor(X)"
   ]
  },
  {
   "cell_type": "markdown",
   "id": "a7a36cbf",
   "metadata": {},
   "source": [
    "SuSiE regression with summary statistics is implemented as `susie_rss` function, "
   ]
  },
  {
   "cell_type": "code",
   "execution_count": null,
   "id": "8ea48d91",
   "metadata": {
    "tags": [],
    "vscode": {
     "languageId": "r"
    }
   },
   "outputs": [],
   "source": [
    "fitted_rss <- susie_rss(z_scores, R, L = 10)"
   ]
  },
  {
   "cell_type": "markdown",
   "id": "de034c96",
   "metadata": {},
   "source": [
    "We compare the PIP obtained with previous analysis using individual level data,"
   ]
  },
  {
   "cell_type": "code",
   "execution_count": null,
   "id": "ef2daeef",
   "metadata": {
    "tags": [],
    "vscode": {
     "languageId": "r"
    }
   },
   "outputs": [],
   "source": [
    "plot(fitted$pip, fitted_rss$pip, ylim=c(0,1))"
   ]
  },
  {
   "cell_type": "markdown",
   "id": "c56f43da",
   "metadata": {},
   "source": [
    "The results very much agree. This is expected when the summary statistics are indeed derived from the individual level data."
   ]
  },
  {
   "cell_type": "markdown",
   "id": "afea6031",
   "metadata": {},
   "source": [
    "## Use LD from external reference data"
   ]
  },
  {
   "cell_type": "markdown",
   "id": "bbdff726",
   "metadata": {},
   "source": [
    "When original genotype information is not available, \n",
    "one may use reference panel to estimate LD matrix. \n",
    "False discoveries may occur if the LD pattern from the reference panel does not agree well with the original sample. \n",
    "\n",
    "To illustrate, we randomly generated 500 samples from $N(0,R)$ and treated them as reference panel genotype matrix `X_ref`."
   ]
  },
  {
   "cell_type": "code",
   "execution_count": null,
   "id": "1796a956",
   "metadata": {
    "tags": [],
    "vscode": {
     "languageId": "r"
    }
   },
   "outputs": [],
   "source": [
    "set.seed(1234)\n",
    "tmp = matrix(rnorm(500*1001), 500, 1001)\n",
    "eigenR = eigen(R)\n",
    "eigenR$values[eigenR$values < 1e-10] = 0\n",
    "X_ref = tmp %*% (eigenR$values * t(eigenR$vectors))\n",
    "R_ref = cor(X_ref)"
   ]
  },
  {
   "cell_type": "markdown",
   "id": "ef294c2a",
   "metadata": {},
   "source": [
    "Using `susie_rss` function with LD from reference panel,"
   ]
  },
  {
   "cell_type": "code",
   "execution_count": null,
   "id": "1e588acb",
   "metadata": {
    "tags": [],
    "vscode": {
     "languageId": "r"
    }
   },
   "outputs": [],
   "source": [
    "fitted_rss_ref <- susie_rss(z_scores, R_ref, L = 10)\n",
    "susie_plot(fitted_rss_ref, y=\"PIP\", b=b)"
   ]
  },
  {
   "cell_type": "markdown",
   "id": "3a26c33a-dd8b-4013-9615-43b752d3cf19",
   "metadata": {},
   "source": [
    "-------------------------------------------"
   ]
  },
  {
   "cell_type": "markdown",
   "id": "8d2bacc3",
   "metadata": {},
   "source": [
    "**Question 11: Please compare and comment on the CS reported using reference LD panel versus using the correct LD computed from genotype data. Are there any false discoveries?**"
   ]
  },
  {
   "cell_type": "markdown",
   "id": "f9d564b8-3801-4299-8c0b-8006d89fd944",
   "metadata": {},
   "source": [
    "**Answer:**"
   ]
  },
  {
   "cell_type": "markdown",
   "id": "f67841e9-6e23-4125-8e72-dc7e9bd20818",
   "metadata": {},
   "source": [
    "-------------------------------------------"
   ]
  },
  {
   "cell_type": "markdown",
   "id": "d7fb77c0",
   "metadata": {},
   "source": [
    "We recommend the following modification to the LD matrix when reference panel ($R_{ref}$) are used,\n",
    "$$\n",
    "\\tilde{R} = \\text{cov2cor}((1-w)R_{ref}+ w zz^\\intercal)),\n",
    "$$\n",
    "where z is the original summary statistics. We suggest using $w = 1/n_{ref}$, $n_{ref}$ is the sample size from the reference panel. The modified LD matrix becomes\n",
    "$$\n",
    "\\tilde{R} = \\text{cov2cor}(\\frac{n_{ref}-1}{n_{ref}}R_{ref}+ \\frac{1}{n_{ref}} zz^\\intercal)) = \\text{cov2cor}(\\frac{1}{n_{ref}}(X_{ref}^\\intercal X_{ref}+ zz^\\intercal)),\n",
    "$$\n",
    "where `X_ref` is column-standardized. This modification is implemented in `susie_rss` with parameter `z_ld_weight`:"
   ]
  },
  {
   "cell_type": "code",
   "execution_count": null,
   "id": "ef18ba63",
   "metadata": {
    "tags": [],
    "vscode": {
     "languageId": "r"
    }
   },
   "outputs": [],
   "source": [
    "n_ref = 500\n",
    "fitted_rss_ref_corrected <- susie_rss(z_scores, R_ref, z_ld_weight = 1/n_ref, L = 10)\n",
    "susie_plot(fitted_rss_ref_corrected, y=\"PIP\", b=b)"
   ]
  },
  {
   "cell_type": "markdown",
   "id": "fa627403",
   "metadata": {},
   "source": [
    "***\n",
    "**Question 12: Please compare and comment on the results using adjusted reference LD panel. Is the result improved?**"
   ]
  },
  {
   "cell_type": "markdown",
   "id": "1209786a-dc08-43b5-ac0d-2a76707e795b",
   "metadata": {},
   "source": [
    "**Answer:**"
   ]
  },
  {
   "cell_type": "markdown",
   "id": "1f7b3c86-24d0-44a4-85e0-e27a3c96d7d4",
   "metadata": {},
   "source": [
    "***"
   ]
  },
  {
   "cell_type": "markdown",
   "id": "fa93339b",
   "metadata": {},
   "source": [
    "# Exercise: fine-mapping analysis on a different data-set\n",
    "\n",
    "Please load and analyze another data-set provided in `susieR` package:"
   ]
  },
  {
   "cell_type": "code",
   "execution_count": null,
   "id": "95057aa8",
   "metadata": {
    "tags": [],
    "vscode": {
     "languageId": "r"
    }
   },
   "outputs": [],
   "source": [
    "rm(list=ls())\n",
    "library(susieR)\n",
    "data(N2finemapping)"
   ]
  },
  {
   "cell_type": "markdown",
   "id": "8b2f1783",
   "metadata": {},
   "source": [
    "Please use the same R code for `N3finemapping` data to analyze this new data-set, similarly focusing on the first column of the phenotype matrix as the phenotype of interest. \n",
    "This data-set contains two true effect variables. However, as you are soon to find out in univariate linear regression analysis, **the lead SNP via univariate analysis is neither of the two effect variables**."
   ]
  },
  {
   "cell_type": "markdown",
   "id": "4ec83c5a-df6a-4093-afc8-72ceadaccf49",
   "metadata": {},
   "source": [
    "-------------------------------------------"
   ]
  },
  {
   "cell_type": "markdown",
   "id": "ffca2996-1a40-47e3-bc7b-55f20cdd59fc",
   "metadata": {},
   "source": [
    "**Question 13: please run `susie_rss` on the N2finemapping dataset and report the results below. Does it capture any true effect variant?**"
   ]
  },
  {
   "cell_type": "markdown",
   "id": "a378e666-252f-4a3b-9769-269fe7e84b2f",
   "metadata": {},
   "source": [
    "**Answer:**"
   ]
  },
  {
   "cell_type": "markdown",
   "id": "3c5b0084-ac02-4054-b667-d93d57e372b1",
   "metadata": {},
   "source": [
    "-------------------------------------------"
   ]
  },
  {
   "cell_type": "code",
   "execution_count": null,
   "id": "0e037a23",
   "metadata": {
    "tags": [],
    "vscode": {
     "languageId": "r"
    }
   },
   "outputs": [],
   "source": [
    "sessionInfo()"
   ]
  }
 ],
 "metadata": {
  "authors": [
   {
    "name": "Contact: Gao Wang (wang.gao@columbia.edu)"
   }
  ],
  "kernelspec": {
   "display_name": "R",
   "language": "R",
   "name": "ir"
  },
  "language_info": {
   "codemirror_mode": "r",
   "file_extension": ".r",
   "mimetype": "text/x-r-source",
   "name": "R",
   "pygments_lexer": "r",
   "version": "4.4.1"
  },
  "title": "Statistical fine-mapping in genetics association studies"
 },
 "nbformat": 4,
 "nbformat_minor": 5
}
