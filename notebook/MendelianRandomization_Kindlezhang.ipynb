{
 "cells": [
  {
   "cell_type": "markdown",
   "id": "74d567b3-b2b5-4e8f-b70f-bbd4f3c679d1",
   "metadata": {},
   "source": [
    "# Introduction"
   ]
  },
  {
   "cell_type": "markdown",
   "id": "65efdf25-1816-4cf2-8cb6-5fdfe322229a",
   "metadata": {},
   "source": [
    "Two-sample Mendelian Randomization (MR) is a powerful statistical method used to infer causal relationships between risk factors and health outcomes using genetic data. In this approach, genetic variants associated with an exposure (such as cholesterol levels) are used as instruments to assess their effect on an outcome (like heart disease) in separate, independent samples. By leveraging genetic variants, which are randomly allocated and less influenced by confounding factors, two-sample MR provides a robust way to estimate causal effects and avoid some of the biases present in traditional observational studies.\n",
    "\n",
    "This method involves obtaining summary statistics from two distinct datasets: one for the exposure and one for the outcome. By combining these datasets, researchers can estimate the causal effect of the exposure on the outcome with increased statistical power and precision. Two-sample MR is widely used in public health and biostatistics to provide insights into how modifiable risk factors impact health outcomes, guiding more effective prevention and treatment strategies.\n",
    "\n",
    "In this notebook you will perform a two-sample Mendelian Randomization study. We will apply MR-IVW (Inverse-Variance Weighted) and MR-Egger on a toy dataset to estimate causal effects. MR-IVW combines multiple genetic instruments by weighting them according to their precision, assuming all instruments are valid. In contrast, MR-Egger Regression allows for potential pleiotropy (where instruments affect the outcome through pathways other than the exposure) by including an intercept term to adjust for directional pleiotropy, providing a more flexible approach when there are concerns about instrument validity. At the end there is a bonus question to run five main MR methods all together on the simulated data and analyze the results."
   ]
  },
  {
   "cell_type": "markdown",
   "id": "59aad0a1-bafe-48e1-919c-3e47a6c73a8e",
   "metadata": {},
   "source": [
    "# Load and preprocess the data"
   ]
  },
  {
   "cell_type": "markdown",
   "id": "60c2c061-a784-409a-bc9d-c5568e247647",
   "metadata": {},
   "source": [
    "First please load the data in `../data/MR_genotype_data_with_missing.csv` and `../data/MR_phenotype_data_with_missing.csv` and name them `genotype_data` and `phenotype_data`. Keep the names same before and after the imputation."
   ]
  },
  {
   "cell_type": "markdown",
   "id": "23e49c4e-9f45-4238-87ad-46ac67e10e26",
   "metadata": {
    "kernel": "SoS"
   },
   "source": [
    "***"
   ]
  },
  {
   "cell_type": "markdown",
   "id": "a85fb187-8e52-45c8-b4b7-9f0ee8d24815",
   "metadata": {
    "kernel": "SoS"
   },
   "source": [
    "**Question 1: analyze the pattern of missing data in the phenotype dataset. Are there any specific patterns (e.g., missingness concentrated in certain columns or rows)?**"
   ]
  },
  {
   "cell_type": "markdown",
   "id": "61588667-999e-4351-a947-7b51fbc53496",
   "metadata": {
    "kernel": "SoS"
   },
   "source": [
    "**Answer:**"
   ]
  },
  {
   "cell_type": "code",
   "execution_count": 1,
   "id": "fdff4416-79f3-47f0-90fc-bba47ae12083",
   "metadata": {},
   "outputs": [
    {
     "name": "stderr",
     "output_type": "stream",
     "text": [
      "Warning message:\n",
      "\"package 'ggplot2' was built under R version 4.3.3\"\n",
      "Warning message:\n",
      "\"package 'dplyr' was built under R version 4.3.2\"\n",
      "Warning message:\n",
      "\"package 'stringr' was built under R version 4.3.2\"\n",
      "── \u001b[1mAttaching core tidyverse packages\u001b[22m ──────────────────────────────────────────────────────────────── tidyverse 2.0.0 ──\n",
      "\u001b[32m✔\u001b[39m \u001b[34mdplyr    \u001b[39m 1.1.4     \u001b[32m✔\u001b[39m \u001b[34mreadr    \u001b[39m 2.1.4\n",
      "\u001b[32m✔\u001b[39m \u001b[34mforcats  \u001b[39m 1.0.0     \u001b[32m✔\u001b[39m \u001b[34mstringr  \u001b[39m 1.5.1\n",
      "\u001b[32m✔\u001b[39m \u001b[34mggplot2  \u001b[39m 3.5.1     \u001b[32m✔\u001b[39m \u001b[34mtibble   \u001b[39m 3.2.1\n",
      "\u001b[32m✔\u001b[39m \u001b[34mlubridate\u001b[39m 1.9.2     \u001b[32m✔\u001b[39m \u001b[34mtidyr    \u001b[39m 1.3.0\n",
      "\u001b[32m✔\u001b[39m \u001b[34mpurrr    \u001b[39m 1.0.2     \n",
      "── \u001b[1mConflicts\u001b[22m ────────────────────────────────────────────────────────────────────────────────── tidyverse_conflicts() ──\n",
      "\u001b[31m✖\u001b[39m \u001b[34mdplyr\u001b[39m::\u001b[32mfilter()\u001b[39m masks \u001b[34mstats\u001b[39m::filter()\n",
      "\u001b[31m✖\u001b[39m \u001b[34mdplyr\u001b[39m::\u001b[32mlag()\u001b[39m    masks \u001b[34mstats\u001b[39m::lag()\n",
      "\u001b[36mℹ\u001b[39m Use the conflicted package (\u001b[3m\u001b[34m<http://conflicted.r-lib.org/>\u001b[39m\u001b[23m) to force all conflicts to become errors\n"
     ]
    }
   ],
   "source": [
    "library(tidyverse)"
   ]
  },
  {
   "cell_type": "code",
   "execution_count": 3,
   "id": "c399833d-16dd-4dfa-96c6-7ab9f52ea668",
   "metadata": {},
   "outputs": [],
   "source": [
    "genotype_data = read.csv(\"MR_genotype_data_with_missing.csv\")\n",
    "phenotype_data = read.csv(\"MR_phenotype_data_with_missing.csv\")"
   ]
  },
  {
   "cell_type": "code",
   "execution_count": 4,
   "id": "a609c92f-f523-4c2a-ba06-e5c61c6ffe6c",
   "metadata": {},
   "outputs": [
    {
     "data": {
      "text/html": [
       "FALSE"
      ],
      "text/latex": [
       "FALSE"
      ],
      "text/markdown": [
       "FALSE"
      ],
      "text/plain": [
       "[1] FALSE"
      ]
     },
     "metadata": {},
     "output_type": "display_data"
    },
    {
     "data": {
      "text/html": [
       "TRUE"
      ],
      "text/latex": [
       "TRUE"
      ],
      "text/markdown": [
       "TRUE"
      ],
      "text/plain": [
       "[1] TRUE"
      ]
     },
     "metadata": {},
     "output_type": "display_data"
    },
    {
     "data": {
      "text/html": [
       "TRUE"
      ],
      "text/latex": [
       "TRUE"
      ],
      "text/markdown": [
       "TRUE"
      ],
      "text/plain": [
       "[1] TRUE"
      ]
     },
     "metadata": {},
     "output_type": "display_data"
    },
    {
     "data": {
      "text/html": [
       "FALSE"
      ],
      "text/latex": [
       "FALSE"
      ],
      "text/markdown": [
       "FALSE"
      ],
      "text/plain": [
       "[1] FALSE"
      ]
     },
     "metadata": {},
     "output_type": "display_data"
    }
   ],
   "source": [
    "any(is.na(phenotype_data[,1]))\n",
    "any(is.na(phenotype_data[,2]))\n",
    "any(is.na(phenotype_data[,3]))\n",
    "any(is.na(phenotype_data[,4]))\n",
    "phenotype_data_missing = phenotype_data |> \n",
    "  filter(is.na(Exposure) | is.na(Outcome))"
   ]
  },
  {
   "cell_type": "markdown",
   "id": "c443ae25-0dfd-471e-a11f-cd09967a051c",
   "metadata": {},
   "source": [
    "According to the results, we can find that the missing data is primarily concentrated in the outcome and exposure variables, while there is no significant relationship with gender and age. Therefore, gender and age can be considered as having no influence on the likelihood of missingness."
   ]
  },
  {
   "cell_type": "markdown",
   "id": "90b30c65-63dc-41e1-9aec-b66c6300a769",
   "metadata": {
    "kernel": "SoS"
   },
   "source": [
    "***"
   ]
  },
  {
   "cell_type": "markdown",
   "id": "adbb2c00-d30d-4d75-87af-22fcda3b2056",
   "metadata": {},
   "source": [
    "**Question 2: given the missingness of data, please perform mode imputation for the genotype data and mean imputation for the phenotype data. Report what is the average age after imputation?**"
   ]
  },
  {
   "cell_type": "markdown",
   "id": "e2cf2197-5036-492b-9df1-de25bcf65591",
   "metadata": {
    "kernel": "SoS"
   },
   "source": [
    "**Answer:**"
   ]
  },
  {
   "cell_type": "code",
   "execution_count": 5,
   "id": "a76850cb-42f9-4ebb-b5b6-b90b3775ce12",
   "metadata": {},
   "outputs": [],
   "source": [
    "get_mode <- function(v) {\n",
    "  freq_table <- table(v)\n",
    "  mode_values <-\n",
    "    as.numeric(names(freq_table[freq_table == max(freq_table)]))\n",
    "  return(mode_values)\n",
    "}"
   ]
  },
  {
   "cell_type": "code",
   "execution_count": 6,
   "id": "eea9ad4e-e7ce-46b1-99c6-ce4356cea78c",
   "metadata": {},
   "outputs": [
    {
     "data": {
      "text/html": [
       "FALSE"
      ],
      "text/latex": [
       "FALSE"
      ],
      "text/markdown": [
       "FALSE"
      ],
      "text/plain": [
       "[1] FALSE"
      ]
     },
     "metadata": {},
     "output_type": "display_data"
    }
   ],
   "source": [
    "# impute the genotype data with mode\n",
    "for(i in 2:ncol(genotype_data)) {\n",
    "  X = genotype_data[, i]\n",
    "  genotype_data[, i] =\n",
    "    replace(X, is.na(X), get_mode(genotype_data[, i]))\n",
    "}\n",
    "any(is.na(genotype_data))"
   ]
  },
  {
   "cell_type": "code",
   "execution_count": 7,
   "id": "40d95a27-d1a4-46ea-a94b-b03968e67a35",
   "metadata": {},
   "outputs": [
    {
     "data": {
      "text/html": [
       "FALSE"
      ],
      "text/latex": [
       "FALSE"
      ],
      "text/markdown": [
       "FALSE"
      ],
      "text/plain": [
       "[1] FALSE"
      ]
     },
     "metadata": {},
     "output_type": "display_data"
    },
    {
     "data": {
      "text/html": [
       "49.6543254337334"
      ],
      "text/latex": [
       "49.6543254337334"
      ],
      "text/markdown": [
       "49.6543254337334"
      ],
      "text/plain": [
       "[1] 49.65433"
      ]
     },
     "metadata": {},
     "output_type": "display_data"
    }
   ],
   "source": [
    "# impute the phenotype data with mean\n",
    "for(i in c(2, 3)) {\n",
    "  X = phenotype_data[, i]\n",
    "  phenotype_data[, i] =\n",
    "    replace(X, is.na(X), mean(phenotype_data[, i], na.rm = TRUE))\n",
    "}\n",
    "any(is.na(phenotype_data))\n",
    "mean(phenotype_data[,4])"
   ]
  },
  {
   "cell_type": "markdown",
   "id": "159b13dd-3a89-4815-b805-adb5d8f32591",
   "metadata": {},
   "source": [
    "The average age after imputation is 49.6 years old."
   ]
  },
  {
   "cell_type": "markdown",
   "id": "94376021-48f0-4740-82fb-369a822e458c",
   "metadata": {
    "kernel": "SoS"
   },
   "source": [
    "***"
   ]
  },
  {
   "cell_type": "markdown",
   "id": "87d6b7de-d872-40c9-89f0-6b7e494a3f1e",
   "metadata": {},
   "source": [
    "# Instrument selection\n",
    "\n",
    "Now we can use the genotype data to calculate SNP-exposure associations (i.e., estimate the beta values for SNPs). Basically you can do a linear regression between the exposure and each variant and collect the coefficients:"
   ]
  },
  {
   "cell_type": "code",
   "execution_count": null,
   "id": "ecdb3007-ff03-4fbb-8a7c-0814e13dccac",
   "metadata": {
    "tags": []
   },
   "outputs": [],
   "source": [
    "snp_exposure_results <- data.frame(SNP = colnames(genotype_data)[-1],\n",
    "                                    Beta = numeric(ncol(genotype_data) - 1),\n",
    "                                    SE = numeric(ncol(genotype_data) - 1))\n",
    "\n",
    "for (snp in colnames(genotype_data)[-1]) {\n",
    "  genotype <- genotype_data[[snp]]\n",
    "  exposure <- phenotype_data$Exposure\n",
    "  fit <- lm(exposure ~ genotype)\n",
    "  snp_exposure_results$Beta[snp_exposure_results$SNP == snp] <- coef(fit)[2]\n",
    "  snp_exposure_results$SE[snp_exposure_results$SNP == snp] <- summary(fit)$coefficients[2, 2]\n",
    "}"
   ]
  },
  {
   "cell_type": "markdown",
   "id": "1e09f8f1-1a73-4476-be64-23d26f39c04c",
   "metadata": {
    "kernel": "SoS"
   },
   "source": [
    "***"
   ]
  },
  {
   "cell_type": "markdown",
   "id": "7c29f279-2a01-410f-9b80-04080a89630d",
   "metadata": {},
   "source": [
    "**Question 3: please only select the variants with p-value smaller than 0.01. How many are there?**"
   ]
  },
  {
   "cell_type": "markdown",
   "id": "38e3e89d-74e5-4c97-b365-9703c722d0c0",
   "metadata": {
    "kernel": "SoS"
   },
   "source": [
    "**Answer:**"
   ]
  },
  {
   "cell_type": "code",
   "execution_count": 9,
   "id": "87731912-214c-4d21-a231-8f4451baa34a",
   "metadata": {},
   "outputs": [
    {
     "data": {
      "text/html": [
       "26"
      ],
      "text/latex": [
       "26"
      ],
      "text/markdown": [
       "26"
      ],
      "text/plain": [
       "[1] 26"
      ]
     },
     "metadata": {},
     "output_type": "display_data"
    }
   ],
   "source": [
    "library(broom)\n",
    "\n",
    "snp_exposure_results <- data.frame(\n",
    "  SNP = colnames(genotype_data)[-1],\n",
    "  Beta = numeric(ncol(genotype_data) - 1),\n",
    "  SE = numeric(ncol(genotype_data) - 1)\n",
    ")\n",
    "\n",
    "for (snp in colnames(genotype_data)[-1]) {\n",
    "  genotype <- genotype_data[[snp]]\n",
    "  exposure <- phenotype_data$Exposure\n",
    "  fit <- lm(exposure ~ genotype)\n",
    "  if (glance(fit)$p.value < 0.05) {\n",
    "    snp_exposure_results$Beta[snp_exposure_results$SNP == snp] <-\n",
    "      coef(fit)[2]\n",
    "    snp_exposure_results$SE[snp_exposure_results$SNP == snp] <-\n",
    "      summary(fit)$coefficients[2, 2]\n",
    "  }\n",
    "}\n",
    "\n",
    "snp_exposure_results = snp_exposure_results |>\n",
    "  filter(Beta != 0)\n",
    "\n",
    "nrow(snp_exposure_results)"
   ]
  },
  {
   "cell_type": "markdown",
   "id": "19cd2490-9da6-4de0-a42c-e910b302bafc",
   "metadata": {},
   "source": [
    "There are 26 variants with p-value smaller than 0.01."
   ]
  },
  {
   "cell_type": "markdown",
   "id": "81bf9234-af6d-49fc-83bc-2c96c0fcba56",
   "metadata": {
    "kernel": "SoS"
   },
   "source": [
    "***"
   ]
  },
  {
   "cell_type": "markdown",
   "id": "b73dbff1-2305-4327-b883-5cf25bcc6310",
   "metadata": {},
   "source": [
    "# SNP-outcome association"
   ]
  },
  {
   "cell_type": "markdown",
   "id": "9cc0f375-6ed3-4549-9a5a-a7d99d056404",
   "metadata": {
    "kernel": "SoS"
   },
   "source": [
    "***"
   ]
  },
  {
   "cell_type": "markdown",
   "id": "f63916f8-5c40-4d14-b419-20296340f2b4",
   "metadata": {},
   "source": [
    "**Question 4: please run the association analysis between variants and the outcome.**"
   ]
  },
  {
   "cell_type": "markdown",
   "id": "76d23c39-d4ec-4906-be47-996e06d95466",
   "metadata": {
    "kernel": "SoS"
   },
   "source": [
    "**Answer:**"
   ]
  },
  {
   "cell_type": "code",
   "execution_count": 10,
   "id": "518bb206-e697-4fe8-927d-0b9acb5ffd95",
   "metadata": {},
   "outputs": [
    {
     "data": {
      "text/html": [
       "23"
      ],
      "text/latex": [
       "23"
      ],
      "text/markdown": [
       "23"
      ],
      "text/plain": [
       "[1] 23"
      ]
     },
     "metadata": {},
     "output_type": "display_data"
    }
   ],
   "source": [
    "snp_outcome_results <- data.frame(\n",
    "  SNP = colnames(genotype_data)[-1],\n",
    "  Beta = numeric(ncol(genotype_data) - 1),\n",
    "  SE = numeric(ncol(genotype_data) - 1)\n",
    ")\n",
    "\n",
    "for (snp in colnames(genotype_data)[-1]) {\n",
    "  genotype <- genotype_data[[snp]]\n",
    "  outcome <- phenotype_data$Outcome\n",
    "  fit <- lm(outcome ~ genotype)\n",
    "  if (glance(fit)$p.value < 0.05) {\n",
    "    snp_outcome_results$Beta[snp_outcome_results$SNP == snp] <-\n",
    "      coef(fit)[2]\n",
    "    snp_outcome_results$SE[snp_outcome_results$SNP == snp] <-\n",
    "      summary(fit)$coefficients[2, 2]\n",
    "  }\n",
    "}\n",
    "\n",
    "snp_outcome_results = snp_outcome_results |>\n",
    "  filter(Beta != 0)\n",
    "\n",
    "nrow(snp_outcome_results)"
   ]
  },
  {
   "cell_type": "markdown",
   "id": "6d09d0c4-6a37-495f-82be-7e9eefd4b820",
   "metadata": {},
   "source": [
    "There are 23 variants with p-value smaller than 0.01."
   ]
  },
  {
   "cell_type": "markdown",
   "id": "00d22e53-93c7-456d-9a8d-3020428224f2",
   "metadata": {
    "kernel": "SoS"
   },
   "source": [
    "***"
   ]
  },
  {
   "cell_type": "markdown",
   "id": "7fb741c7-e63b-4879-81ab-0fb10bf1edb5",
   "metadata": {},
   "source": [
    "# Run two-sample MR"
   ]
  },
  {
   "cell_type": "markdown",
   "id": "9f01af0a-a977-403e-a2e9-545e86ea8e67",
   "metadata": {},
   "source": [
    "Now we are ready to run the two-sample MR analysis. Here we can use a R package called [`MendelianRandomization` on CRAN](https://cran.r-project.org/web/packages/MendelianRandomization/index.html)."
   ]
  },
  {
   "cell_type": "code",
   "execution_count": 13,
   "id": "f6b2dcc2-208c-4602-a205-37d3d4802a3c",
   "metadata": {
    "tags": []
   },
   "outputs": [
    {
     "name": "stderr",
     "output_type": "stream",
     "text": [
      "Warning message:\n",
      "\"package 'MendelianRandomization' was built under R version 4.3.3\"\n"
     ]
    }
   ],
   "source": [
    "# Install MendelianRandomization package if not already installed\n",
    "if (!requireNamespace(\"MendelianRandomization\", quietly = TRUE)) {\n",
    "  install.packages(\"MendelianRandomization\")\n",
    "}\n",
    "\n",
    "# Load the package\n",
    "library(MendelianRandomization)"
   ]
  },
  {
   "cell_type": "markdown",
   "id": "8c637e0f-b749-4fbd-b638-c4c8f9df1bbf",
   "metadata": {},
   "source": [
    "In the vignette [here](https://cran.r-project.org/web/packages/MendelianRandomization/vignettes/Vignette_MR.pdf), please learn how to apply two basic MR methods -- MR-IVW amd MR-Egger. \n",
    "\n",
    "**Hint: the input for `mr_ivw` function consists of four components: coefficients and standard errors between variants and exposures, and between variants and outcome. Same for `mr_egger`. Check page 4 and 6 on the vignette PDF.**"
   ]
  },
  {
   "cell_type": "markdown",
   "id": "f91af33d-3f42-469d-8bf6-a01a57b551f7",
   "metadata": {
    "kernel": "SoS"
   },
   "source": [
    "***"
   ]
  },
  {
   "cell_type": "markdown",
   "id": "eed1fd0f-c6f0-4527-86ad-65536ef0751b",
   "metadata": {},
   "source": [
    "**Question 5: please run the MR-IVW and MR-Egger analysis.**"
   ]
  },
  {
   "cell_type": "markdown",
   "id": "86c4bb6e-256a-4831-be09-1b94b24ce812",
   "metadata": {
    "kernel": "SoS"
   },
   "source": [
    "**Answer:**"
   ]
  },
  {
   "cell_type": "code",
   "execution_count": 11,
   "id": "ff367320-c2f6-4525-8716-fa974b544f37",
   "metadata": {},
   "outputs": [],
   "source": [
    "snp_exposure_results <- data.frame(\n",
    "  SNP = colnames(genotype_data)[-1],\n",
    "  Beta = numeric(ncol(genotype_data) - 1),\n",
    "  SE = numeric(ncol(genotype_data) - 1)\n",
    ")\n",
    "\n",
    "for (snp in colnames(genotype_data)[-1]) {\n",
    "  genotype <- genotype_data[[snp]]\n",
    "  exposure <- phenotype_data$Exposure\n",
    "  fit <- lm(exposure ~ genotype)\n",
    "  snp_exposure_results$Beta[snp_exposure_results$SNP == snp] <-\n",
    "    coef(fit)[2]\n",
    "  snp_exposure_results$SE[snp_exposure_results$SNP == snp] <-\n",
    "    summary(fit)$coefficients[2, 2]\n",
    "}\n",
    "\n",
    "snp_outcome_results <- data.frame(\n",
    "  SNP = colnames(genotype_data)[-1],\n",
    "  Beta = numeric(ncol(genotype_data) - 1),\n",
    "  SE = numeric(ncol(genotype_data) - 1)\n",
    ")\n",
    "\n",
    "for (snp in colnames(genotype_data)[-1]) {\n",
    "  genotype <- genotype_data[[snp]]\n",
    "  outcome <- phenotype_data$Outcome\n",
    "  fit <- lm(outcome ~ genotype)\n",
    "  snp_outcome_results$Beta[snp_outcome_results$SNP == snp] <-\n",
    "    coef(fit)[2]\n",
    "  snp_outcome_results$SE[snp_outcome_results$SNP == snp] <-\n",
    "    summary(fit)$coefficients[2, 2]\n",
    "}"
   ]
  },
  {
   "cell_type": "code",
   "execution_count": 14,
   "id": "4f97c985-4771-4a5e-9f9c-b6cd707dc6b1",
   "metadata": {},
   "outputs": [
    {
     "data": {
      "text/plain": [
       "\n",
       "Inverse-variance weighted method\n",
       "(variants uncorrelated, random-effect model)\n",
       "\n",
       "Number of Variants : 50 \n",
       "\n",
       "------------------------------------------------------------------\n",
       " Method Estimate Std Error 95% CI       p-value\n",
       "    IVW    1.112     0.153 0.812, 1.413   0.000\n",
       "------------------------------------------------------------------\n",
       "Residual standard error =  2.309 \n",
       "Heterogeneity test statistic (Cochran's Q) = 261.1731 on 49 degrees of freedom, (p-value = 0.0000). I^2 = 81.2%. \n",
       "F statistic = 4.9. "
      ]
     },
     "metadata": {},
     "output_type": "display_data"
    }
   ],
   "source": [
    "# MR-IVW\n",
    "IVWObject <- mr_ivw(\n",
    "  mr_input(\n",
    "    bx = snp_exposure_results[, 2],\n",
    "    bxse = snp_exposure_results[, 3],\n",
    "    by = snp_outcome_results[, 2],\n",
    "    byse = snp_outcome_results[, 3]\n",
    "  )\n",
    ")\n",
    "IVWObject"
   ]
  },
  {
   "cell_type": "code",
   "execution_count": 15,
   "id": "389aa53b-4619-4178-82f9-fe0588cc773d",
   "metadata": {},
   "outputs": [
    {
     "data": {
      "text/plain": [
       "\n",
       "MR-Egger method\n",
       "(variants uncorrelated, random-effect model)\n",
       "\n",
       "Number of Variants =  50 \n",
       "\n",
       "------------------------------------------------------------------\n",
       "      Method Estimate Std Error  95% CI       p-value\n",
       "    MR-Egger    0.754     0.337  0.094, 1.415   0.025\n",
       " (intercept)    0.047     0.040 -0.030, 0.125   0.234\n",
       "------------------------------------------------------------------\n",
       "Residual Standard Error :  2.299 \n",
       "Heterogeneity test statistic = 253.6721 on 48 degrees of freedom, (p-value = 0.0000)\n",
       "I^2_GX statistic: 1.1%"
      ]
     },
     "metadata": {},
     "output_type": "display_data"
    }
   ],
   "source": [
    "# MR-Egger\n",
    "EggerObject <- mr_egger(\n",
    "  mr_input(\n",
    "    bx = snp_exposure_results[, 2],\n",
    "    bxse = snp_exposure_results[, 3],\n",
    "    by = snp_outcome_results[, 2],\n",
    "    byse = snp_outcome_results[, 3]\n",
    "  )\n",
    ")\n",
    "EggerObject"
   ]
  },
  {
   "cell_type": "markdown",
   "id": "b1820a85-0e21-425b-a95d-0d5d8c16ed05",
   "metadata": {
    "kernel": "SoS"
   },
   "source": [
    "***"
   ]
  },
  {
   "cell_type": "markdown",
   "id": "70706346-c25a-4143-a874-d5100963cd9d",
   "metadata": {},
   "source": [
    "# Analyze the results"
   ]
  },
  {
   "cell_type": "markdown",
   "id": "b0487e95-5f10-490e-827b-a578bd2f4367",
   "metadata": {
    "kernel": "SoS"
   },
   "source": [
    "***"
   ]
  },
  {
   "cell_type": "markdown",
   "id": "a4cb6d1c-b1d5-4690-836f-a56333468333",
   "metadata": {},
   "source": [
    "**Question 6: Using the MR-IVW and MR-Egger methods, report the estimated causal effect of the exposure on the outcome, along with standard errors, 95% confidence intervals, and p-values. Compare the estimates from MR-IVW and MR-Egger. What are the key differences between the two methods in your results?**"
   ]
  },
  {
   "cell_type": "markdown",
   "id": "35b1ca21-6ee3-4416-b0bc-ddf84b0a0636",
   "metadata": {
    "kernel": "SoS"
   },
   "source": [
    "**Answer:**"
   ]
  },
  {
   "cell_type": "markdown",
   "id": "db044a0d-1581-451a-91bb-948d5daea881",
   "metadata": {},
   "source": [
    "Using the MR-IVW (Inverse-Variance Weighted) method, the estimated causal effect of the exposure on the outcome is **1.112**, with a standard error of 0.153. The 95% confidence interval (CI) is (0.812, 1.413), and the p-value is <0.000, indicating a statistically significant effect.\n",
    "\n",
    "Using the MR-Egger method, the estimated causal effect is **0.754**, with a standard error of 0.337. The 95% CI is (0.094, 1.415), and the p-value is 0.025, also suggesting a significant causal effect, though with a wider confidence interval. Additionally, the intercept estimate is 0.047 with a p-value of **0.234**, indicating no significant directional pleiotropy.\n",
    "\n",
    "**Comparison of MR-IVW and MR-Egger Results：**\n",
    "\n",
    "- Effect Size Difference: The MR-IVW estimate (1.112) is higher than the MR-Egger estimate (0.754). This suggests that MR-IVW may be slightly biased due to unaccounted pleiotropy.\n",
    "  \n",
    "- Confidence Interval Width: MR-Egger produces a wider 95% CI compared to MR-IVW, reflecting greater uncertainty in the causal estimate.\n",
    "  \n",
    "- Pleiotropy Adjustment: The MR-Egger intercept is not significantly different from zero (p = 0.234), implying that directional pleiotropy is not a major concern in this case. This suggests that MR-IVW results remain valid.\n",
    "  \n",
    "- Heterogeneity Consideration: The high I² value (81.2%) in IVW suggests heterogeneity among SNPs, indicating potential pleiotropy, which MR-Egger attempts to adjust."
   ]
  },
  {
   "cell_type": "markdown",
   "id": "8f060693-21aa-49b6-a315-dc2468438b4e",
   "metadata": {
    "kernel": "SoS"
   },
   "source": [
    "***"
   ]
  },
  {
   "cell_type": "markdown",
   "id": "d623b33c-794d-40e8-8f74-ac7a2fc2670f",
   "metadata": {},
   "source": [
    "**Question 7 (optional): Run all the primary Mendelian Randomization methods using the `mr_allmethods` function from the package (use the code below). Visualize the results with the `mr_plot` function. Based on your findings, provide an analysis of the results and discuss the reasons for any observed patterns or outcomes.**\n",
    "\n",
    "```R\n",
    "res = mr_allmethods(mr_input(bx=merged_results$Beta_exposure, bxse=merged_results$SE_exposure, \n",
    "                               by=merged_results$Beta_outcome, byse=merged_results$SE_outcome), method = \"main\")\n",
    "```\n"
   ]
  },
  {
   "cell_type": "code",
   "execution_count": 16,
   "id": "36ff3569-c671-4f8e-afe7-7d1ced4714a8",
   "metadata": {},
   "outputs": [
    {
     "data": {
      "image/png": "[encoded data removed]",
      "text/plain": [
       "plot without title"
      ]
     },
     "metadata": {
      "image/png": {
       "height": 420,
       "width": 420
      }
     },
     "output_type": "display_data"
    }
   ],
   "source": [
    "res = mr_allmethods(\n",
    "  mr_input(\n",
    "    bx = snp_exposure_results[, 2],\n",
    "    bxse = snp_exposure_results[, 3],\n",
    "    by = snp_outcome_results[, 2],\n",
    "    byse = snp_outcome_results[, 3]\n",
    "  ),\n",
    "  method = \"main\"\n",
    ")\n",
    "\n",
    "mr_plot(res)"
   ]
  },
  {
   "cell_type": "markdown",
   "id": "4f85e570-d538-43ef-b8b4-a55da611006e",
   "metadata": {},
   "source": []
  }
 ],
 "metadata": {
  "kernelspec": {
   "display_name": "R",
   "language": "R",
   "name": "ir"
  },
  "language_info": {
   "codemirror_mode": "r",
   "file_extension": ".r",
   "mimetype": "text/x-r-source",
   "name": "R",
   "pygments_lexer": "r",
   "version": "4.3.1"
  }
 },
 "nbformat": 4,
 "nbformat_minor": 5
}
