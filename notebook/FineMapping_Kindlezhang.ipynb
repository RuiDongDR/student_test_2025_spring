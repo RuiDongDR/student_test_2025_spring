{
 "cells": [
  {
   "cell_type": "markdown",
   "id": "e041bb17-949e-467e-9aef-f0c6478306eb",
   "metadata": {},
   "source": [
    "# Name : Kindle Zhang"
   ]
  },
  {
   "cell_type": "markdown",
   "id": "cc8be342-45cc-4e68-830c-d177aee11465",
   "metadata": {},
   "source": [
    "# Summary of the SuSiE method"
   ]
  },
  {
   "cell_type": "markdown",
   "id": "b65f0b55-ea10-489c-84e7-8014d37e230e",
   "metadata": {},
   "source": [
    "SuSiE (Sum of Single Effects) is a Bayesian sparse regression model designed for variable selection, particularly in fine-mapping genetic studies. Unlike traditional methods that select individual SNPs, SuSiE identifies credible sets of variants, effectively handling correlation among SNPs. By using Bayesian stepwise selection, it improves both efficiency and accuracy, ensuring that the selected set contains the true causal variant while accounting for uncertainty. One key advantage is that SuSiE allows the incorporation of prior probabilities to influence results, making it adaptable to different assumptions. Additionally, even when genotype data is unavailable, SuSiE can infer causal variants by adjusting the LD matrix to obtain a correlation matrix. This flexibility, combined with its probabilistic confidence estimation and computational efficiency, makes SuSiE a powerful tool for fine-mapping and high-dimensional variable selection, outperforming traditional approaches in genetic studies."
   ]
  },
  {
   "cell_type": "markdown",
   "id": "820cec32-25e3-48ff-b8fb-2a1d08fbad1f",
   "metadata": {},
   "source": [
    "# Overview\n",
    "\n",
    "This fine-mapping tutorial was developed using simulated data shipped with [`susieR`](https://github.com/stephenslab/susieR) package.\n",
    "The simulated data contains simulated phenotype matrix $Y$ in $N \\approx 600$ individuals. \n",
    "The goal is to identify from the genotype matrix $X_{N\\times P}$ ($P=1000$) the genetic variables that directly cause changes in the phenotypic values.\n",
    "\n",
    "**There are several questions throughout the notebook, and please answer each of them by adding cells (in Markdown or R) under the question and keep the code you use there as well.**"
   ]
  },
  {
   "cell_type": "markdown",
   "id": "34ae60b1-ef9c-4242-966f-9190162cbfdd",
   "metadata": {},
   "source": [
    "The simulated data-set is [available\n",
    "here](https://github.com/stephenslab/susieR/blob/master/data/N3finemapping.RData),\n",
    "as part of the `susieR` package. In this tutorial we will first explore the data with conventional univariate association analysis,\n",
    "then perform preliminary fine-mapping analysis under simplified \n",
    "assumptions to illustrate the idea of statistical fine-mapping, and finally use the R package `susieR` to perform formal Bayesian fine-mapping analysis.\n",
    "We will also discuss fine-mapping using association summary statistics."
   ]
  },
  {
   "cell_type": "markdown",
   "id": "23958c0d",
   "metadata": {
    "tags": []
   },
   "source": [
    "# Explore the association data-set\n",
    "\n",
    "First let's install the package `susieR` according to [its Github repo](https://github.com/stephenslab/susieR) and `corrplot` to draw some plots later. This may take a while."
   ]
  },
  {
   "cell_type": "code",
   "execution_count": 2,
   "id": "df2bde49-8530-4248-ba23-5f3ebdbd8760",
   "metadata": {},
   "outputs": [
    {
     "name": "stdout",
     "output_type": "stream",
     "text": [
      "package 'susieR' successfully unpacked and MD5 sums checked\n",
      "\n",
      "The downloaded binary packages are in\n",
      "\tC:\\Users\\zhang\\AppData\\Local\\Temp\\RtmpwVwyRV\\downloaded_packages\n",
      "package 'corrplot' successfully unpacked and MD5 sums checked\n",
      "\n",
      "The downloaded binary packages are in\n",
      "\tC:\\Users\\zhang\\AppData\\Local\\Temp\\RtmpwVwyRV\\downloaded_packages\n"
     ]
    }
   ],
   "source": [
    "install.packages(\"susieR\")\n",
    "install.packages(\"corrplot\")"
   ]
  },
  {
   "cell_type": "markdown",
   "id": "a5502763-da10-4323-bb9e-a58cf70e6c9e",
   "metadata": {},
   "source": [
    "Please execute the following code cell to load the simulated data."
   ]
  },
  {
   "cell_type": "code",
   "execution_count": 1,
   "id": "a5778a8e-6a1e-4c16-b8a9-179b3fba0cbb",
   "metadata": {
    "tags": []
   },
   "outputs": [
    {
     "name": "stderr",
     "output_type": "stream",
     "text": [
      "Warning message:\n",
      "\"package 'susieR' was built under R version 4.3.3\"\n",
      "Warning message:\n",
      "\"package 'corrplot' was built under R version 4.3.3\"\n",
      "corrplot 0.95 loaded\n",
      "\n"
     ]
    }
   ],
   "source": [
    "rm(list=ls())\n",
    "library(susieR)\n",
    "library(corrplot)\n",
    "data(N3finemapping)\n",
    "attach(N3finemapping)"
   ]
  },
  {
   "cell_type": "code",
   "execution_count": 2,
   "id": "8abce956",
   "metadata": {
    "tags": []
   },
   "outputs": [
    {
     "data": {
      "text/html": [
       "'N3finemapping'"
      ],
      "text/latex": [
       "'N3finemapping'"
      ],
      "text/markdown": [
       "'N3finemapping'"
      ],
      "text/plain": [
       "[1] \"N3finemapping\""
      ]
     },
     "metadata": {},
     "output_type": "display_data"
    }
   ],
   "source": [
    "ls()"
   ]
  },
  {
   "cell_type": "markdown",
   "id": "2bf71300",
   "metadata": {},
   "source": [
    "The loaded dataset, `N3finemapping`, contains regression data $X$ and $Y$, \n",
    "along with some other relevant attributes in the context of genetic studies. It also\n",
    "contains the \"true\" regression coefficients the data is simulated from."
   ]
  },
  {
   "cell_type": "code",
   "execution_count": 3,
   "id": "a3071f4a",
   "metadata": {
    "tags": []
   },
   "outputs": [
    {
     "data": {
      "text/html": [
       "<style>\n",
       ".list-inline {list-style: none; margin:0; padding: 0}\n",
       ".list-inline>li {display: inline-block}\n",
       ".list-inline>li:not(:last-child)::after {content: \"\\00b7\"; padding: 0 .5ex}\n",
       "</style>\n",
       "<ol class=list-inline><li>'X'</li><li>'chrom'</li><li>'pos'</li><li>'true_coef'</li><li>'residual_variance'</li><li>'Y'</li><li>'allele_freq'</li><li>'V'</li></ol>\n"
      ],
      "text/latex": [
       "\\begin{enumerate*}\n",
       "\\item 'X'\n",
       "\\item 'chrom'\n",
       "\\item 'pos'\n",
       "\\item 'true\\_coef'\n",
       "\\item 'residual\\_variance'\n",
       "\\item 'Y'\n",
       "\\item 'allele\\_freq'\n",
       "\\item 'V'\n",
       "\\end{enumerate*}\n"
      ],
      "text/markdown": [
       "1. 'X'\n",
       "2. 'chrom'\n",
       "3. 'pos'\n",
       "4. 'true_coef'\n",
       "5. 'residual_variance'\n",
       "6. 'Y'\n",
       "7. 'allele_freq'\n",
       "8. 'V'\n",
       "\n",
       "\n"
      ],
      "text/plain": [
       "[1] \"X\"                 \"chrom\"             \"pos\"              \n",
       "[4] \"true_coef\"         \"residual_variance\" \"Y\"                \n",
       "[7] \"allele_freq\"       \"V\"                "
      ]
     },
     "metadata": {},
     "output_type": "display_data"
    }
   ],
   "source": [
    "names(N3finemapping)"
   ]
  },
  {
   "cell_type": "code",
   "execution_count": 4,
   "id": "2840032b-6ca3-40fc-a4d7-5f10933075dc",
   "metadata": {
    "tags": []
   },
   "outputs": [
    {
     "data": {
      "text/html": [
       "<style>\n",
       ".list-inline {list-style: none; margin:0; padding: 0}\n",
       ".list-inline>li {display: inline-block}\n",
       ".list-inline>li:not(:last-child)::after {content: \"\\00b7\"; padding: 0 .5ex}\n",
       "</style>\n",
       "<ol class=list-inline><li>574</li><li>1001</li></ol>\n"
      ],
      "text/latex": [
       "\\begin{enumerate*}\n",
       "\\item 574\n",
       "\\item 1001\n",
       "\\end{enumerate*}\n"
      ],
      "text/markdown": [
       "1. 574\n",
       "2. 1001\n",
       "\n",
       "\n"
      ],
      "text/plain": [
       "[1]  574 1001"
      ]
     },
     "metadata": {},
     "output_type": "display_data"
    },
    {
     "data": {
      "text/html": [
       "<table class=\"dataframe\">\n",
       "<caption>A matrix: 6 × 1001 of type dbl</caption>\n",
       "<tbody>\n",
       "\t<tr><td>-0.02090592</td><td> 0.4738676</td><td>0.1620209</td><td>-0.05226481</td><td>-0.1637631</td><td>-0.026472457</td><td>0.1689895</td><td>-0.2421603</td><td>0.1585366</td><td>-0.1567944</td><td>⋯</td><td>-0.4006969</td><td>-1.09254036</td><td>-0.4119346</td><td>-0.2857143</td><td>-0.3885017</td><td>-0.3919861</td><td>-0.3969795</td><td>-0.02090592</td><td>-0.2844549</td><td>-0.3883308</td></tr>\n",
       "\t<tr><td>-0.02090592</td><td>-0.5261324</td><td>1.1620209</td><td>-0.05226481</td><td>-0.1637631</td><td> 0.006059281</td><td>1.1689895</td><td>-0.2421603</td><td>1.1585366</td><td>-0.1567944</td><td>⋯</td><td>-0.4006969</td><td>-1.09254036</td><td>-0.4119346</td><td>-0.2857143</td><td>-0.3885017</td><td>-0.3919861</td><td>-0.3969795</td><td>-0.02090592</td><td>-0.2844549</td><td>-0.3883308</td></tr>\n",
       "\t<tr><td>-0.02090592</td><td>-0.5261324</td><td>1.1620209</td><td>-0.05226481</td><td>-0.1637631</td><td>-0.026472457</td><td>1.1689895</td><td>-0.2421603</td><td>1.1585366</td><td>-0.1567944</td><td>⋯</td><td> 0.5993031</td><td>-0.09254036</td><td> 0.5880654</td><td>-0.2857143</td><td>-0.3885017</td><td>-0.3919861</td><td> 0.6030205</td><td>-0.02090592</td><td>-0.2844549</td><td>-0.3883308</td></tr>\n",
       "\t<tr><td>-0.02090592</td><td> 0.4738676</td><td>0.1620209</td><td>-0.05226481</td><td>-0.1637631</td><td>-0.026472457</td><td>0.1689895</td><td>-0.2421603</td><td>0.1585366</td><td>-0.1567944</td><td>⋯</td><td>-0.4006969</td><td>-1.09254036</td><td>-0.4119346</td><td>-0.2857143</td><td>-0.3885017</td><td>-0.3919861</td><td>-0.3969795</td><td>-0.02090592</td><td>-0.2844549</td><td>-0.3883308</td></tr>\n",
       "\t<tr><td>-0.02090592</td><td>-0.5261324</td><td>1.1620209</td><td>-0.05226481</td><td>-0.1637631</td><td>-0.026472457</td><td>1.1689895</td><td>-0.2421603</td><td>1.1585366</td><td>-0.1567944</td><td>⋯</td><td>-0.4006969</td><td>-1.09254036</td><td>-0.4119346</td><td>-0.2857143</td><td>-0.3885017</td><td>-0.3919861</td><td>-0.3969795</td><td>-0.02090592</td><td>-0.2844549</td><td>-0.3883308</td></tr>\n",
       "\t<tr><td>-0.02090592</td><td>-0.5261324</td><td>0.1620209</td><td>-0.05226481</td><td>-0.1637631</td><td>-0.026472457</td><td>0.1689895</td><td> 0.7578397</td><td>0.1585366</td><td>-0.1567944</td><td>⋯</td><td>-0.4006969</td><td>-1.09254036</td><td>-0.4119346</td><td>-0.2857143</td><td>-0.3885017</td><td>-0.3919861</td><td>-0.3969795</td><td>-0.02090592</td><td>-0.2844549</td><td>-0.3883308</td></tr>\n",
       "</tbody>\n",
       "</table>\n"
      ],
      "text/latex": [
       "A matrix: 6 × 1001 of type dbl\n",
       "\\begin{tabular}{lllllllllllllllllllll}\n",
       "\t -0.02090592 &  0.4738676 & 0.1620209 & -0.05226481 & -0.1637631 & -0.026472457 & 0.1689895 & -0.2421603 & 0.1585366 & -0.1567944 & ⋯ & -0.4006969 & -1.09254036 & -0.4119346 & -0.2857143 & -0.3885017 & -0.3919861 & -0.3969795 & -0.02090592 & -0.2844549 & -0.3883308\\\\\n",
       "\t -0.02090592 & -0.5261324 & 1.1620209 & -0.05226481 & -0.1637631 &  0.006059281 & 1.1689895 & -0.2421603 & 1.1585366 & -0.1567944 & ⋯ & -0.4006969 & -1.09254036 & -0.4119346 & -0.2857143 & -0.3885017 & -0.3919861 & -0.3969795 & -0.02090592 & -0.2844549 & -0.3883308\\\\\n",
       "\t -0.02090592 & -0.5261324 & 1.1620209 & -0.05226481 & -0.1637631 & -0.026472457 & 1.1689895 & -0.2421603 & 1.1585366 & -0.1567944 & ⋯ &  0.5993031 & -0.09254036 &  0.5880654 & -0.2857143 & -0.3885017 & -0.3919861 &  0.6030205 & -0.02090592 & -0.2844549 & -0.3883308\\\\\n",
       "\t -0.02090592 &  0.4738676 & 0.1620209 & -0.05226481 & -0.1637631 & -0.026472457 & 0.1689895 & -0.2421603 & 0.1585366 & -0.1567944 & ⋯ & -0.4006969 & -1.09254036 & -0.4119346 & -0.2857143 & -0.3885017 & -0.3919861 & -0.3969795 & -0.02090592 & -0.2844549 & -0.3883308\\\\\n",
       "\t -0.02090592 & -0.5261324 & 1.1620209 & -0.05226481 & -0.1637631 & -0.026472457 & 1.1689895 & -0.2421603 & 1.1585366 & -0.1567944 & ⋯ & -0.4006969 & -1.09254036 & -0.4119346 & -0.2857143 & -0.3885017 & -0.3919861 & -0.3969795 & -0.02090592 & -0.2844549 & -0.3883308\\\\\n",
       "\t -0.02090592 & -0.5261324 & 0.1620209 & -0.05226481 & -0.1637631 & -0.026472457 & 0.1689895 &  0.7578397 & 0.1585366 & -0.1567944 & ⋯ & -0.4006969 & -1.09254036 & -0.4119346 & -0.2857143 & -0.3885017 & -0.3919861 & -0.3969795 & -0.02090592 & -0.2844549 & -0.3883308\\\\\n",
       "\\end{tabular}\n"
      ],
      "text/markdown": [
       "\n",
       "A matrix: 6 × 1001 of type dbl\n",
       "\n",
       "| -0.02090592 |  0.4738676 | 0.1620209 | -0.05226481 | -0.1637631 | -0.026472457 | 0.1689895 | -0.2421603 | 0.1585366 | -0.1567944 | ⋯ | -0.4006969 | -1.09254036 | -0.4119346 | -0.2857143 | -0.3885017 | -0.3919861 | -0.3969795 | -0.02090592 | -0.2844549 | -0.3883308 |\n",
       "| -0.02090592 | -0.5261324 | 1.1620209 | -0.05226481 | -0.1637631 |  0.006059281 | 1.1689895 | -0.2421603 | 1.1585366 | -0.1567944 | ⋯ | -0.4006969 | -1.09254036 | -0.4119346 | -0.2857143 | -0.3885017 | -0.3919861 | -0.3969795 | -0.02090592 | -0.2844549 | -0.3883308 |\n",
       "| -0.02090592 | -0.5261324 | 1.1620209 | -0.05226481 | -0.1637631 | -0.026472457 | 1.1689895 | -0.2421603 | 1.1585366 | -0.1567944 | ⋯ |  0.5993031 | -0.09254036 |  0.5880654 | -0.2857143 | -0.3885017 | -0.3919861 |  0.6030205 | -0.02090592 | -0.2844549 | -0.3883308 |\n",
       "| -0.02090592 |  0.4738676 | 0.1620209 | -0.05226481 | -0.1637631 | -0.026472457 | 0.1689895 | -0.2421603 | 0.1585366 | -0.1567944 | ⋯ | -0.4006969 | -1.09254036 | -0.4119346 | -0.2857143 | -0.3885017 | -0.3919861 | -0.3969795 | -0.02090592 | -0.2844549 | -0.3883308 |\n",
       "| -0.02090592 | -0.5261324 | 1.1620209 | -0.05226481 | -0.1637631 | -0.026472457 | 1.1689895 | -0.2421603 | 1.1585366 | -0.1567944 | ⋯ | -0.4006969 | -1.09254036 | -0.4119346 | -0.2857143 | -0.3885017 | -0.3919861 | -0.3969795 | -0.02090592 | -0.2844549 | -0.3883308 |\n",
       "| -0.02090592 | -0.5261324 | 0.1620209 | -0.05226481 | -0.1637631 | -0.026472457 | 0.1689895 |  0.7578397 | 0.1585366 | -0.1567944 | ⋯ | -0.4006969 | -1.09254036 | -0.4119346 | -0.2857143 | -0.3885017 | -0.3919861 | -0.3969795 | -0.02090592 | -0.2844549 | -0.3883308 |\n",
       "\n"
      ],
      "text/plain": [
       "     [,1]        [,2]       [,3]      [,4]        [,5]       [,6]        \n",
       "[1,] -0.02090592  0.4738676 0.1620209 -0.05226481 -0.1637631 -0.026472457\n",
       "[2,] -0.02090592 -0.5261324 1.1620209 -0.05226481 -0.1637631  0.006059281\n",
       "[3,] -0.02090592 -0.5261324 1.1620209 -0.05226481 -0.1637631 -0.026472457\n",
       "[4,] -0.02090592  0.4738676 0.1620209 -0.05226481 -0.1637631 -0.026472457\n",
       "[5,] -0.02090592 -0.5261324 1.1620209 -0.05226481 -0.1637631 -0.026472457\n",
       "[6,] -0.02090592 -0.5261324 0.1620209 -0.05226481 -0.1637631 -0.026472457\n",
       "     [,7]      [,8]       [,9]      [,10]      [,11] [,12]      [,13]      \n",
       "[1,] 0.1689895 -0.2421603 0.1585366 -0.1567944 ⋯     -0.4006969 -1.09254036\n",
       "[2,] 1.1689895 -0.2421603 1.1585366 -0.1567944 ⋯     -0.4006969 -1.09254036\n",
       "[3,] 1.1689895 -0.2421603 1.1585366 -0.1567944 ⋯      0.5993031 -0.09254036\n",
       "[4,] 0.1689895 -0.2421603 0.1585366 -0.1567944 ⋯     -0.4006969 -1.09254036\n",
       "[5,] 1.1689895 -0.2421603 1.1585366 -0.1567944 ⋯     -0.4006969 -1.09254036\n",
       "[6,] 0.1689895  0.7578397 0.1585366 -0.1567944 ⋯     -0.4006969 -1.09254036\n",
       "     [,14]      [,15]      [,16]      [,17]      [,18]      [,19]      \n",
       "[1,] -0.4119346 -0.2857143 -0.3885017 -0.3919861 -0.3969795 -0.02090592\n",
       "[2,] -0.4119346 -0.2857143 -0.3885017 -0.3919861 -0.3969795 -0.02090592\n",
       "[3,]  0.5880654 -0.2857143 -0.3885017 -0.3919861  0.6030205 -0.02090592\n",
       "[4,] -0.4119346 -0.2857143 -0.3885017 -0.3919861 -0.3969795 -0.02090592\n",
       "[5,] -0.4119346 -0.2857143 -0.3885017 -0.3919861 -0.3969795 -0.02090592\n",
       "[6,] -0.4119346 -0.2857143 -0.3885017 -0.3919861 -0.3969795 -0.02090592\n",
       "     [,20]      [,21]     \n",
       "[1,] -0.2844549 -0.3883308\n",
       "[2,] -0.2844549 -0.3883308\n",
       "[3,] -0.2844549 -0.3883308\n",
       "[4,] -0.2844549 -0.3883308\n",
       "[5,] -0.2844549 -0.3883308\n",
       "[6,] -0.2844549 -0.3883308"
      ]
     },
     "metadata": {},
     "output_type": "display_data"
    }
   ],
   "source": [
    "dim(X)\n",
    "head(X)"
   ]
  },
  {
   "cell_type": "markdown",
   "id": "1a52b431-d75f-4e77-b14b-5a792902ba7d",
   "metadata": {},
   "source": [
    "-----------------------------------------"
   ]
  },
  {
   "cell_type": "markdown",
   "id": "8be41725-b9bc-438c-b523-a63a07b9c97e",
   "metadata": {},
   "source": [
    "**Example question: in the genotype matrix `X`, how many individuals and the genetic variants are included? What is the genotype value for the 100th variant of the 21st individual?**"
   ]
  },
  {
   "cell_type": "markdown",
   "id": "b8142825-25c1-4891-b26f-ee96dc15bebf",
   "metadata": {},
   "source": [
    "**Example answer:** The genotype matrix has 574 individuals and 1001 genetic variants. The genotype value for the 100th variant of the 21st individual is 0.4408."
   ]
  },
  {
   "cell_type": "code",
   "execution_count": 5,
   "id": "47592dba-91a1-4bb9-8409-557b704f1a03",
   "metadata": {
    "tags": []
   },
   "outputs": [
    {
     "data": {
      "text/html": [
       "<style>\n",
       ".list-inline {list-style: none; margin:0; padding: 0}\n",
       ".list-inline>li {display: inline-block}\n",
       ".list-inline>li:not(:last-child)::after {content: \"\\00b7\"; padding: 0 .5ex}\n",
       "</style>\n",
       "<ol class=list-inline><li>574</li><li>1001</li></ol>\n"
      ],
      "text/latex": [
       "\\begin{enumerate*}\n",
       "\\item 574\n",
       "\\item 1001\n",
       "\\end{enumerate*}\n"
      ],
      "text/markdown": [
       "1. 574\n",
       "2. 1001\n",
       "\n",
       "\n"
      ],
      "text/plain": [
       "[1]  574 1001"
      ]
     },
     "metadata": {},
     "output_type": "display_data"
    }
   ],
   "source": [
    "dim(X)"
   ]
  },
  {
   "cell_type": "code",
   "execution_count": 6,
   "id": "1a6af52a",
   "metadata": {
    "tags": []
   },
   "outputs": [
    {
     "data": {
      "text/html": [
       "0.440766550522648"
      ],
      "text/latex": [
       "0.440766550522648"
      ],
      "text/markdown": [
       "0.440766550522648"
      ],
      "text/plain": [
       "[1] 0.4407666"
      ]
     },
     "metadata": {},
     "output_type": "display_data"
    }
   ],
   "source": [
    "X[21, 100]"
   ]
  },
  {
   "cell_type": "markdown",
   "id": "68e49ecd-e78c-470c-bb8b-999e1d0df3ff",
   "metadata": {},
   "source": [
    "-----------------------------------------"
   ]
  },
  {
   "cell_type": "markdown",
   "id": "7b4f5d11",
   "metadata": {},
   "source": [
    "The phenotype matrix contains values for the 574 individuals for 2 traits,"
   ]
  },
  {
   "cell_type": "code",
   "execution_count": 9,
   "id": "8aa24a7f",
   "metadata": {
    "tags": []
   },
   "outputs": [
    {
     "data": {
      "text/html": [
       "<style>\n",
       ".list-inline {list-style: none; margin:0; padding: 0}\n",
       ".list-inline>li {display: inline-block}\n",
       ".list-inline>li:not(:last-child)::after {content: \"\\00b7\"; padding: 0 .5ex}\n",
       "</style>\n",
       "<ol class=list-inline><li>574</li><li>2</li></ol>\n"
      ],
      "text/latex": [
       "\\begin{enumerate*}\n",
       "\\item 574\n",
       "\\item 2\n",
       "\\end{enumerate*}\n"
      ],
      "text/markdown": [
       "1. 574\n",
       "2. 2\n",
       "\n",
       "\n"
      ],
      "text/plain": [
       "[1] 574   2"
      ]
     },
     "metadata": {},
     "output_type": "display_data"
    }
   ],
   "source": [
    "dim(Y)"
   ]
  },
  {
   "cell_type": "markdown",
   "id": "66d75fe6",
   "metadata": {},
   "source": [
    "We focus on the first trait, let"
   ]
  },
  {
   "cell_type": "code",
   "execution_count": 6,
   "id": "22139a61",
   "metadata": {
    "tags": []
   },
   "outputs": [],
   "source": [
    "y = Y[,1]\n",
    "b = true_coef[,1]"
   ]
  },
  {
   "cell_type": "markdown",
   "id": "f62408ff",
   "metadata": {},
   "source": [
    "There are 3 \"causal\" variants for this trait,"
   ]
  },
  {
   "cell_type": "code",
   "execution_count": 7,
   "id": "41ba6e94",
   "metadata": {
    "tags": []
   },
   "outputs": [
    {
     "data": {
      "text/html": [
       "<style>\n",
       ".list-inline {list-style: none; margin:0; padding: 0}\n",
       ".list-inline>li {display: inline-block}\n",
       ".list-inline>li:not(:last-child)::after {content: \"\\00b7\"; padding: 0 .5ex}\n",
       "</style>\n",
       "<ol class=list-inline><li>403</li><li>653</li><li>773</li></ol>\n"
      ],
      "text/latex": [
       "\\begin{enumerate*}\n",
       "\\item 403\n",
       "\\item 653\n",
       "\\item 773\n",
       "\\end{enumerate*}\n"
      ],
      "text/markdown": [
       "1. 403\n",
       "2. 653\n",
       "3. 773\n",
       "\n",
       "\n"
      ],
      "text/plain": [
       "[1] 403 653 773"
      ]
     },
     "metadata": {},
     "output_type": "display_data"
    }
   ],
   "source": [
    "which(b != 0)"
   ]
  },
  {
   "cell_type": "markdown",
   "id": "4d2f2670-d370-4063-932d-4baac07ab5d9",
   "metadata": {},
   "source": [
    "Note: in this tutorial we will avoid the phrase \"causal\", and use \"effect variable\" to refer to the variants having true non-zero effects on the phenotype."
   ]
  },
  {
   "cell_type": "markdown",
   "id": "148f29d3-ff2b-48cb-92a3-834c076ae1d2",
   "metadata": {},
   "source": [
    "-----------------------------------------"
   ]
  },
  {
   "cell_type": "markdown",
   "id": "8fe05b96",
   "metadata": {},
   "source": [
    "**Question 1: Please use R function `plot` to visualize the true effects vector. What are the effect sizes for these 3 \"causal\" variants?**"
   ]
  },
  {
   "cell_type": "markdown",
   "id": "78af5494-26e8-411b-99dc-6c76dd7ce601",
   "metadata": {
    "tags": []
   },
   "source": [
    "**Answer:** \n",
    "the effect size for these 3 \"causal\" variants are 1.189172, -0.831789 and 1.399288."
   ]
  },
  {
   "cell_type": "code",
   "execution_count": 8,
   "id": "998bff51-5752-42a7-ab03-da70387d34c2",
   "metadata": {},
   "outputs": [
    {
     "name": "stdout",
     "output_type": "stream",
     "text": [
      "[1]  1.189172 -0.831789  1.399288\n"
     ]
    },
    {
     "data": {
      "image/png": "[encoded data removed]",
      "text/plain": [
       "Plot with title \"True Effect Sizes of Variants\""
      ]
     },
     "metadata": {
      "image/png": {
       "height": 420,
       "width": 420
      }
     },
     "output_type": "display_data"
    }
   ],
   "source": [
    "plot(\n",
    "  b,\n",
    "  type = \"h\",\n",
    "  col = \"blue\",\n",
    "  main = \"True Effect Sizes of Variants\",\n",
    "  xlab = \"Variant Index\",\n",
    "  ylab = \"Effect Size\"\n",
    ")\n",
    "\n",
    "effect_sizes = b[which(b != 0)]\n",
    "print(effect_sizes)"
   ]
  },
  {
   "cell_type": "markdown",
   "id": "e99f033d-566e-445f-a5df-3ca10424e22d",
   "metadata": {},
   "source": [
    "-----------------------------------------"
   ]
  },
  {
   "cell_type": "markdown",
   "id": "068fcf8c",
   "metadata": {},
   "source": [
    "# Association testing via simple linear regression\n",
    "\n",
    "`univariate_regression` function in `susieR` can be used to perform association testing \n",
    "by fitting univariate simple regression for each variable separately.\n",
    "The results are $\\hat{\\beta}$ for effect size estimates, and their standard errors $SE(\\hat{\\beta})$."
   ]
  },
  {
   "cell_type": "code",
   "execution_count": 9,
   "id": "a594a13f",
   "metadata": {
    "tags": []
   },
   "outputs": [],
   "source": [
    "sumstats <- univariate_regression(X, y)"
   ]
  },
  {
   "cell_type": "markdown",
   "id": "e7de1dab-dc0c-44db-9cd9-60aead675aa8",
   "metadata": {},
   "source": [
    "-----------------------------------------"
   ]
  },
  {
   "cell_type": "markdown",
   "id": "4fbd22c3",
   "metadata": {},
   "source": [
    "**Question 2: Please use R function plot to compare the true effects variable `b` with the estimated effect sizes `sumstats$betahat`. Are they consistent, and why?**"
   ]
  },
  {
   "cell_type": "markdown",
   "id": "2138f4ac-a6de-4d14-9911-8eff53381f21",
   "metadata": {
    "tags": []
   },
   "source": [
    "**Answer:**"
   ]
  },
  {
   "cell_type": "code",
   "execution_count": 10,
   "id": "2e7d0b25-0e41-49a4-9f9b-41057022c321",
   "metadata": {},
   "outputs": [
    {
     "data": {
      "text/html": [
       "<style>\n",
       ".list-inline {list-style: none; margin:0; padding: 0}\n",
       ".list-inline>li {display: inline-block}\n",
       ".list-inline>li:not(:last-child)::after {content: \"\\00b7\"; padding: 0 .5ex}\n",
       "</style>\n",
       "<ol class=list-inline><li>1.18917229920409</li><li>-0.831788980799581</li><li>1.39928773430517</li></ol>\n"
      ],
      "text/latex": [
       "\\begin{enumerate*}\n",
       "\\item 1.18917229920409\n",
       "\\item -0.831788980799581\n",
       "\\item 1.39928773430517\n",
       "\\end{enumerate*}\n"
      ],
      "text/markdown": [
       "1. 1.18917229920409\n",
       "2. -0.831788980799581\n",
       "3. 1.39928773430517\n",
       "\n",
       "\n"
      ],
      "text/plain": [
       "[1]  1.189172 -0.831789  1.399288"
      ]
     },
     "metadata": {},
     "output_type": "display_data"
    },
    {
     "data": {
      "text/html": [
       "<style>\n",
       ".list-inline {list-style: none; margin:0; padding: 0}\n",
       ".list-inline>li {display: inline-block}\n",
       ".list-inline>li:not(:last-child)::after {content: \"\\00b7\"; padding: 0 .5ex}\n",
       "</style>\n",
       "<ol class=list-inline><li>1.28588954036061</li><li>-1.12605289731095</li><li>1.42120842055517</li></ol>\n"
      ],
      "text/latex": [
       "\\begin{enumerate*}\n",
       "\\item 1.28588954036061\n",
       "\\item -1.12605289731095\n",
       "\\item 1.42120842055517\n",
       "\\end{enumerate*}\n"
      ],
      "text/markdown": [
       "1. 1.28588954036061\n",
       "2. -1.12605289731095\n",
       "3. 1.42120842055517\n",
       "\n",
       "\n"
      ],
      "text/plain": [
       "[1]  1.285890 -1.126053  1.421208"
      ]
     },
     "metadata": {},
     "output_type": "display_data"
    }
   ],
   "source": [
    "effect_sizes\n",
    "sumstats$betahat[which(b != 0)]"
   ]
  },
  {
   "cell_type": "code",
   "execution_count": 11,
   "id": "4397cdd1-b6d4-4f69-a509-0df006d97425",
   "metadata": {},
   "outputs": [
    {
     "data": {
      "image/png": "[encoded data removed]",
      "text/plain": [
       "Plot with title \"Compare with True Effect Sizes of Variants\""
      ]
     },
     "metadata": {
      "image/png": {
       "height": 420,
       "width": 420
      }
     },
     "output_type": "display_data"
    }
   ],
   "source": [
    "plot(\n",
    "  sumstats$betahat,\n",
    "  type = \"h\",\n",
    "  col = \"red\",\n",
    "  main = \"Compare with True Effect Sizes of Variants\",\n",
    "  xlab = \"Variant Index\",\n",
    "  ylab = \"Effect Size\"\n",
    ")\n",
    "lines(b, type = \"h\", col = \"blue\")"
   ]
  },
  {
   "cell_type": "markdown",
   "id": "0e4a43eb-2c9d-4145-97ec-eea2bbfb2089",
   "metadata": {},
   "source": [
    "According to the plot and the compare result, the three \"causal\" variants' effect size are similar with the true effect size. However, this method assigns effects to variants that actually had no effect, possibly because the regressions were conducted independently, ignoring the correlations between variants."
   ]
  },
  {
   "cell_type": "markdown",
   "id": "6f110acf-fe57-4a5c-b419-49d04f00275b",
   "metadata": {},
   "source": [
    "-----------------------------------------"
   ]
  },
  {
   "cell_type": "markdown",
   "id": "f1ac3656",
   "metadata": {},
   "source": [
    "z-scores can be derived from these quantities; $-log_{10}$ p-values can then becomputed from z-scores, "
   ]
  },
  {
   "cell_type": "code",
   "execution_count": 12,
   "id": "22d653f0",
   "metadata": {
    "tags": []
   },
   "outputs": [],
   "source": [
    "z_scores <- sumstats$betahat / sumstats$sebetahat\n",
    "log10p <- -log10(pchisq(z_scores^2,1,lower.tail=F))"
   ]
  },
  {
   "cell_type": "markdown",
   "id": "bb313298-7a76-4906-95d8-9c1b907a8223",
   "metadata": {},
   "source": [
    "-----------------------------------------"
   ]
  },
  {
   "cell_type": "markdown",
   "id": "bd6292de",
   "metadata": {},
   "source": [
    "**Question 3: How many variables have p-values smaller than $5 \\times 10^{-8}$? How would you interpret those variants based on the univariate association analysis?**\n"
   ]
  },
  {
   "cell_type": "markdown",
   "id": "6f8a4d46-6d8c-41e7-a7b3-750cc5c9b92d",
   "metadata": {
    "tags": []
   },
   "source": [
    "**Answer:**"
   ]
  },
  {
   "cell_type": "code",
   "execution_count": 13,
   "id": "8864a974-5840-4e13-b157-d06293b1b3c7",
   "metadata": {},
   "outputs": [
    {
     "data": {
      "text/html": [
       "8"
      ],
      "text/latex": [
       "8"
      ],
      "text/markdown": [
       "8"
      ],
      "text/plain": [
       "[1] 8"
      ]
     },
     "metadata": {},
     "output_type": "display_data"
    }
   ],
   "source": [
    "length(which(log10p > -log10(5 * 10 ^ (-8))))"
   ]
  },
  {
   "cell_type": "markdown",
   "id": "bb2cca7a-29c7-4390-962b-febfdc8961f6",
   "metadata": {},
   "source": [
    "only 8 variables have p-values smaller than 5e-8. \n",
    "At a confidence level of 1-5e-8, we can conclude that the variants of these eight genes are each associated with the phenotype."
   ]
  },
  {
   "cell_type": "markdown",
   "id": "ff2bc11a-878d-4740-a770-af08f78f4113",
   "metadata": {},
   "source": [
    "**Question 4: What's the correlation between these variables (with p-values smaller than $5 \\times 10^{-8}$) in the original genotype data `X`? Draw a correlogram and print out the pair with highest positive correlation. What does it mean for those two variants?**"
   ]
  },
  {
   "cell_type": "markdown",
   "id": "e29efa2c-7592-40bf-ab59-f8ce52a8fd02",
   "metadata": {},
   "source": [
    "**Answer:**"
   ]
  },
  {
   "cell_type": "code",
   "execution_count": 14,
   "id": "faaf6660-6bb2-4ea7-b35b-940d40c20100",
   "metadata": {},
   "outputs": [
    {
     "data": {
      "image/png": "[encoded data removed]",
      "text/plain": [
       "Plot with title \"\""
      ]
     },
     "metadata": {
      "image/png": {
       "height": 420,
       "width": 420
      }
     },
     "output_type": "display_data"
    }
   ],
   "source": [
    "X_matrix = X[,which(log10p > -log10(5 * 10 ^ (-8)))]\n",
    "colnames(X_matrix) = which(log10p > -log10(5 * 10 ^ (-8)))\n",
    "cor_matrix = cor(X_matrix, use = \"pairwise.complete.obs\")\n",
    "corrplot(cor_matrix)"
   ]
  },
  {
   "cell_type": "markdown",
   "id": "6e1016ff-3601-4b9b-aa15-0939117ba077",
   "metadata": {},
   "source": [
    "We can observe that variants 666 and 667, as well as variants 773 and 777, exhibit a clear linear correlation. \n",
    "Among them, variants 773 and 777 show a stronger correlation, indicating that these two variants share many similarities in influencing gene expression."
   ]
  },
  {
   "cell_type": "markdown",
   "id": "130ce7ac-04b2-4147-9a9d-9c6cc6d08629",
   "metadata": {},
   "source": [
    "-----------------------------------------"
   ]
  },
  {
   "cell_type": "markdown",
   "id": "f06fef39",
   "metadata": {},
   "source": [
    "`susieR` package provides a plot function to generate Manhattan plot for the association test results. Notice that the true effect variables are labelled in red (true effects provided to `susie_plot` via setting `b=` parameter),"
   ]
  },
  {
   "cell_type": "code",
   "execution_count": 15,
   "id": "592b5785",
   "metadata": {
    "tags": []
   },
   "outputs": [
    {
     "data": {
      "image/png": "[encoded data removed]",
      "text/plain": [
       "plot without title"
      ]
     },
     "metadata": {
      "image/png": {
       "height": 420,
       "width": 420
      }
     },
     "output_type": "display_data"
    }
   ],
   "source": [
    "susie_plot(z_scores,y=\"z\",b=b)"
   ]
  },
  {
   "cell_type": "markdown",
   "id": "95d82a8f",
   "metadata": {},
   "source": [
    "As shown on this plot, the \"lead\" SNP (the one with smallest p-value) is indeed one of the true effect variables. However, the 2nd most significant SNP is not one of the other two effect variables, and there are many other SNPs having p-values smaller than $5 \\times 10^{-8}$, a widely accepted significant level threshold for genetic association studies."
   ]
  },
  {
   "cell_type": "markdown",
   "id": "b7ebde88-1534-4f41-9ce2-ade0f329835d",
   "metadata": {},
   "source": [
    "-----------------------------------------"
   ]
  },
  {
   "cell_type": "markdown",
   "id": "d49d3db0-4b78-4ffb-a7ae-d08a88d43c4e",
   "metadata": {},
   "source": [
    "**Question 5: What index is the second most significant SNP? Is it one of the other two true effect variables? What would you say about the relationship between the top and 2nd most significant SNPs?**\n"
   ]
  },
  {
   "cell_type": "markdown",
   "id": "f47aac12-04a8-42f7-a89d-1f3dd777162a",
   "metadata": {},
   "source": [
    "**Answer:**"
   ]
  },
  {
   "cell_type": "code",
   "execution_count": 18,
   "id": "6e49e0d7-7d50-41a1-b76e-0d4b1c2c5ddc",
   "metadata": {},
   "outputs": [
    {
     "data": {
      "text/html": [
       "777"
      ],
      "text/latex": [
       "777"
      ],
      "text/markdown": [
       "777"
      ],
      "text/plain": [
       "[1] 777"
      ]
     },
     "metadata": {},
     "output_type": "display_data"
    },
    {
     "data": {
      "text/html": [
       "FALSE"
      ],
      "text/latex": [
       "FALSE"
      ],
      "text/markdown": [
       "FALSE"
      ],
      "text/plain": [
       "[1] FALSE"
      ]
     },
     "metadata": {},
     "output_type": "display_data"
    }
   ],
   "source": [
    "sec_SNP = which(log10p == sort(log10p, decreasing = TRUE)[2])\n",
    "sec_SNP\n",
    "sec_SNP %in% which(b != 0)"
   ]
  },
  {
   "cell_type": "markdown",
   "id": "22850e5c-3eb3-4878-82a2-4cf3b0943bb3",
   "metadata": {},
   "source": [
    "The second most dignificant SNP is 777. It's not the other two true effect variables. \n",
    "\n",
    "As we just observed, variants 773 and 777 exhibit significant correlation, suggesting that they may serve similar functions in gene expression and can be considered as a single true variant."
   ]
  },
  {
   "cell_type": "markdown",
   "id": "b002ed5a-5cc7-47b4-9348-95ab706e07d0",
   "metadata": {},
   "source": [
    "-----------------------------------------"
   ]
  },
  {
   "cell_type": "markdown",
   "id": "fcc44b7e",
   "metadata": {},
   "source": [
    "# \"One causal variant\" assumption for fine-mapping"
   ]
  },
  {
   "cell_type": "markdown",
   "id": "d132701d",
   "metadata": {},
   "source": [
    "Under the assumption that there is only one true effect in the region of interest, fine-mapping does not have to use linkage disequilibrium (LD) information between variables. It can be performed by simply calculating the likelihood of the association model for each variable separately, then computing the probability for a variable being the true effect as the ratio of its likelihood over the sum of likelihoods over all variables. We use linear regression `lm` in R to compute the log-likelihood,"
   ]
  },
  {
   "cell_type": "code",
   "execution_count": 20,
   "id": "f66a3df2",
   "metadata": {
    "tags": []
   },
   "outputs": [],
   "source": [
    "lliks = sapply(1:ncol(X), function(i) logLik(lm(y~X[,i])))"
   ]
  },
  {
   "cell_type": "markdown",
   "id": "4a00e8f0",
   "metadata": {},
   "source": [
    "Then compute the probability for each variable being the true effect variable: "
   ]
  },
  {
   "cell_type": "code",
   "execution_count": 21,
   "id": "005c78b4",
   "metadata": {
    "tags": []
   },
   "outputs": [],
   "source": [
    "lliks = lliks - max(lliks) # To avoid taking exp on large numbers in the next line, thus improving numerical stability \n",
    "probs = exp(lliks)/sum(exp(lliks))"
   ]
  },
  {
   "cell_type": "markdown",
   "id": "13e55277",
   "metadata": {},
   "source": [
    "We use `susie_plot` function to plot these probabilities computed, and color label the true effect variables:"
   ]
  },
  {
   "cell_type": "code",
   "execution_count": 22,
   "id": "80022c3b",
   "metadata": {
    "tags": []
   },
   "outputs": [
    {
     "data": {
      "image/png": "[encoded data removed]",
      "text/plain": [
       "plot without title"
      ]
     },
     "metadata": {
      "image/png": {
       "height": 420,
       "width": 420
      }
     },
     "output_type": "display_data"
    }
   ],
   "source": [
    "susie_plot(probs, y=\"PIP\", b=b, ylab = \"Prob. true effect (assuming one effect variable)\")"
   ]
  },
  {
   "cell_type": "markdown",
   "id": "4d348e9e",
   "metadata": {},
   "source": [
    "As expected, under the \"one causal variant\" assumption, only the lead SNP is identified with over 80% probability of having a non-zero effect. The other two true effect variables in red are not identified."
   ]
  },
  {
   "cell_type": "markdown",
   "id": "13051911",
   "metadata": {},
   "source": [
    "## 95% credible set for single effect\n",
    "\n",
    "95% credible set (CS) is defined as a set of variables with 95% probability of containing a true effect. By visually examine the plot above, we can see that the lead SNP has over 80% probability being the true effect, and another SNP near it has almost 20% probability of being the true effect. The 95% credible set should thus contain both of them in order for the coverage to exceed 95%. Indeed, we can formally verify this using an internal function `in_CS` to assess if a variable is in a single effect CS. We report the indices of these variables,"
   ]
  },
  {
   "cell_type": "code",
   "execution_count": 23,
   "id": "b04034a6-6546-4f1d-abf1-a13563434356",
   "metadata": {
    "tags": []
   },
   "outputs": [
    {
     "data": {
      "text/html": [
       "<style>\n",
       ".list-inline {list-style: none; margin:0; padding: 0}\n",
       ".list-inline>li {display: inline-block}\n",
       ".list-inline>li:not(:last-child)::after {content: \"\\00b7\"; padding: 0 .5ex}\n",
       "</style>\n",
       "<ol class=list-inline><li>773</li><li>777</li></ol>\n"
      ],
      "text/latex": [
       "\\begin{enumerate*}\n",
       "\\item 773\n",
       "\\item 777\n",
       "\\end{enumerate*}\n"
      ],
      "text/markdown": [
       "1. 773\n",
       "2. 777\n",
       "\n",
       "\n"
      ],
      "text/plain": [
       "[1] 773 777"
      ]
     },
     "metadata": {},
     "output_type": "display_data"
    }
   ],
   "source": [
    "which(susieR:::in_CS(t(probs), coverage = 0.95) != 0)"
   ]
  },
  {
   "cell_type": "markdown",
   "id": "d278d4f4-1851-4283-b1ad-036b94d30893",
   "metadata": {},
   "source": [
    "These variables indeed correspond to the two non-zero probability variables on the plot above."
   ]
  },
  {
   "cell_type": "markdown",
   "id": "8739da59",
   "metadata": {},
   "source": [
    "# Fine-mapping with individual level data using Sum of Single Effects model\n",
    "\n",
    "When multiple true effects are expected, formal statistical fine-mapping via Bayesian Variable Selection\n",
    "should be performed. We fit a Sum of Single Effects (SuSiE) model implemented in `susieR` package, \n",
    "assuming at most 10 causal variables (although SuSiE is robust to the choice of `L`)."
   ]
  },
  {
   "cell_type": "code",
   "execution_count": 24,
   "id": "a2833868",
   "metadata": {
    "tags": []
   },
   "outputs": [
    {
     "name": "stderr",
     "output_type": "stream",
     "text": [
      "\u001b[1m\u001b[4m\u001b[35mHINT:\u001b[39m\u001b[24m\u001b[22m For an X with many columns, please consider installingthe Rfast package for more efficient credible set (CS)calculations.\n",
      "\n"
     ]
    }
   ],
   "source": [
    "fitted <- susie(X, y, L = 10)"
   ]
  },
  {
   "cell_type": "markdown",
   "id": "6b81130b",
   "metadata": {},
   "source": [
    "## 95% credible sets for each single effect\n",
    "\n",
    "By default, `susie` function computes 95% CS each containing one effect variable,"
   ]
  },
  {
   "cell_type": "code",
   "execution_count": 25,
   "id": "b6a29161",
   "metadata": {
    "tags": []
   },
   "outputs": [
    {
     "name": "stdout",
     "output_type": "stream",
     "text": [
      "$cs\n",
      "$cs$L2\n",
      "[1] 653\n",
      "\n",
      "$cs$L1\n",
      "[1] 773 777\n",
      "\n",
      "$cs$L3\n",
      " [1] 362 365 372 373 374 379 381 383 384 386 387 388 389 391 392 396 397 398 399\n",
      "[20] 400 401 403 404 405 407 408 415\n",
      "\n",
      "\n",
      "$purity\n",
      "   min.abs.corr mean.abs.corr median.abs.corr\n",
      "L2    1.0000000     1.0000000       1.0000000\n",
      "L1    0.9815726     0.9815726       0.9815726\n",
      "L3    0.8686309     0.9640176       0.9720711\n",
      "\n",
      "$cs_index\n",
      "[1] 2 1 3\n",
      "\n",
      "$coverage\n",
      "[1] 0.9998236 0.9988858 0.9539811\n",
      "\n",
      "$requested_coverage\n",
      "[1] 0.95\n",
      "\n"
     ]
    }
   ],
   "source": [
    "print(fitted$sets)"
   ]
  },
  {
   "cell_type": "markdown",
   "id": "0c102eac",
   "metadata": {},
   "source": [
    "The 3 true signals have been captured by the 3 CS reported here. The\n",
    "3rd CS contains many variables, including the true causal variable\n",
    "`403`. The minimum absolute correlation is 0.86."
   ]
  },
  {
   "cell_type": "markdown",
   "id": "4e65b052-4170-464c-8679-555da599780a",
   "metadata": {},
   "source": [
    "-----------------------------------"
   ]
  },
  {
   "cell_type": "markdown",
   "id": "136388f7-a2ba-437d-ba08-5bfb50274e4c",
   "metadata": {},
   "source": [
    "**Question 6: Print the credible sets if we use 99% as the coverage. Hint: you may want to check the source code for `susie` function from [here](https://github.com/stephenslab/susieR)**."
   ]
  },
  {
   "cell_type": "markdown",
   "id": "66a1c80f-a8eb-4184-9dfc-da2f92c2dd49",
   "metadata": {},
   "source": [
    "**Answer:**"
   ]
  },
  {
   "cell_type": "code",
   "execution_count": 27,
   "id": "dd04c909-7e3f-419d-b13b-f70a39c7b355",
   "metadata": {},
   "outputs": [
    {
     "name": "stderr",
     "output_type": "stream",
     "text": [
      "\u001b[1m\u001b[4m\u001b[35mHINT:\u001b[39m\u001b[24m\u001b[22m For an X with many columns, please consider installingthe Rfast package for more efficient credible set (CS)calculations.\n",
      "\n"
     ]
    },
    {
     "name": "stdout",
     "output_type": "stream",
     "text": [
      "$cs\n",
      "$cs$L2\n",
      "[1] 653\n",
      "\n",
      "$cs$L1\n",
      "[1] 773 777\n",
      "\n",
      "$cs$L3\n",
      " [1] 360 361 362 365 366 367 368 372 373 374 379 381 383 384 386 387 388 389 391\n",
      "[20] 392 396 397 398 399 400 401 403 404 405 407 408 409 410 415 419\n",
      "\n",
      "\n",
      "$purity\n",
      "   min.abs.corr mean.abs.corr median.abs.corr\n",
      "L2    1.0000000     1.0000000       1.0000000\n",
      "L1    0.9815726     0.9815726       0.9815726\n",
      "L3    0.8310851     0.9499450       0.9556871\n",
      "\n",
      "$cs_index\n",
      "[1] 2 1 3\n",
      "\n",
      "$coverage\n",
      "[1] 0.9998236 0.9988858 0.9906629\n",
      "\n",
      "$requested_coverage\n",
      "[1] 0.99\n",
      "\n"
     ]
    }
   ],
   "source": [
    "fitted_2 <- susie(X, y, L = 10, coverage = 0.99)\n",
    "print(fitted_2$sets)"
   ]
  },
  {
   "cell_type": "markdown",
   "id": "981d658e-4b21-45b0-9834-27f5feb1e58e",
   "metadata": {},
   "source": [
    "Here is the result."
   ]
  },
  {
   "cell_type": "markdown",
   "id": "b421822b-ca6d-4114-92d9-57a2798732f0",
   "metadata": {},
   "source": [
    "**Question 7: does higher coverage mean you have larger CS, or smaller CS? Why is that? Please look at the 3rd CS as an example in the two fitted results, and explain why the minimum absolute correlation is lower when the coverage is higher?**"
   ]
  },
  {
   "cell_type": "markdown",
   "id": "a44e1432-5e7a-4036-aecc-7f4ee42640c2",
   "metadata": {},
   "source": [
    "**Answer:**"
   ]
  },
  {
   "cell_type": "markdown",
   "id": "bf78d1f1-a073-4591-b613-64fbde550c24",
   "metadata": {},
   "source": [
    "yes, higher coverage means larger CS. We can find that in the 3rd CS, there are more variants compared with a 3rd CS got from a 95% coverage. \n",
    "Since more variants are needed to increase the total sum of PIP to meet the coverage requirement, coverage can be understood as a type of threshold. \n",
    "Thus, more less-related variants are included."
   ]
  },
  {
   "cell_type": "markdown",
   "id": "6c04a158-3cf1-4bb0-a40f-777ff355d38a",
   "metadata": {},
   "source": [
    "-----------------------------------"
   ]
  },
  {
   "cell_type": "markdown",
   "id": "0e1511a9",
   "metadata": {},
   "source": [
    "## Posterior inclusion probabilities\n",
    "\n",
    "Here we summarize the fine-mapping results by posterior inclusion\n",
    "probability (PIP):"
   ]
  },
  {
   "cell_type": "code",
   "execution_count": 28,
   "id": "741c98b4",
   "metadata": {
    "tags": []
   },
   "outputs": [
    {
     "data": {
      "image/png": "[encoded data removed]",
      "text/plain": [
       "plot without title"
      ]
     },
     "metadata": {
      "image/png": {
       "height": 420,
       "width": 420
      }
     },
     "output_type": "display_data"
    }
   ],
   "source": [
    "susie_plot(fitted, y=\"PIP\", b=b, add_legend=T)"
   ]
  },
  {
   "cell_type": "markdown",
   "id": "bebcdd11",
   "metadata": {},
   "source": [
    "The true effect variables are colored red, and the three 95% CS identified are\n",
    "circled in different colors. "
   ]
  },
  {
   "cell_type": "markdown",
   "id": "3d76560f-726f-4dde-93d9-ac79b06180a5",
   "metadata": {},
   "source": [
    "-------------------------------------------"
   ]
  },
  {
   "cell_type": "markdown",
   "id": "acd92fde-73e1-412e-a2cf-e392c0508468",
   "metadata": {},
   "source": [
    "**Question 8: Recall the true effect variables we know before running any susie, and for the variable 403, what is the PIP? What's the average PIP of the 3rd CS? Is the PIP for variable 403 higher or lower than the average, and why is that?**"
   ]
  },
  {
   "cell_type": "markdown",
   "id": "7e1ec1a4",
   "metadata": {},
   "source": [
    "Hint: You can use the code below to compare $-log_{10}$ p-value and PIP for the CS containing variable 403:"
   ]
  },
  {
   "cell_type": "markdown",
   "id": "126be6ca-30de-4e9d-9367-237fcc271dc3",
   "metadata": {
    "tags": []
   },
   "source": [
    "```R\n",
    "    i  <- fitted$sets$cs$L3\n",
    "    z3 <- cbind(i,log10p[i],fitted$pip[i])\n",
    "    colnames(z3) <- c('position', '-log10 pvalue', 'PIP')\n",
    "    z3[order(z3[,2], decreasing = TRUE),]\n",
    "```"
   ]
  },
  {
   "cell_type": "markdown",
   "id": "918836fa-d45c-4af9-965b-914513b8d998",
   "metadata": {},
   "source": [
    "**Answer:**"
   ]
  },
  {
   "cell_type": "code",
   "execution_count": 29,
   "id": "2dcbd027-2217-44a8-8893-87b3431e51ca",
   "metadata": {},
   "outputs": [
    {
     "data": {
      "text/html": [
       "<table class=\"dataframe\">\n",
       "<caption>A matrix: 27 × 3 of type dbl</caption>\n",
       "<thead>\n",
       "\t<tr><th scope=col>position</th><th scope=col>-log10 pvalue</th><th scope=col>PIP</th></tr>\n",
       "</thead>\n",
       "<tbody>\n",
       "\t<tr><td>396</td><td>6.676732</td><td>0.056704331</td></tr>\n",
       "\t<tr><td>381</td><td>6.618518</td><td>0.100360243</td></tr>\n",
       "\t<tr><td>386</td><td>6.618518</td><td>0.100360243</td></tr>\n",
       "\t<tr><td>379</td><td>6.417587</td><td>0.054179507</td></tr>\n",
       "\t<tr><td>391</td><td>6.396640</td><td>0.055952118</td></tr>\n",
       "\t<tr><td>383</td><td>6.370810</td><td>0.052896918</td></tr>\n",
       "\t<tr><td>384</td><td>6.370810</td><td>0.052896918</td></tr>\n",
       "\t<tr><td>389</td><td>6.360493</td><td>0.042161265</td></tr>\n",
       "\t<tr><td>405</td><td>6.331181</td><td>0.045761975</td></tr>\n",
       "\t<tr><td>403</td><td>6.322861</td><td>0.031992848</td></tr>\n",
       "\t<tr><td>387</td><td>6.272121</td><td>0.041041505</td></tr>\n",
       "\t<tr><td>388</td><td>6.237010</td><td>0.039650079</td></tr>\n",
       "\t<tr><td>408</td><td>6.230055</td><td>0.041551961</td></tr>\n",
       "\t<tr><td>404</td><td>6.139356</td><td>0.032013339</td></tr>\n",
       "\t<tr><td>374</td><td>6.125189</td><td>0.030571484</td></tr>\n",
       "\t<tr><td>373</td><td>6.094780</td><td>0.023577221</td></tr>\n",
       "\t<tr><td>362</td><td>6.005750</td><td>0.012145481</td></tr>\n",
       "\t<tr><td>399</td><td>5.932096</td><td>0.026454056</td></tr>\n",
       "\t<tr><td>392</td><td>5.922454</td><td>0.019741011</td></tr>\n",
       "\t<tr><td>407</td><td>5.906902</td><td>0.014699313</td></tr>\n",
       "\t<tr><td>400</td><td>5.859007</td><td>0.021659443</td></tr>\n",
       "\t<tr><td>365</td><td>5.762214</td><td>0.006263425</td></tr>\n",
       "\t<tr><td>398</td><td>5.694203</td><td>0.012907848</td></tr>\n",
       "\t<tr><td>401</td><td>5.634175</td><td>0.014858460</td></tr>\n",
       "\t<tr><td>397</td><td>5.620728</td><td>0.008690915</td></tr>\n",
       "\t<tr><td>415</td><td>5.506796</td><td>0.009003129</td></tr>\n",
       "\t<tr><td>372</td><td>5.335809</td><td>0.005886458</td></tr>\n",
       "</tbody>\n",
       "</table>\n"
      ],
      "text/latex": [
       "A matrix: 27 × 3 of type dbl\n",
       "\\begin{tabular}{lll}\n",
       " position & -log10 pvalue & PIP\\\\\n",
       "\\hline\n",
       "\t 396 & 6.676732 & 0.056704331\\\\\n",
       "\t 381 & 6.618518 & 0.100360243\\\\\n",
       "\t 386 & 6.618518 & 0.100360243\\\\\n",
       "\t 379 & 6.417587 & 0.054179507\\\\\n",
       "\t 391 & 6.396640 & 0.055952118\\\\\n",
       "\t 383 & 6.370810 & 0.052896918\\\\\n",
       "\t 384 & 6.370810 & 0.052896918\\\\\n",
       "\t 389 & 6.360493 & 0.042161265\\\\\n",
       "\t 405 & 6.331181 & 0.045761975\\\\\n",
       "\t 403 & 6.322861 & 0.031992848\\\\\n",
       "\t 387 & 6.272121 & 0.041041505\\\\\n",
       "\t 388 & 6.237010 & 0.039650079\\\\\n",
       "\t 408 & 6.230055 & 0.041551961\\\\\n",
       "\t 404 & 6.139356 & 0.032013339\\\\\n",
       "\t 374 & 6.125189 & 0.030571484\\\\\n",
       "\t 373 & 6.094780 & 0.023577221\\\\\n",
       "\t 362 & 6.005750 & 0.012145481\\\\\n",
       "\t 399 & 5.932096 & 0.026454056\\\\\n",
       "\t 392 & 5.922454 & 0.019741011\\\\\n",
       "\t 407 & 5.906902 & 0.014699313\\\\\n",
       "\t 400 & 5.859007 & 0.021659443\\\\\n",
       "\t 365 & 5.762214 & 0.006263425\\\\\n",
       "\t 398 & 5.694203 & 0.012907848\\\\\n",
       "\t 401 & 5.634175 & 0.014858460\\\\\n",
       "\t 397 & 5.620728 & 0.008690915\\\\\n",
       "\t 415 & 5.506796 & 0.009003129\\\\\n",
       "\t 372 & 5.335809 & 0.005886458\\\\\n",
       "\\end{tabular}\n"
      ],
      "text/markdown": [
       "\n",
       "A matrix: 27 × 3 of type dbl\n",
       "\n",
       "| position | -log10 pvalue | PIP |\n",
       "|---|---|---|\n",
       "| 396 | 6.676732 | 0.056704331 |\n",
       "| 381 | 6.618518 | 0.100360243 |\n",
       "| 386 | 6.618518 | 0.100360243 |\n",
       "| 379 | 6.417587 | 0.054179507 |\n",
       "| 391 | 6.396640 | 0.055952118 |\n",
       "| 383 | 6.370810 | 0.052896918 |\n",
       "| 384 | 6.370810 | 0.052896918 |\n",
       "| 389 | 6.360493 | 0.042161265 |\n",
       "| 405 | 6.331181 | 0.045761975 |\n",
       "| 403 | 6.322861 | 0.031992848 |\n",
       "| 387 | 6.272121 | 0.041041505 |\n",
       "| 388 | 6.237010 | 0.039650079 |\n",
       "| 408 | 6.230055 | 0.041551961 |\n",
       "| 404 | 6.139356 | 0.032013339 |\n",
       "| 374 | 6.125189 | 0.030571484 |\n",
       "| 373 | 6.094780 | 0.023577221 |\n",
       "| 362 | 6.005750 | 0.012145481 |\n",
       "| 399 | 5.932096 | 0.026454056 |\n",
       "| 392 | 5.922454 | 0.019741011 |\n",
       "| 407 | 5.906902 | 0.014699313 |\n",
       "| 400 | 5.859007 | 0.021659443 |\n",
       "| 365 | 5.762214 | 0.006263425 |\n",
       "| 398 | 5.694203 | 0.012907848 |\n",
       "| 401 | 5.634175 | 0.014858460 |\n",
       "| 397 | 5.620728 | 0.008690915 |\n",
       "| 415 | 5.506796 | 0.009003129 |\n",
       "| 372 | 5.335809 | 0.005886458 |\n",
       "\n"
      ],
      "text/plain": [
       "      position -log10 pvalue PIP        \n",
       " [1,] 396      6.676732      0.056704331\n",
       " [2,] 381      6.618518      0.100360243\n",
       " [3,] 386      6.618518      0.100360243\n",
       " [4,] 379      6.417587      0.054179507\n",
       " [5,] 391      6.396640      0.055952118\n",
       " [6,] 383      6.370810      0.052896918\n",
       " [7,] 384      6.370810      0.052896918\n",
       " [8,] 389      6.360493      0.042161265\n",
       " [9,] 405      6.331181      0.045761975\n",
       "[10,] 403      6.322861      0.031992848\n",
       "[11,] 387      6.272121      0.041041505\n",
       "[12,] 388      6.237010      0.039650079\n",
       "[13,] 408      6.230055      0.041551961\n",
       "[14,] 404      6.139356      0.032013339\n",
       "[15,] 374      6.125189      0.030571484\n",
       "[16,] 373      6.094780      0.023577221\n",
       "[17,] 362      6.005750      0.012145481\n",
       "[18,] 399      5.932096      0.026454056\n",
       "[19,] 392      5.922454      0.019741011\n",
       "[20,] 407      5.906902      0.014699313\n",
       "[21,] 400      5.859007      0.021659443\n",
       "[22,] 365      5.762214      0.006263425\n",
       "[23,] 398      5.694203      0.012907848\n",
       "[24,] 401      5.634175      0.014858460\n",
       "[25,] 397      5.620728      0.008690915\n",
       "[26,] 415      5.506796      0.009003129\n",
       "[27,] 372      5.335809      0.005886458"
      ]
     },
     "metadata": {},
     "output_type": "display_data"
    },
    {
     "data": {
      "text/html": [
       "<strong>PIP:</strong> 0.0319928476950693"
      ],
      "text/latex": [
       "\\textbf{PIP:} 0.0319928476950693"
      ],
      "text/markdown": [
       "**PIP:** 0.0319928476950693"
      ],
      "text/plain": [
       "       PIP \n",
       "0.03199285 "
      ]
     },
     "metadata": {},
     "output_type": "display_data"
    },
    {
     "data": {
      "text/html": [
       "0.0353326479617792"
      ],
      "text/latex": [
       "0.0353326479617792"
      ],
      "text/markdown": [
       "0.0353326479617792"
      ],
      "text/plain": [
       "[1] 0.03533265"
      ]
     },
     "metadata": {},
     "output_type": "display_data"
    },
    {
     "data": {
      "text/html": [
       "<strong>PIP:</strong> FALSE"
      ],
      "text/latex": [
       "\\textbf{PIP:} FALSE"
      ],
      "text/markdown": [
       "**PIP:** FALSE"
      ],
      "text/plain": [
       "  PIP \n",
       "FALSE "
      ]
     },
     "metadata": {},
     "output_type": "display_data"
    }
   ],
   "source": [
    "i  <- fitted$sets$cs$L3\n",
    "z3 <- cbind(i, log10p[i], fitted$pip[i])\n",
    "colnames(z3) <- c('position', '-log10 pvalue', 'PIP')\n",
    "z3[order(z3[, 2], decreasing = TRUE), ]\n",
    "z3[which(z3[, 1] == 403), 3]\n",
    "mean(z3[,3])\n",
    "mean(z3[,3]) < z3[which(z3[, 1] == 403), 3]"
   ]
  },
  {
   "cell_type": "markdown",
   "id": "ac9be2cd-4668-4632-9605-61108ca372fc",
   "metadata": {},
   "source": [
    "The PIP for 403th variant is 0.031992848 which is less than the average PIP of the 3rd CS. \n",
    "I suspect that the possible reason is that the third CS contains too many variants, causing the PIP of the true variant 403 to be absorbed by other variants."
   ]
  },
  {
   "cell_type": "markdown",
   "id": "098b29b2-506d-4ad2-9113-03d3d2a60e06",
   "metadata": {},
   "source": [
    "***"
   ]
  },
  {
   "cell_type": "markdown",
   "id": "c70db76d",
   "metadata": {},
   "source": [
    "**Question 9: Please rerun the `susie` analysis setting `L=1` to detect a maximum of only one effect across the region. How does the result compare to the previous section of \"one causal effect\" fine-mapping using likelihoods from univariate analysis?**"
   ]
  },
  {
   "cell_type": "markdown",
   "id": "a286e21d-6259-44b9-a5d4-78acd477f777",
   "metadata": {},
   "source": [
    "**Answer:**"
   ]
  },
  {
   "cell_type": "code",
   "execution_count": 30,
   "id": "d29f674d-e619-4967-aed5-ce77304032c1",
   "metadata": {},
   "outputs": [
    {
     "name": "stderr",
     "output_type": "stream",
     "text": [
      "\u001b[1m\u001b[4m\u001b[35mHINT:\u001b[39m\u001b[24m\u001b[22m For an X with many columns, please consider installingthe Rfast package for more efficient credible set (CS)calculations.\n",
      "\n"
     ]
    },
    {
     "name": "stdout",
     "output_type": "stream",
     "text": [
      "$cs\n",
      "$cs$L1\n",
      "[1] 773 777\n",
      "\n",
      "\n",
      "$purity\n",
      "   min.abs.corr mean.abs.corr median.abs.corr\n",
      "L1    0.9815726     0.9815726       0.9815726\n",
      "\n",
      "$cs_index\n",
      "[1] 1\n",
      "\n",
      "$coverage\n",
      "[1] 0.9968218\n",
      "\n",
      "$requested_coverage\n",
      "[1] 0.95\n",
      "\n"
     ]
    }
   ],
   "source": [
    "fitted <- susie(X, y, L = 1)\n",
    "print(fitted$sets)"
   ]
  },
  {
   "cell_type": "markdown",
   "id": "9c584f9f-6c9a-4a1a-9860-17a18d0934b6",
   "metadata": {},
   "source": [
    "The result is same as the results we got from previous section of \"one causal effect\" fine-mapping."
   ]
  },
  {
   "cell_type": "markdown",
   "id": "00c3b66a-eb17-4d2b-b628-74705f233e9e",
   "metadata": {},
   "source": [
    "-------------------------------------------"
   ]
  },
  {
   "cell_type": "markdown",
   "id": "98d9b654",
   "metadata": {},
   "source": [
    "## Choice of prior effect size\n",
    "\n",
    "In SuSiE, the prior effect size is parameterized by the percentage of variance explained by a variable, $h_j^2$. \n",
    "By default, SuSiE estimates $h_j^2$ and uses it as the prior (an empirical Bayes approach). \n",
    "Here we demonstrate fixing the prior effect size to 0.2, i.e., we believe a non-zero effect variable can explain 20% variation in quantitative trait values:"
   ]
  },
  {
   "cell_type": "code",
   "execution_count": 31,
   "id": "c1531799",
   "metadata": {
    "tags": []
   },
   "outputs": [
    {
     "name": "stderr",
     "output_type": "stream",
     "text": [
      "\u001b[1m\u001b[4m\u001b[35mHINT:\u001b[39m\u001b[24m\u001b[22m For an X with many columns, please consider installingthe Rfast package for more efficient credible set (CS)calculations.\n",
      "\n"
     ]
    },
    {
     "data": {
      "image/png": "[encoded data removed]",
      "text/plain": [
       "plot without title"
      ]
     },
     "metadata": {
      "image/png": {
       "height": 420,
       "width": 420
      }
     },
     "output_type": "display_data"
    }
   ],
   "source": [
    "fitted2 = susie(X, y, L = 10, estimate_prior_variance = FALSE, scaled_prior_variance = 0.2)\n",
    "susie_plot(fitted2, y='PIP', b=b, add_legend=T)"
   ]
  },
  {
   "cell_type": "markdown",
   "id": "1f0b5d99",
   "metadata": {},
   "source": [
    "The result is very similar to when prior effects are estimated. "
   ]
  },
  {
   "cell_type": "markdown",
   "id": "738f1e11-6b0d-40f3-8636-c807c0f89968",
   "metadata": {},
   "source": [
    "-------------------------------------------"
   ]
  },
  {
   "cell_type": "markdown",
   "id": "6682f027",
   "metadata": {},
   "source": [
    "**Question 10: Please change `scaled_prior_variance` to different numbers between 0 and 1, and examine the results. What happens if you set it to 0.001, and why?**"
   ]
  },
  {
   "cell_type": "markdown",
   "id": "7ecc21aa-178b-432d-bc89-e906730abb68",
   "metadata": {},
   "source": [
    "**Answer:**"
   ]
  },
  {
   "cell_type": "code",
   "execution_count": 33,
   "id": "74d274fd-5dd4-466c-855d-9589f154ad2a",
   "metadata": {},
   "outputs": [
    {
     "name": "stderr",
     "output_type": "stream",
     "text": [
      "\u001b[1m\u001b[4m\u001b[35mHINT:\u001b[39m\u001b[24m\u001b[22m For an X with many columns, please consider installingthe Rfast package for more efficient credible set (CS)calculations.\n",
      "\n"
     ]
    },
    {
     "data": {
      "image/png": "[encoded data removed]",
      "text/plain": [
       "plot without title"
      ]
     },
     "metadata": {
      "image/png": {
       "height": 420,
       "width": 420
      }
     },
     "output_type": "display_data"
    }
   ],
   "source": [
    "fitted3 = susie(\n",
    "  X,\n",
    "  y,\n",
    "  L = 10,\n",
    "  estimate_prior_variance = FALSE,\n",
    "  scaled_prior_variance = 0.1\n",
    ")\n",
    "susie_plot(fitted3,\n",
    "           y = 'PIP',\n",
    "           b = b,\n",
    "           add_legend = T)"
   ]
  },
  {
   "cell_type": "code",
   "execution_count": 39,
   "id": "8a17b467-38a2-4c72-83ba-21f378780e80",
   "metadata": {},
   "outputs": [
    {
     "name": "stderr",
     "output_type": "stream",
     "text": [
      "\u001b[1m\u001b[4m\u001b[35mHINT:\u001b[39m\u001b[24m\u001b[22m For an X with many columns, please consider installingthe Rfast package for more efficient credible set (CS)calculations.\n",
      "\n"
     ]
    },
    {
     "data": {
      "image/png": "[encoded data removed]",
      "text/plain": [
       "plot without title"
      ]
     },
     "metadata": {
      "image/png": {
       "height": 420,
       "width": 420
      }
     },
     "output_type": "display_data"
    }
   ],
   "source": [
    "fitted4 = susie(\n",
    "  X,\n",
    "  y,\n",
    "  L = 10,\n",
    "  estimate_prior_variance = FALSE,\n",
    "  scaled_prior_variance = 0.002\n",
    ")\n",
    "susie_plot(fitted4,\n",
    "           y = 'PIP',\n",
    "           b = b,\n",
    "           add_legend = T)"
   ]
  },
  {
   "cell_type": "code",
   "execution_count": 41,
   "id": "93ffbc08-e7ff-4ec8-b6d8-6fdb8710aaba",
   "metadata": {},
   "outputs": [
    {
     "name": "stderr",
     "output_type": "stream",
     "text": [
      "\u001b[1m\u001b[4m\u001b[35mHINT:\u001b[39m\u001b[24m\u001b[22m For an X with many columns, please consider installingthe Rfast package for more efficient credible set (CS)calculations.\n",
      "\n"
     ]
    },
    {
     "data": {
      "image/png": "[encoded data removed]",
      "text/plain": [
       "plot without title"
      ]
     },
     "metadata": {
      "image/png": {
       "height": 420,
       "width": 420
      }
     },
     "output_type": "display_data"
    }
   ],
   "source": [
    "fitted5 = susie(\n",
    "  X,\n",
    "  y,\n",
    "  L = 10,\n",
    "  estimate_prior_variance = FALSE,\n",
    "  scaled_prior_variance = 0.001\n",
    ")\n",
    "susie_plot(fitted5,\n",
    "           y = 'PIP',\n",
    "           b = b,\n",
    "           add_legend = T)"
   ]
  },
  {
   "cell_type": "markdown",
   "id": "164d0941-8d90-4b7d-be8c-b8f711ed6f60",
   "metadata": {},
   "source": [
    "We can find if we fix the prior effect size instead of estimating it, when I transfer the prior variance from 0.2 to 0.001, the number of CS decreases from 3 to 0. We can't even find a CS when the prior variance was set to 0.001. \n",
    "\n",
    "Setting the prior effect size to 0.001 in SuSiE assumes that each non-zero effect variable explains only 0.1% of the trait variance. This leads to smaller estimated effect sizes, making the model more conservative in selecting variables. As a result, fewer SNPs may be identified as significant, and their Posterior Inclusion Probability (PIP) could decrease, potentially missing true causal variants. "
   ]
  },
  {
   "cell_type": "markdown",
   "id": "63297879-2c22-4525-8ef4-f371d0b79c68",
   "metadata": {},
   "source": [
    "-------------------------------------------"
   ]
  },
  {
   "cell_type": "markdown",
   "id": "4e58074d",
   "metadata": {},
   "source": [
    "# Fine-mapping with summary statistics via `susie_rss`"
   ]
  },
  {
   "cell_type": "markdown",
   "id": "b2523607",
   "metadata": {},
   "source": [
    "Summary statistics of genetic association studies typically contain effect size ($\\hat{\\beta}$ coefficient from regression), p-value and minor allele frequencies. \n",
    "These information can be used to perform fine-mapping with given an additional input of correlation matrix between variables.\n",
    "The correlation matrix in genetics is typically referred to as LD matrix (LD for linkage disequilibrium). \n",
    "One may use external reference panels to estimate it when this matrix cannot be obtained from samples directly. There is a potential problem using LD from reference panel, and we demonstrated it in the next section.\n",
    "Caution that LD matrix here has to be correlation matrix $r$, not $r^2$ or $|r|$."
   ]
  },
  {
   "cell_type": "markdown",
   "id": "2e3365c2",
   "metadata": {},
   "source": [
    "We have previously computed z-scores for this data-set. The correlation matrix can be computed directly from $X$ matrix, "
   ]
  },
  {
   "cell_type": "code",
   "execution_count": 42,
   "id": "8c75160d",
   "metadata": {
    "tags": []
   },
   "outputs": [],
   "source": [
    "R <- cor(X)"
   ]
  },
  {
   "cell_type": "markdown",
   "id": "a7a36cbf",
   "metadata": {},
   "source": [
    "SuSiE regression with summary statistics is implemented as `susie_rss` function, "
   ]
  },
  {
   "cell_type": "code",
   "execution_count": 43,
   "id": "8ea48d91",
   "metadata": {
    "tags": []
   },
   "outputs": [
    {
     "name": "stderr",
     "output_type": "stream",
     "text": [
      "\u001b[1m\u001b[4m\u001b[31mWARNING:\u001b[39m\u001b[24m\u001b[22m Providing the sample size (n), or even a rough estimate of n, is highly recommended. Without n, the implicit assumption is n is large (Inf) and the effect sizes are small (close to zero).\n",
      "\n",
      "\u001b[1m\u001b[4m\u001b[35mHINT:\u001b[39m\u001b[24m\u001b[22m For large R or large XtX, consider installing the Rfast package for better performance.\n",
      "\n"
     ]
    }
   ],
   "source": [
    "fitted_rss <- susie_rss(z_scores, R, L = 10)"
   ]
  },
  {
   "cell_type": "markdown",
   "id": "de034c96",
   "metadata": {},
   "source": [
    "We compare the PIP obtained with previous analysis using individual level data,"
   ]
  },
  {
   "cell_type": "code",
   "execution_count": 44,
   "id": "ef2daeef",
   "metadata": {
    "tags": []
   },
   "outputs": [
    {
     "data": {
      "image/png": "[encoded data removed]",
      "text/plain": [
       "plot without title"
      ]
     },
     "metadata": {
      "image/png": {
       "height": 420,
       "width": 420
      }
     },
     "output_type": "display_data"
    }
   ],
   "source": [
    "plot(fitted$pip, fitted_rss$pip, ylim=c(0,1))"
   ]
  },
  {
   "cell_type": "markdown",
   "id": "c56f43da",
   "metadata": {},
   "source": [
    "The results very much agree. This is expected when the summary statistics are indeed derived from the individual level data."
   ]
  },
  {
   "cell_type": "markdown",
   "id": "afea6031",
   "metadata": {},
   "source": [
    "## Use LD from external reference data"
   ]
  },
  {
   "cell_type": "markdown",
   "id": "bbdff726",
   "metadata": {},
   "source": [
    "When original genotype information is not available, \n",
    "one may use reference panel to estimate LD matrix. \n",
    "False discoveries may occur if the LD pattern from the reference panel does not agree well with the original sample. \n",
    "\n",
    "To illustrate, we randomly generated 500 samples from $N(0,R)$ and treated them as reference panel genotype matrix `X_ref`."
   ]
  },
  {
   "cell_type": "code",
   "execution_count": 45,
   "id": "1796a956",
   "metadata": {
    "tags": []
   },
   "outputs": [],
   "source": [
    "set.seed(1234)\n",
    "tmp = matrix(rnorm(500*1001), 500, 1001)\n",
    "eigenR = eigen(R)\n",
    "eigenR$values[eigenR$values < 1e-10] = 0\n",
    "X_ref = tmp %*% (eigenR$values * t(eigenR$vectors))\n",
    "R_ref = cor(X_ref)"
   ]
  },
  {
   "cell_type": "markdown",
   "id": "ef294c2a",
   "metadata": {},
   "source": [
    "Using `susie_rss` function with LD from reference panel,"
   ]
  },
  {
   "cell_type": "code",
   "execution_count": 46,
   "id": "1e588acb",
   "metadata": {
    "tags": []
   },
   "outputs": [
    {
     "name": "stderr",
     "output_type": "stream",
     "text": [
      "\u001b[1m\u001b[4m\u001b[31mWARNING:\u001b[39m\u001b[24m\u001b[22m Providing the sample size (n), or even a rough estimate of n, is highly recommended. Without n, the implicit assumption is n is large (Inf) and the effect sizes are small (close to zero).\n",
      "\n",
      "\u001b[1m\u001b[4m\u001b[35mHINT:\u001b[39m\u001b[24m\u001b[22m For large R or large XtX, consider installing the Rfast package for better performance.\n",
      "\n"
     ]
    },
    {
     "data": {
      "image/png": "[encoded data removed]",
      "text/plain": [
       "plot without title"
      ]
     },
     "metadata": {
      "image/png": {
       "height": 420,
       "width": 420
      }
     },
     "output_type": "display_data"
    }
   ],
   "source": [
    "fitted_rss_ref <- susie_rss(z_scores, R_ref, L = 10)\n",
    "susie_plot(fitted_rss_ref, y=\"PIP\", b=b)"
   ]
  },
  {
   "cell_type": "markdown",
   "id": "3a26c33a-dd8b-4013-9615-43b752d3cf19",
   "metadata": {},
   "source": [
    "-------------------------------------------"
   ]
  },
  {
   "cell_type": "markdown",
   "id": "8d2bacc3",
   "metadata": {},
   "source": [
    "**Question 11: Please compare and comment on the CS reported using reference LD panel versus using the correct LD computed from genotype data. Are there any false discoveries?**"
   ]
  },
  {
   "cell_type": "markdown",
   "id": "f9d564b8-3801-4299-8c0b-8006d89fd944",
   "metadata": {},
   "source": [
    "**Answer:**"
   ]
  },
  {
   "cell_type": "markdown",
   "id": "67fd106f-28e7-418c-871f-4d6fd0a8ffc2",
   "metadata": {},
   "source": [
    "We can find, if we use the reference LD panel, we can get so many different CS. What's more, we can't find the true variant in any CS. The result got from reference LD panel performs bad. "
   ]
  },
  {
   "cell_type": "markdown",
   "id": "f67841e9-6e23-4125-8e72-dc7e9bd20818",
   "metadata": {},
   "source": [
    "-------------------------------------------"
   ]
  },
  {
   "cell_type": "markdown",
   "id": "d7fb77c0",
   "metadata": {},
   "source": [
    "We recommend the following modification to the LD matrix when reference panel ($R_{ref}$) are used,\n",
    "$$\n",
    "\\tilde{R} = \\text{cov2cor}((1-w)R_{ref}+ w zz^\\intercal)),\n",
    "$$\n",
    "where z is the original summary statistics. We suggest using $w = 1/n_{ref}$, $n_{ref}$ is the sample size from the reference panel. The modified LD matrix becomes\n",
    "$$\n",
    "\\tilde{R} = \\text{cov2cor}(\\frac{n_{ref}-1}{n_{ref}}R_{ref}+ \\frac{1}{n_{ref}} zz^\\intercal)) = \\text{cov2cor}(\\frac{1}{n_{ref}}(X_{ref}^\\intercal X_{ref}+ zz^\\intercal)),\n",
    "$$\n",
    "where `X_ref` is column-standardized. This modification is implemented in `susie_rss` with parameter `z_ld_weight`:"
   ]
  },
  {
   "cell_type": "code",
   "execution_count": 47,
   "id": "ef18ba63",
   "metadata": {
    "tags": []
   },
   "outputs": [
    {
     "name": "stderr",
     "output_type": "stream",
     "text": [
      "\u001b[1m\u001b[4m\u001b[31mWARNING:\u001b[39m\u001b[24m\u001b[22m As of version 0.11.0, use of non-zero z_ld_weight is no longer recommended\n",
      "\n",
      "\u001b[1m\u001b[4m\u001b[31mWARNING:\u001b[39m\u001b[24m\u001b[22m Providing the sample size (n), or even a rough estimate of n, is highly recommended. Without n, the implicit assumption is n is large (Inf) and the effect sizes are small (close to zero).\n",
      "\n",
      "\u001b[1m\u001b[4m\u001b[35mHINT:\u001b[39m\u001b[24m\u001b[22m For large R or large XtX, consider installing the Rfast package for better performance.\n",
      "\n"
     ]
    },
    {
     "data": {
      "image/png": "[encoded data removed]",
      "text/plain": [
       "plot without title"
      ]
     },
     "metadata": {
      "image/png": {
       "height": 420,
       "width": 420
      }
     },
     "output_type": "display_data"
    }
   ],
   "source": [
    "n_ref = 500\n",
    "fitted_rss_ref_corrected <- susie_rss(z_scores, R_ref, z_ld_weight = 1/n_ref, L = 10)\n",
    "susie_plot(fitted_rss_ref_corrected, y=\"PIP\", b=b)"
   ]
  },
  {
   "cell_type": "markdown",
   "id": "fa627403",
   "metadata": {},
   "source": [
    "***\n",
    "**Question 12: Please compare and comment on the results using adjusted reference LD panel. Is the result improved?**"
   ]
  },
  {
   "cell_type": "markdown",
   "id": "1209786a-dc08-43b5-ac0d-2a76707e795b",
   "metadata": {},
   "source": [
    "**Answer:**"
   ]
  },
  {
   "cell_type": "markdown",
   "id": "efe4ea0e-14a1-48ac-90ef-7aa17b94f761",
   "metadata": {},
   "source": [
    "We can observe a significant improvement in the results. First, we identified two CS, and in both CS, we were able to find the true variants. This aligns with our previous findings, although the previous method identified three CS."
   ]
  },
  {
   "cell_type": "markdown",
   "id": "1f7b3c86-24d0-44a4-85e0-e27a3c96d7d4",
   "metadata": {},
   "source": [
    "***"
   ]
  },
  {
   "cell_type": "markdown",
   "id": "fa93339b",
   "metadata": {},
   "source": [
    "# Exercise: fine-mapping analysis on a different data-set\n",
    "\n",
    "Please load and analyze another data-set provided in `susieR` package:"
   ]
  },
  {
   "cell_type": "code",
   "execution_count": 57,
   "id": "95057aa8",
   "metadata": {
    "tags": []
   },
   "outputs": [],
   "source": [
    "rm(list=ls())\n",
    "library(susieR)\n",
    "data(N2finemapping)"
   ]
  },
  {
   "cell_type": "markdown",
   "id": "8b2f1783",
   "metadata": {},
   "source": [
    "Please use the same R code for `N3finemapping` data to analyze this new data-set, similarly focusing on the first column of the phenotype matrix as the phenotype of interest. \n",
    "This data-set contains two true effect variables. However, as you are soon to find out in univariate linear regression analysis, **the lead SNP via univariate analysis is neither of the two effect variables**."
   ]
  },
  {
   "cell_type": "markdown",
   "id": "4ec83c5a-df6a-4093-afc8-72ceadaccf49",
   "metadata": {},
   "source": [
    "-------------------------------------------"
   ]
  },
  {
   "cell_type": "markdown",
   "id": "ffca2996-1a40-47e3-bc7b-55f20cdd59fc",
   "metadata": {},
   "source": [
    "**Question 13: please run `susie_rss` on the N2finemapping dataset and report the results below. Does it capture any true effect variant?**"
   ]
  },
  {
   "cell_type": "markdown",
   "id": "a378e666-252f-4a3b-9769-269fe7e84b2f",
   "metadata": {},
   "source": [
    "**Answer:**"
   ]
  },
  {
   "cell_type": "code",
   "execution_count": 62,
   "id": "38cb1448-4ab7-4929-9624-9b91eab296cf",
   "metadata": {},
   "outputs": [
    {
     "data": {
      "text/html": [
       "<style>\n",
       ".list-inline {list-style: none; margin:0; padding: 0}\n",
       ".list-inline>li {display: inline-block}\n",
       ".list-inline>li:not(:last-child)::after {content: \"\\00b7\"; padding: 0 .5ex}\n",
       "</style>\n",
       "<ol class=list-inline><li>337</li><li>999</li></ol>\n"
      ],
      "text/latex": [
       "\\begin{enumerate*}\n",
       "\\item 337\n",
       "\\item 999\n",
       "\\end{enumerate*}\n"
      ],
      "text/markdown": [
       "1. 337\n",
       "2. 999\n",
       "\n",
       "\n"
      ],
      "text/plain": [
       "[1] 337 999"
      ]
     },
     "metadata": {},
     "output_type": "display_data"
    },
    {
     "name": "stdout",
     "output_type": "stream",
     "text": [
      "[1] -0.5357235  0.7524393\n"
     ]
    },
    {
     "data": {
      "image/png": "[encoded data removed]",
      "text/plain": [
       "Plot with title \"True Effect Sizes of Variants\""
      ]
     },
     "metadata": {
      "image/png": {
       "height": 420,
       "width": 420
      }
     },
     "output_type": "display_data"
    }
   ],
   "source": [
    "y = Y[,1]\n",
    "b = true_coef[,1]\n",
    "which(b != 0)\n",
    "\n",
    "plot(\n",
    "  b,\n",
    "  type = \"h\",\n",
    "  col = \"blue\",\n",
    "  main = \"True Effect Sizes of Variants\",\n",
    "  xlab = \"Variant Index\",\n",
    "  ylab = \"Effect Size\"\n",
    ")\n",
    "\n",
    "effect_sizes = b[which(b != 0)]\n",
    "print(effect_sizes)"
   ]
  },
  {
   "cell_type": "code",
   "execution_count": 64,
   "id": "cb1cb426-01c2-42c3-a125-dfcf91bdea48",
   "metadata": {},
   "outputs": [
    {
     "data": {
      "text/html": [
       "<style>\n",
       ".list-inline {list-style: none; margin:0; padding: 0}\n",
       ".list-inline>li {display: inline-block}\n",
       ".list-inline>li:not(:last-child)::after {content: \"\\00b7\"; padding: 0 .5ex}\n",
       "</style>\n",
       "<ol class=list-inline><li>-0.535723496673957</li><li>0.752439328406106</li></ol>\n"
      ],
      "text/latex": [
       "\\begin{enumerate*}\n",
       "\\item -0.535723496673957\n",
       "\\item 0.752439328406106\n",
       "\\end{enumerate*}\n"
      ],
      "text/markdown": [
       "1. -0.535723496673957\n",
       "2. 0.752439328406106\n",
       "\n",
       "\n"
      ],
      "text/plain": [
       "[1] -0.5357235  0.7524393"
      ]
     },
     "metadata": {},
     "output_type": "display_data"
    },
    {
     "data": {
      "text/html": [
       "<style>\n",
       ".list-inline {list-style: none; margin:0; padding: 0}\n",
       ".list-inline>li {display: inline-block}\n",
       ".list-inline>li:not(:last-child)::after {content: \"\\00b7\"; padding: 0 .5ex}\n",
       "</style>\n",
       "<ol class=list-inline><li>-0.347297623123417</li><li>0.572059851779614</li></ol>\n"
      ],
      "text/latex": [
       "\\begin{enumerate*}\n",
       "\\item -0.347297623123417\n",
       "\\item 0.572059851779614\n",
       "\\end{enumerate*}\n"
      ],
      "text/markdown": [
       "1. -0.347297623123417\n",
       "2. 0.572059851779614\n",
       "\n",
       "\n"
      ],
      "text/plain": [
       "[1] -0.3472976  0.5720599"
      ]
     },
     "metadata": {},
     "output_type": "display_data"
    }
   ],
   "source": [
    "sumstats = univariate_regression(X, y)\n",
    "effect_sizes\n",
    "sumstats$betahat[which(b != 0)]"
   ]
  },
  {
   "cell_type": "code",
   "execution_count": 65,
   "id": "c6ba22a4-8aeb-4963-a00a-d57041f89721",
   "metadata": {},
   "outputs": [
    {
     "data": {
      "image/png": "[encoded data removed]",
      "text/plain": [
       "Plot with title \"Compare with True Effect Sizes of Variants\""
      ]
     },
     "metadata": {
      "image/png": {
       "height": 420,
       "width": 420
      }
     },
     "output_type": "display_data"
    }
   ],
   "source": [
    "plot(\n",
    "  sumstats$betahat,\n",
    "  type = \"h\",\n",
    "  col = \"red\",\n",
    "  main = \"Compare with True Effect Sizes of Variants\",\n",
    "  xlab = \"Variant Index\",\n",
    "  ylab = \"Effect Size\"\n",
    ")\n",
    "lines(b, type = \"h\", col = \"blue\")"
   ]
  },
  {
   "cell_type": "code",
   "execution_count": 66,
   "id": "09436800-ab33-4310-9eb6-bb17fe1b0abc",
   "metadata": {},
   "outputs": [
    {
     "data": {
      "text/html": [
       "133"
      ],
      "text/latex": [
       "133"
      ],
      "text/markdown": [
       "133"
      ],
      "text/plain": [
       "[1] 133"
      ]
     },
     "metadata": {},
     "output_type": "display_data"
    }
   ],
   "source": [
    "z_scores = sumstats$betahat / sumstats$sebetahat\n",
    "log10p = -log10(pchisq(z_scores^2,1,lower.tail=F))\n",
    "length(which(log10p > -log10(5 * 10 ^ (-8))))"
   ]
  },
  {
   "cell_type": "code",
   "execution_count": 67,
   "id": "5f39fdc3-5eba-4c58-9575-d7f66d8ff8c1",
   "metadata": {},
   "outputs": [
    {
     "data": {
      "image/png": "[encoded data removed]",
      "text/plain": [
       "Plot with title \"\""
      ]
     },
     "metadata": {
      "image/png": {
       "height": 420,
       "width": 420
      }
     },
     "output_type": "display_data"
    }
   ],
   "source": [
    "X_matrix = X[,which(log10p > -log10(5 * 10 ^ (-8)))]\n",
    "colnames(X_matrix) = which(log10p > -log10(5 * 10 ^ (-8)))\n",
    "cor_matrix = cor(X_matrix, use = \"pairwise.complete.obs\")\n",
    "corrplot(cor_matrix)"
   ]
  },
  {
   "cell_type": "code",
   "execution_count": 68,
   "id": "1f446f1c-8da3-4016-94f1-7788e2321510",
   "metadata": {},
   "outputs": [
    {
     "data": {
      "image/png": "[encoded data removed]",
      "text/plain": [
       "plot without title"
      ]
     },
     "metadata": {
      "image/png": {
       "height": 420,
       "width": 420
      }
     },
     "output_type": "display_data"
    }
   ],
   "source": [
    "susie_plot(z_scores,y=\"z\",b=b)"
   ]
  },
  {
   "cell_type": "code",
   "execution_count": 70,
   "id": "338aebb1-dfbc-4802-8a39-8b325115a503",
   "metadata": {},
   "outputs": [
    {
     "data": {
      "image/png": "[encoded data removed]",
      "text/plain": [
       "plot without title"
      ]
     },
     "metadata": {
      "image/png": {
       "height": 420,
       "width": 420
      }
     },
     "output_type": "display_data"
    }
   ],
   "source": [
    "lliks = sapply(1:ncol(X), function(i)\n",
    "  logLik(lm(y ~ X[, i])))\n",
    "lliks = lliks - max(lliks) # To avoid taking exp on large numbers in the next line, thus improving numerical stability\n",
    "probs = exp(lliks) / sum(exp(lliks))\n",
    "\n",
    "susie_plot(probs, \n",
    "           y = \"PIP\", \n",
    "           b = b, \n",
    "           ylab = \"Prob. true effect (assuming one effect variable)\")"
   ]
  },
  {
   "cell_type": "markdown",
   "id": "3fb34154-a71e-403b-89f0-c225cdf1d763",
   "metadata": {},
   "source": [
    "performs bad here."
   ]
  },
  {
   "cell_type": "code",
   "execution_count": 71,
   "id": "a27c9179-4fbc-4a48-9e8d-ccbaa1f2c8e8",
   "metadata": {},
   "outputs": [
    {
     "data": {
      "text/html": [
       "<style>\n",
       ".list-inline {list-style: none; margin:0; padding: 0}\n",
       ".list-inline>li {display: inline-block}\n",
       ".list-inline>li:not(:last-child)::after {content: \"\\00b7\"; padding: 0 .5ex}\n",
       "</style>\n",
       "<ol class=list-inline><li>765</li><li>767</li><li>770</li><li>774</li><li>776</li><li>778</li><li>780</li><li>782</li><li>788</li><li>790</li><li>791</li><li>792</li><li>814</li><li>824</li><li>834</li><li>837</li><li>838</li><li>847</li><li>849</li><li>868</li><li>869</li></ol>\n"
      ],
      "text/latex": [
       "\\begin{enumerate*}\n",
       "\\item 765\n",
       "\\item 767\n",
       "\\item 770\n",
       "\\item 774\n",
       "\\item 776\n",
       "\\item 778\n",
       "\\item 780\n",
       "\\item 782\n",
       "\\item 788\n",
       "\\item 790\n",
       "\\item 791\n",
       "\\item 792\n",
       "\\item 814\n",
       "\\item 824\n",
       "\\item 834\n",
       "\\item 837\n",
       "\\item 838\n",
       "\\item 847\n",
       "\\item 849\n",
       "\\item 868\n",
       "\\item 869\n",
       "\\end{enumerate*}\n"
      ],
      "text/markdown": [
       "1. 765\n",
       "2. 767\n",
       "3. 770\n",
       "4. 774\n",
       "5. 776\n",
       "6. 778\n",
       "7. 780\n",
       "8. 782\n",
       "9. 788\n",
       "10. 790\n",
       "11. 791\n",
       "12. 792\n",
       "13. 814\n",
       "14. 824\n",
       "15. 834\n",
       "16. 837\n",
       "17. 838\n",
       "18. 847\n",
       "19. 849\n",
       "20. 868\n",
       "21. 869\n",
       "\n",
       "\n"
      ],
      "text/plain": [
       " [1] 765 767 770 774 776 778 780 782 788 790 791 792 814 824 834 837 838 847 849\n",
       "[20] 868 869"
      ]
     },
     "metadata": {},
     "output_type": "display_data"
    }
   ],
   "source": [
    "which(susieR:::in_CS(t(probs), coverage = 0.95) != 0)"
   ]
  },
  {
   "cell_type": "code",
   "execution_count": 85,
   "id": "f68c8c03-3b44-47e9-bb1d-c2d03b5c0d35",
   "metadata": {},
   "outputs": [
    {
     "name": "stderr",
     "output_type": "stream",
     "text": [
      "\u001b[1m\u001b[4m\u001b[35mHINT:\u001b[39m\u001b[24m\u001b[22m For an X with many columns, please consider installingthe Rfast package for more efficient credible set (CS)calculations.\n",
      "\n"
     ]
    },
    {
     "name": "stdout",
     "output_type": "stream",
     "text": [
      "$cs\n",
      "$cs$L2\n",
      " [1]  850  913  914  915  916  920  924  925  926  927  930  931  933  934  935\n",
      "[16]  942  946  948  951  952  962  967  968  979  980  982  983  985  988  989\n",
      "[31]  993  994  996  999 1000 1001 1002\n",
      "\n",
      "$cs$L3\n",
      "[1] 337 379 440\n",
      "\n",
      "\n",
      "$purity\n",
      "   min.abs.corr mean.abs.corr median.abs.corr\n",
      "L2    0.9722386     0.9938064       0.9947184\n",
      "L3    0.8534981     0.8775989       0.8848378\n",
      "\n",
      "$cs_index\n",
      "[1] 2 3\n",
      "\n",
      "$coverage\n",
      "[1] 0.9545920 0.9696759\n",
      "\n",
      "$requested_coverage\n",
      "[1] 0.95\n",
      "\n"
     ]
    }
   ],
   "source": [
    "fitted <- susie(X, y, L = 10)\n",
    "print(fitted$sets)"
   ]
  },
  {
   "cell_type": "markdown",
   "id": "4b5e075e-eeae-46f1-bf3f-d8a863e0da5a",
   "metadata": {},
   "source": [
    "Performs well, and we can find two true variants in two CS separately."
   ]
  },
  {
   "cell_type": "code",
   "execution_count": 84,
   "id": "2fd90074-fac1-4c8b-8c6e-2d9d53d67a74",
   "metadata": {},
   "outputs": [
    {
     "name": "stderr",
     "output_type": "stream",
     "text": [
      "\u001b[1m\u001b[4m\u001b[31mWARNING:\u001b[39m\u001b[24m\u001b[22m Providing the sample size (n), or even a rough estimate of n, is highly recommended. Without n, the implicit assumption is n is large (Inf) and the effect sizes are small (close to zero).\n",
      "\n",
      "\u001b[1m\u001b[4m\u001b[35mHINT:\u001b[39m\u001b[24m\u001b[22m For large R or large XtX, consider installing the Rfast package for better performance.\n",
      "\n"
     ]
    },
    {
     "data": {
      "image/png": "[encoded data removed]",
      "text/plain": [
       "plot without title"
      ]
     },
     "metadata": {
      "image/png": {
       "height": 420,
       "width": 420
      }
     },
     "output_type": "display_data"
    }
   ],
   "source": [
    "R <- cor(X)\n",
    "fitted_rss <- susie_rss(z_scores, R, L = 10)\n",
    "plot(fitted$pip, fitted_rss$pip, ylim=c(0,1))"
   ]
  },
  {
   "cell_type": "code",
   "execution_count": 86,
   "id": "74c1483c-fb55-43d7-9174-414b79f75b80",
   "metadata": {},
   "outputs": [
    {
     "name": "stderr",
     "output_type": "stream",
     "text": [
      "\u001b[1m\u001b[4m\u001b[31mWARNING:\u001b[39m\u001b[24m\u001b[22m As of version 0.11.0, use of non-zero z_ld_weight is no longer recommended\n",
      "\n",
      "\u001b[1m\u001b[4m\u001b[31mWARNING:\u001b[39m\u001b[24m\u001b[22m Providing the sample size (n), or even a rough estimate of n, is highly recommended. Without n, the implicit assumption is n is large (Inf) and the effect sizes are small (close to zero).\n",
      "\n",
      "\u001b[1m\u001b[4m\u001b[35mHINT:\u001b[39m\u001b[24m\u001b[22m For large R or large XtX, consider installing the Rfast package for better performance.\n",
      "\n",
      "Warning message in susie_suff_stat(XtX = R, Xty = z, n = 2, yty = 1, scaled_prior_variance = prior_variance, :\n",
      "\"IBSS algorithm did not converge in 100 iterations!\n",
      "                  Please check consistency between summary statistics and LD matrix.\n",
      "                  See https://stephenslab.github.io/susieR/articles/susierss_diagnostic.html\"\n"
     ]
    },
    {
     "data": {
      "image/png": "[encoded data removed]",
      "text/plain": [
       "plot without title"
      ]
     },
     "metadata": {
      "image/png": {
       "height": 420,
       "width": 420
      }
     },
     "output_type": "display_data"
    }
   ],
   "source": [
    "set.seed(1234)\n",
    "tmp = matrix(rnorm(500*1002), 500, 1002)\n",
    "eigenR = eigen(R)\n",
    "eigenR$values[eigenR$values < 1e-10] = 0\n",
    "X_ref = tmp %*% (eigenR$values * t(eigenR$vectors))\n",
    "R_ref = cor(X_ref)\n",
    "\n",
    "n_ref = 500\n",
    "fitted_rss_ref_corrected <-\n",
    "  susie_rss(z_scores, R_ref, z_ld_weight = 1 / n_ref, L = 10)\n",
    "susie_plot(fitted_rss_ref_corrected, y = \"PIP\", b = b)"
   ]
  },
  {
   "cell_type": "markdown",
   "id": "d1897a5d-faee-4967-9a8a-ac2d4ba02844",
   "metadata": {},
   "source": [
    "Through the above process, we identified two true variants: 337 and 999. Using the One Causal Variant method makes it difficult to detect the true variants. However, applying the Sum of Single Effects (SuSiE) model yields better results, as we were able to identify two CS, each containing one of the true variants.\n",
    "\n",
    "If we have genotype data, we can compute cor(X), and SuSiE regression with summary statistics is implemented as the susie_rss function. The results obtained using this method are consistent with those from SuSiE.\n",
    "\n",
    "If X is unknown, we can modify the LD matrix to obtain ref_X, which still helps in identifying the true variants. However, in this case, we were only able to detect variant 999, indicating that the method is less effective."
   ]
  },
  {
   "cell_type": "markdown",
   "id": "3c5b0084-ac02-4054-b667-d93d57e372b1",
   "metadata": {},
   "source": [
    "-------------------------------------------"
   ]
  },
  {
   "cell_type": "code",
   "execution_count": 87,
   "id": "0e037a23",
   "metadata": {
    "tags": []
   },
   "outputs": [
    {
     "data": {
      "text/plain": [
       "R version 4.3.1 (2023-06-16 ucrt)\n",
       "Platform: x86_64-w64-mingw32/x64 (64-bit)\n",
       "Running under: Windows 11 x64 (build 26100)\n",
       "\n",
       "Matrix products: default\n",
       "\n",
       "\n",
       "locale:\n",
       "[1] LC_COLLATE=Chinese (Simplified)_China.utf8 \n",
       "[2] LC_CTYPE=Chinese (Simplified)_China.utf8   \n",
       "[3] LC_MONETARY=Chinese (Simplified)_China.utf8\n",
       "[4] LC_NUMERIC=C                               \n",
       "[5] LC_TIME=Chinese (Simplified)_China.utf8    \n",
       "\n",
       "time zone: America/New_York\n",
       "tzcode source: internal\n",
       "\n",
       "attached base packages:\n",
       "[1] stats     graphics  grDevices utils     datasets  methods   base     \n",
       "\n",
       "other attached packages:\n",
       "[1] corrplot_0.95  susieR_0.12.35\n",
       "\n",
       "loaded via a namespace (and not attached):\n",
       " [1] Matrix_1.6-4      gtable_0.3.4      jsonlite_1.8.8    dplyr_1.1.4      \n",
       " [5] compiler_4.3.1    crayon_1.5.3      tidyselect_1.2.0  Rcpp_1.0.11      \n",
       " [9] IRdisplay_1.1     scales_1.3.0      uuid_1.2-1        fastmap_1.1.1    \n",
       "[13] IRkernel_1.3.2    lattice_0.21-8    ggplot2_3.5.1     R6_2.5.1         \n",
       "[17] plyr_1.8.9        generics_0.1.3    mixsqp_0.3-54     tibble_3.2.1     \n",
       "[21] munsell_0.5.0     pillar_1.9.0      rlang_1.1.2       utf8_1.2.4       \n",
       "[25] reshape_0.8.9     repr_1.1.7        cli_3.6.2         magrittr_2.0.3   \n",
       "[29] digest_0.6.37     grid_4.3.1        irlba_2.3.5.1     base64enc_0.1-3  \n",
       "[33] pbdZMQ_0.3-13     lifecycle_1.0.4   vctrs_0.6.5       evaluate_1.0.3   \n",
       "[37] glue_1.6.2        fansi_1.0.6       colorspace_2.1-0  matrixStats_1.2.0\n",
       "[41] tools_4.3.1       pkgconfig_2.0.3   htmltools_0.5.7  "
      ]
     },
     "metadata": {},
     "output_type": "display_data"
    }
   ],
   "source": [
    "sessionInfo()"
   ]
  }
 ],
 "metadata": {
  "authors": [
   {
    "name": "Contact: Gao Wang (wang.gao@columbia.edu)"
   }
  ],
  "kernelspec": {
   "display_name": "R",
   "language": "R",
   "name": "ir"
  },
  "language_info": {
   "codemirror_mode": "r",
   "file_extension": ".r",
   "mimetype": "text/x-r-source",
   "name": "R",
   "pygments_lexer": "r",
   "version": "4.3.1"
  },
  "title": "Statistical fine-mapping in genetics association studies"
 },
 "nbformat": 4,
 "nbformat_minor": 5
}
